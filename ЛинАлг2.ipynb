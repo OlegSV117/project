{
  "nbformat": 4,
  "nbformat_minor": 0,
  "metadata": {
    "colab": {
      "name": "ЛинАлг2.ipynb",
      "provenance": [],
      "collapsed_sections": [],
      "authorship_tag": "ABX9TyMDR3rjXLvs2UnisUhoru/K",
      "include_colab_link": true
    },
    "kernelspec": {
      "name": "python3",
      "display_name": "Python 3"
    },
    "language_info": {
      "name": "python"
    }
  },
  "cells": [
    {
      "cell_type": "markdown",
      "metadata": {
        "id": "view-in-github",
        "colab_type": "text"
      },
      "source": [
        "<a href=\"https://colab.research.google.com/github/OlegSV117/project/blob/dev-kraken/%D0%9B%D0%B8%D0%BD%D0%90%D0%BB%D0%B32.ipynb\" target=\"_parent\"><img src=\"https://colab.research.google.com/assets/colab-badge.svg\" alt=\"Open In Colab\"/></a>"
      ]
    },
    {
      "cell_type": "code",
      "metadata": {
        "id": "ChShz7s8KZfD"
      },
      "source": [
        ""
      ],
      "execution_count": null,
      "outputs": []
    },
    {
      "cell_type": "markdown",
      "metadata": {
        "id": "G70gzu2dKylJ"
      },
      "source": [
        "Все задания рекомендуется делать вручную, затем проверяя полученные результаты с использованием numpy.\n",
        "\n",
        "1. Установить, какие произведения матриц  𝐴𝐵  и  𝐵𝐴  определены, и найти размерности полученных матриц:\n",
        "\n",
        "а)  𝐴  — матрица  4×2 ,  𝐵  — матрица  4×2 ;\n",
        "\n",
        "**Ответ**: произведение невозможно так как $2 \\neq 4$\n",
        "\n",
        "\n",
        "б)  𝐴  — матрица  2×5 ,  𝐵  — матрица  5×3 ;\n",
        "\n",
        "**Ответ**: $(AB)_{2x3}$\n",
        "\n",
        "\n",
        "в)  𝐴  — матрица  8×3 ,  𝐵  — матрица  3×8 ;\n",
        "**Ответ**: $(AB)_{8x8}$\n",
        "\n",
        "\n",
        "г)  𝐴  — квадратная матрица  4×4 ,  𝐵  — квадратная матрица  4×4 .\n",
        "\n",
        "Ответ: $(AB)_{4x4}$"
      ]
    },
    {
      "cell_type": "markdown",
      "metadata": {
        "id": "G6tepWSQMVDF"
      },
      "source": [
        "    \n",
        "__2.__ Найти сумму и произведение матриц $A=\\begin{pmatrix}\n",
        "1 & -2\\\\ \n",
        "3 & 0\n",
        "\\end{pmatrix}$ и $B=\\begin{pmatrix}\n",
        "4 & -1\\\\ \n",
        "0 & 5\n",
        "\\end{pmatrix}.$\n",
        "\n",
        "**Решение**:$ A\\cdot B =  \\begin{pmatrix}\n",
        "4 & -11\\\\ \n",
        "12 & -3\n",
        "\\end{pmatrix} .$"
      ]
    },
    {
      "cell_type": "code",
      "metadata": {
        "colab": {
          "base_uri": "https://localhost:8080/"
        },
        "id": "xPm3MGhMOGmQ",
        "outputId": "05da5aef-52a4-4533-ac53-59e22bd4521d"
      },
      "source": [
        "A = np.array([[1, -2], [3, 0]])\n",
        "B = np.array ([[4, -1], [0, 5]])\n",
        "\n",
        "print(f'Матрица A\\n{A}')\n",
        "print(f'Матрица B\\n{B}')\n",
        "print(f'Матрица AB\\n{np.dot(A, B)}')"
      ],
      "execution_count": 4,
      "outputs": [
        {
          "output_type": "stream",
          "text": [
            "Матрица A\n",
            "[[ 1 -2]\n",
            " [ 3  0]]\n",
            "Матрица B\n",
            "[[ 4 -1]\n",
            " [ 0  5]]\n",
            "Матрица AB\n",
            "[[  4 -11]\n",
            " [ 12  -3]]\n"
          ],
          "name": "stdout"
        }
      ]
    },
    {
      "cell_type": "markdown",
      "metadata": {
        "id": "ELU4EoudOx0q"
      },
      "source": [
        "__3.__ Из закономерностей сложения и умножения матриц на число можно сделать вывод, что матрицы одного размера образуют линейное пространство. Вычислить линейную комбинацию $3A-2B+4C$ для матриц $A=\\begin{pmatrix}\n",
        "1 & 7\\\\ \n",
        "3 & -6\n",
        "\\end{pmatrix}$, $B=\\begin{pmatrix}\n",
        "0 & 5\\\\ \n",
        "2 & -1\n",
        "\\end{pmatrix}$, $C=\\begin{pmatrix}\n",
        "2 & -4\\\\ \n",
        "1 & 1\n",
        "\\end{pmatrix}.$\n",
        "\n",
        "**Решение**: $3A-2B+4C=\\begin{pmatrix}\n",
        "11 & -5\\\\ \n",
        "9 & -12\n",
        "\\end{pmatrix}$,"
      ]
    },
    {
      "cell_type": "code",
      "metadata": {
        "colab": {
          "base_uri": "https://localhost:8080/"
        },
        "id": "mCJ1HWXnPfJ9",
        "outputId": "34a2acbb-b030-4def-edce-6e5c3ce4e9e1"
      },
      "source": [
        "A = np.array([[1, 7], [3, -6]])\n",
        "B = np.array ([[0, 5], [2, -1]])\n",
        "C = np.array ([[2, -4], [1, 1]])\n",
        "\n",
        "print(f'Матрица A\\n{A}')\n",
        "print(f'Матрица B\\n{B}')\n",
        "print(f'Матрица C\\n{C}')\n",
        "print(f'Матрица 3𝐴−2𝐵+4𝐶 \\n{3*A + (-2)*B + 4*C}')"
      ],
      "execution_count": 8,
      "outputs": [
        {
          "output_type": "stream",
          "text": [
            "Матрица A\n",
            "[[ 1  7]\n",
            " [ 3 -6]]\n",
            "Матрица B\n",
            "[[ 0  5]\n",
            " [ 2 -1]]\n",
            "Матрица C\n",
            "[[ 2 -4]\n",
            " [ 1  1]]\n",
            "Матрица 3𝐴−2𝐵+4𝐶 \n",
            "[[ 11  -5]\n",
            " [  9 -12]]\n"
          ],
          "name": "stdout"
        }
      ]
    },
    {
      "cell_type": "markdown",
      "metadata": {
        "id": "a9qOEc9qQwDR"
      },
      "source": [
        "__4.__ Дана матрица $A=\\begin{pmatrix}\n",
        "4 & 1\\\\ \n",
        "5 & -2\\\\ \n",
        "2 & 3\n",
        "\\end{pmatrix}$.\n",
        "Вычислить $AA^{T}$ и $A^{T}A$.\n",
        "\n",
        "\n",
        "Решение:\n",
        "$A^T=\\begin{pmatrix}\n",
        "4 & 5 & 2\\\\ \n",
        "1 & -2 & 3\\\\ \n",
        "\\end{pmatrix}$."
      ]
    },
    {
      "cell_type": "code",
      "metadata": {
        "colab": {
          "base_uri": "https://localhost:8080/"
        },
        "id": "uqly6PFuTXFy",
        "outputId": "c5d15960-93a4-44ab-bef3-5dd20cef28c7"
      },
      "source": [
        "A = np.array([[4, 1], [5, -2], [2, 3]])\n",
        "print(f'Матрица A\\n{A}')\n",
        "print(f'Транспонированная матрица A\\n{A.T}')\n",
        "print(f'A*At\\n{np.dot(A, A.T)}')\n",
        "print(f'At*A\\n{np.dot(A.T, A)}')\n",
        "\n",
        "# print(f'A*At\\n{A.dot(A.T)}')"
      ],
      "execution_count": 20,
      "outputs": [
        {
          "output_type": "stream",
          "text": [
            "Матрица A\n",
            "[[ 4  1]\n",
            " [ 5 -2]\n",
            " [ 2  3]]\n",
            "Транспонированная матрица A\n",
            "[[ 4  5  2]\n",
            " [ 1 -2  3]]\n",
            "A*At\n",
            "[[17 18 11]\n",
            " [18 29  4]\n",
            " [11  4 13]]\n",
            "At*A\n",
            "[[45  0]\n",
            " [ 0 14]]\n"
          ],
          "name": "stdout"
        }
      ]
    },
    {
      "cell_type": "markdown",
      "metadata": {
        "id": "APeDlmh8IIL1"
      },
      "source": [
        "\n",
        "\n",
        "\n",
        "\n",
        "__5*.__ Написать на Python функцию для перемножения двух произвольных матриц, не используя NumPy."
      ]
    },
    {
      "cell_type": "code",
      "metadata": {
        "colab": {
          "base_uri": "https://localhost:8080/"
        },
        "id": "XKznmt09VZF6",
        "outputId": "9cb31642-937d-4ebe-a955-230242c2192b"
      },
      "source": [
        "\n",
        "import numpy as np\n",
        "\n",
        "A = np.array([[1, -2], [3, 0], [0, 5], [2, 5]])\n",
        "B = np.array([[4, -1, 4], [0, 5, 6]])\n",
        "\n",
        "def composition(A,B):\n",
        "    m= A.shape[0]\n",
        "    n= B.shape[1]\n",
        "    k = A.shape[1]\n",
        "    C = np.zeros((m,n)) \n",
        "    for i in range(0, m):\n",
        "      for j in range(0, n):\n",
        "        for ii in range(0, k):\n",
        "          C[i][j]+= A[i][ii]*B[ii][j]\n",
        "    return C\n",
        "\n",
        "\n",
        "print(f'Произведение матриц   при помощи функции composition \\n{composition (A,B)}')\n",
        "print(f'Произведение матриц при помощи стандартной функции .dot\\n{A.dot(B)}')"
      ],
      "execution_count": 28,
      "outputs": [
        {
          "output_type": "stream",
          "text": [
            "Произведение матриц   при помощи функции composition \n",
            "[[  4. -11.  -8.]\n",
            " [ 12.  -3.  12.]\n",
            " [  0.  25.  30.]\n",
            " [  8.  23.  38.]]\n",
            "Произведение матриц при помощи стандартной функции .dot\n",
            "[[  4 -11  -8]\n",
            " [ 12  -3  12]\n",
            " [  0  25  30]\n",
            " [  8  23  38]]\n"
          ],
          "name": "stdout"
        }
      ]
    },
    {
      "cell_type": "markdown",
      "metadata": {
        "id": "MucSh0DQzpnB"
      },
      "source": [
        "Все задания рекомендуется выполнять вручную, затем проверяя полученные результаты с использованием Numpy.\n",
        "\n",
        "__1.__ Вычислить определитель:\n",
        "\n",
        "   a)\n",
        "\n",
        "$$\\begin{vmatrix}\n",
        "sinx & -cosx\\\\ \n",
        "cosx & sinx\n",
        "\\end{vmatrix};$$\n",
        "Решение: detA = $sinx^2+cosx^2$ = 1"
      ]
    },
    {
      "cell_type": "code",
      "metadata": {
        "colab": {
          "base_uri": "https://localhost:8080/"
        },
        "id": "Emd1OKA-6dca",
        "outputId": "9f93f306-b9c3-4faf-c3ce-5be6ef62b981"
      },
      "source": [
        "import numpy as np\n",
        "import scipy.linalg\n",
        "x=1\n",
        "a = np.array([[np.sin(x), - np.cos(x)], [np.cos(x), np.sin(x)]])\n",
        "print(f'Матрица:\\n{a}')\n",
        "print(f'Определитель:\\n{np.linalg.det(a):.0f}')"
      ],
      "execution_count": 14,
      "outputs": [
        {
          "output_type": "stream",
          "text": [
            "Матрица:\n",
            "[[ 0.84147098 -0.54030231]\n",
            " [ 0.54030231  0.84147098]]\n",
            "Определитель:\n",
            "1\n"
          ],
          "name": "stdout"
        }
      ]
    },
    {
      "cell_type": "markdown",
      "metadata": {
        "id": "DPmm-Iy17PuO"
      },
      "source": [
        "   б)\n",
        "    \n",
        "$$\\begin{vmatrix}\n",
        "4 & 2 & 3\\\\ \n",
        "0 & 5 & 1\\\\ \n",
        "0 & 0 & 9\n",
        "\\end{vmatrix} = 4*5*9 = 180;$$"
      ]
    },
    {
      "cell_type": "code",
      "metadata": {
        "colab": {
          "base_uri": "https://localhost:8080/"
        },
        "id": "BKNvZ9HB7cTC",
        "outputId": "9afbb4c0-8594-445a-ebf2-0f12d018fa4e"
      },
      "source": [
        "a = np.array([[4,2,3], [0,5,1], [0,0,9]])\n",
        "print(f'Матрица:\\n{a}')\n",
        "print(f'Определитель:\\n{np.linalg.det(a):.0f}')"
      ],
      "execution_count": 15,
      "outputs": [
        {
          "output_type": "stream",
          "text": [
            "Матрица:\n",
            "[[4 2 3]\n",
            " [0 5 1]\n",
            " [0 0 9]]\n",
            "Определитель:\n",
            "180\n"
          ],
          "name": "stdout"
        }
      ]
    },
    {
      "cell_type": "markdown",
      "metadata": {
        "id": "GqwgRBNy7xWV"
      },
      "source": [
        "    \n",
        "   в)\n",
        "\n",
        "$$\\begin{vmatrix}\n",
        "1 & 2 & 3\\\\ \n",
        "4 & 5 & 6\\\\ \n",
        "7 & 8 & 9\n",
        "\\end{vmatrix} = 1*5*9+2*6*7+4*8*3 - 7*5*3- 1*8*6- 2*4*9$$"
      ]
    },
    {
      "cell_type": "code",
      "metadata": {
        "colab": {
          "base_uri": "https://localhost:8080/"
        },
        "id": "dWbhC0gl8Ko6",
        "outputId": "768de006-e6e0-45c2-ba47-1bd0a28241f3"
      },
      "source": [
        "print(1*5*9+2*6*7+4*8*3 - 7*5*3- 1*8*6- 2*4*9)\n",
        "\n",
        "a = np.array([[1,2,3], [4,5,6], [7,8,9]])\n",
        "print(f'Матрица:\\n{a}')\n",
        "print(f'Определитель:\\n{np.linalg.det(a):.0f}')"
      ],
      "execution_count": 19,
      "outputs": [
        {
          "output_type": "stream",
          "text": [
            "0\n",
            "Матрица:\n",
            "[[1 2 3]\n",
            " [4 5 6]\n",
            " [7 8 9]]\n",
            "Определитель:\n",
            "0\n"
          ],
          "name": "stdout"
        }
      ]
    },
    {
      "cell_type": "markdown",
      "metadata": {
        "id": "6DjtJ4a-8pv3"
      },
      "source": [
        "__2.__ Определитель матрицы $A$ равен $4$. Найти:\n",
        "\n",
        "   а) $det(A^{2})= (det(A))^{2}= 16$;\n",
        "    \n",
        "   б) $det(A^{T})= det(A)= 4$;\n",
        "    \n",
        "   в) $det(2A)= 2\\cdot det(A)= 8$."
      ]
    },
    {
      "cell_type": "markdown",
      "metadata": {
        "id": "0lGugk9h9Avh"
      },
      "source": [
        "__3.__  Доказать, что матрица\n",
        "\n",
        "$$\\begin{pmatrix}\n",
        "-2 & 7 & -3\\\\ \n",
        "4 & -14 & 6\\\\ \n",
        "-3 & 7 & 13\n",
        "\\end{pmatrix}$$\n",
        "   \n",
        "вырожденная."
      ]
    },
    {
      "cell_type": "code",
      "metadata": {
        "colab": {
          "base_uri": "https://localhost:8080/"
        },
        "id": "BnwzTUko9IWr",
        "outputId": "b36fff7e-5edc-4d69-c553-7bb0d4679dc0"
      },
      "source": [
        "a = np.array([[-2, 7, -3], [4, -14, 6], [-3, 7, 13]])\n",
        "print(f'Матрица:\\n{a}')\n",
        "print(f'Определитель:\\n{np.linalg.det(a):.0f}')"
      ],
      "execution_count": 21,
      "outputs": [
        {
          "output_type": "stream",
          "text": [
            "Матрица:\n",
            "[[ -2   7  -3]\n",
            " [  4 -14   6]\n",
            " [ -3   7  13]]\n",
            "Определитель:\n",
            "0\n"
          ],
          "name": "stdout"
        }
      ]
    },
    {
      "cell_type": "markdown",
      "metadata": {
        "id": "AgMHIRyA9Y9u"
      },
      "source": [
        "__4.__ Найти ранг матрицы:\n",
        "\n",
        "   а) $\\begin{pmatrix}\n",
        "1 & 2 & 3\\\\ \n",
        "1 & 1 & 1\\\\ \n",
        "2 & 3 & 4\n",
        "\\end{pmatrix};$\n",
        "\n",
        "\n",
        "**Решение:** rank(A) = 2 так как 1 и 3 строка линейно зависимы, определитель мвтрицы 2х2 не равен нулю"
      ]
    },
    {
      "cell_type": "code",
      "metadata": {
        "colab": {
          "base_uri": "https://localhost:8080/"
        },
        "id": "OXh70gnv9_jd",
        "outputId": "79912261-1196-4a92-ffad-a1e8be106be4"
      },
      "source": [
        "a = np.array([[1,2,3],[1,1,1],[2,3,4]])\n",
        "r = np.linalg.matrix_rank(a)\n",
        "\n",
        "print(f'Ранг матрицы: {r}')"
      ],
      "execution_count": 24,
      "outputs": [
        {
          "output_type": "stream",
          "text": [
            "Ранг матрицы: 2\n"
          ],
          "name": "stdout"
        }
      ]
    },
    {
      "cell_type": "markdown",
      "metadata": {
        "id": "aOeCeJ_n-tY1"
      },
      "source": [
        "\n",
        "   б) $\\begin{pmatrix}\n",
        "0 & 0 & 2 & 1\\\\ \n",
        "0 & 0 & 2 & 2\\\\ \n",
        "0 & 0 & 4 & 3\\\\ \n",
        "2 & 3 & 5 & 6\n",
        "\\end{pmatrix}.$\n",
        "\n",
        "**Решение:** rank(A) = 3 так как 4 четвертая строка является лин комбинацей   1 и 2 строка. остальные строки линейно независимы (минор 3-его порядка  не равен 0)"
      ]
    },
    {
      "cell_type": "code",
      "metadata": {
        "colab": {
          "base_uri": "https://localhost:8080/"
        },
        "id": "tOLKxyEbBBDz",
        "outputId": "41e38707-1f46-413f-db7b-7850c2bad611"
      },
      "source": [
        "a = np.array([[0,0,2,2],[0,0,2,2],[0,0,4,3], [2,3,5,6]])\n",
        "r = np.linalg.matrix_rank(a)\n",
        "\n",
        "print(f'Ранг матрицы: {r}')"
      ],
      "execution_count": 25,
      "outputs": [
        {
          "output_type": "stream",
          "text": [
            "Ранг матрицы: 3\n"
          ],
          "name": "stdout"
        }
      ]
    }
  ]
}