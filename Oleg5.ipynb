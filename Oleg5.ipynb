{
  "nbformat": 4,
  "nbformat_minor": 0,
  "metadata": {
    "colab": {
      "name": "Oleg5.ipynb",
      "provenance": [],
      "collapsed_sections": [],
      "authorship_tag": "ABX9TyMBpxOvQsoClnENCz1trFK3",
      "include_colab_link": true
    },
    "kernelspec": {
      "name": "python3",
      "display_name": "Python 3"
    }
  },
  "cells": [
    {
      "cell_type": "markdown",
      "metadata": {
        "id": "view-in-github",
        "colab_type": "text"
      },
      "source": [
        "<a href=\"https://colab.research.google.com/github/OlegSV117/project/blob/dev-kraken/Oleg5.ipynb\" target=\"_parent\"><img src=\"https://colab.research.google.com/assets/colab-badge.svg\" alt=\"Open In Colab\"/></a>"
      ]
    },
    {
      "cell_type": "markdown",
      "metadata": {
        "id": "Kk5Y2Dx2Dfch"
      },
      "source": [
        "Тема “Элементы теории вероятностей”\n",
        "1. Напишите код, моделирующий выпадение поля в рулетке (с учетом поля зеро)."
      ]
    },
    {
      "cell_type": "code",
      "metadata": {
        "id": "UkkLi2whDfcg"
      },
      "source": [
        "%matplotlib inline\n",
        "import numpy as np\n",
        "import matplotlib.pyplot as plt\n",
        "import math\n",
        "import itertools\n"
      ],
      "execution_count": 41,
      "outputs": []
    },
    {
      "cell_type": "code",
      "metadata": {
        "id": "edsaPeERJG2x",
        "colab": {
          "base_uri": "https://localhost:8080/"
        },
        "outputId": "b25056b6-4648-444c-f0c3-d78b98e8ac6b"
      },
      "source": [
        "  a = np.random.randint(0, 37)\n",
        "  print(a)"
      ],
      "execution_count": null,
      "outputs": [
        {
          "output_type": "stream",
          "text": [
            "25\n"
          ],
          "name": "stdout"
        }
      ]
    },
    {
      "cell_type": "markdown",
      "metadata": {
        "id": "QFrp2goXCCK-"
      },
      "source": [
        "2. \n",
        "1) Напишите код, проверяющий любую из теорем сложения или умножения вероятности на примере рулетки или подбрасывания монетки."
      ]
    },
    {
      "cell_type": "code",
      "metadata": {
        "colab": {
          "base_uri": "https://localhost:8080/"
        },
        "id": "kEVtySIoEyVr",
        "outputId": "c99e36b0-f7b0-47a0-8e3d-1f0248da9cba"
      },
      "source": [
        "#проверяем теорему умножения вероятностей независимых СВ\n",
        "ak,bk,ck, n = 0,0,0, 1000\n",
        "#  Событие А - выпадает 13, Событие В - выпадает 24, Событие (А*В) – выпадает либо 1324 либо 2413\n",
        "a = np.random.randint(0, 37, n)\n",
        "b = np.random.randint(0, 37, n)\n",
        "c = np.random.randint(0, 37, 2*n)\n",
        "for i in range(0, n):\n",
        "    if a[i] == 13:\n",
        "      ak = ak + 1\n",
        "    if  b[i] == 24:\n",
        "      bk=bk + 1\n",
        "for i in range(0, 2*n-1):\n",
        "    if (c[i]==13 and c[i+1]==24) or(c[i]==24 and c[i+1]==13) :\n",
        "      ck=ck + 1\n",
        "print(round((ak/n)* (bk/n), 4), round(ck/(2*n),4) )"
      ],
      "execution_count": 37,
      "outputs": [
        {
          "output_type": "stream",
          "text": [
            "0.0009 0.001\n"
          ],
          "name": "stdout"
        }
      ]
    },
    {
      "cell_type": "markdown",
      "metadata": {
        "id": "eC6DxcY7COcS"
      },
      "source": [
        "2. \n",
        "2) Сгенерируйте десять выборок случайных чисел х0, …, х9.\n",
        "и постройте гистограмму распределения случайной суммы х0+х1+ …+ х9."
      ]
    },
    {
      "cell_type": "code",
      "metadata": {
        "colab": {
          "base_uri": "https://localhost:8080/",
          "height": 312
        },
        "id": "9LhT4EicSXcA",
        "outputId": "47aef682-261c-49ba-b521-2b746e0fcc13"
      },
      "source": [
        "xx=[]\n",
        "for i in range(0,10000):\n",
        "  x = np.random.rand(10)\n",
        "  xx.append(sum(x))\n",
        "num_bins = 40\n",
        "n, bins, patches = plt.hist(xx, num_bins)\n",
        "plt.xlabel('x')\n",
        "plt.ylabel('Probability')\n",
        "plt.title('Histogram')"
      ],
      "execution_count": 62,
      "outputs": [
        {
          "output_type": "execute_result",
          "data": {
            "text/plain": [
              "Text(0.5, 1.0, 'Histogram')"
            ]
          },
          "metadata": {
            "tags": []
          },
          "execution_count": 62
        },
        {
          "output_type": "display_data",
          "data": {
            "image/png": "[encoded data removed]",
            "text/plain": [
              "<Figure size 432x288 with 1 Axes>"
            ]
          },
          "metadata": {
            "tags": [],
            "needs_background": "light"
          }
        }
      ]
    },
    {
      "cell_type": "markdown",
      "metadata": {
        "id": "zTigphJDlQys"
      },
      "source": [
        "3.\n",
        "1)Дополните код Монте-Карло последовательности независимых испытаний расчетом соответствующих вероятностей (через биномиальное распределение) \n",
        "и сравните результаты.\n"
      ]
    },
    {
      "cell_type": "code",
      "metadata": {
        "colab": {
          "base_uri": "https://localhost:8080/"
        },
        "id": "Xfj11qePlhZ1",
        "outputId": "5d9340a1-fc89-48a8-b40e-9cb398ef3b2b"
      },
      "source": [
        "k, n = 0, 10000\n",
        "a = np.random.randint(0, 2, n)\n",
        "b = np.random.randint(0, 2, n)\n",
        "c = np.random.randint(0, 2, n)\n",
        "d = np.random.randint(0, 2, n)\n",
        "x = a + b + c + d\n",
        "for i in range(0, n):\n",
        "    if x[i] == 2:\n",
        "        k = k + 1\n",
        "#Вычисляем аналитически: p(k=2) = C2/4 (1/2)**2 * (1/2)**2=4!/(2!*2!) *(1/2)**4 = (2*3*4/2*2)*2(-4)=6/(2**4)\n",
        "print(6/(2**4))\n",
        "#Вычисляем через формулу\n",
        "kk=2\n",
        "nn=4\n",
        "p= math.factorial(nn)/(math.factorial(kk) *  math.factorial(nn-kk))*(1/2)**(kk) *(1/2)**(nn-kk)\n",
        "print(f\"p={p}\")\n",
        "\n",
        "print(k, n, k/n)"
      ],
      "execution_count": 10,
      "outputs": [
        {
          "output_type": "stream",
          "text": [
            "0.375\n",
            "p=0.375\n",
            "3769 10000 0.3769\n"
          ],
          "name": "stdout"
        }
      ]
    },
    {
      "cell_type": "markdown",
      "metadata": {
        "id": "3Z-WDPmIlZVI"
      },
      "source": [
        "3.\n",
        "2) Повторите расчеты биномиальных коэффициентов и вероятностей k успехов в последовательности из n независимых испытаний, взяв другие значения n и k."
      ]
    },
    {
      "cell_type": "code",
      "metadata": {
        "colab": {
          "base_uri": "https://localhost:8080/"
        },
        "id": "Toc8umJspu6D",
        "outputId": "6336a7ce-84a7-4bca-c495-462e8af01c5d"
      },
      "source": [
        "k, n = 0, 10000\n",
        "kk=3\n",
        "nn=5\n",
        "a = np.random.randint(0, 2, n)\n",
        "b = np.random.randint(0, 2, n)\n",
        "c = np.random.randint(0, 2, n)\n",
        "d = np.random.randint(0, 2, n)\n",
        "e = np.random.randint(0, 2, n)\n",
        "x = a + b + c + d + e\n",
        "for i in range(0, n):\n",
        "    if x[i] == kk:\n",
        "        k = k + 1\n",
        "#Вычисляем через формулу\n",
        "p= math.factorial(nn)/(math.factorial(kk) *  math.factorial(nn-kk))*(1/2)**(kk) *(1/2)**(nn-kk)\n",
        "print(f\"p={p}\")\n",
        "\n",
        "print(k, n, k/n)"
      ],
      "execution_count": 12,
      "outputs": [
        {
          "output_type": "stream",
          "text": [
            "p=0.3125\n",
            "3110 10000 0.311\n"
          ],
          "name": "stdout"
        }
      ]
    },
    {
      "cell_type": "markdown",
      "metadata": {
        "id": "5aodF_Naqm8f"
      },
      "source": [
        "4. Из урока по комбинаторике повторите расчеты, сгенерировав возможные варианты перестановок для других значений n и k"
      ]
    },
    {
      "cell_type": "markdown",
      "metadata": {
        "id": "0WcbzfvZ8F2k"
      },
      "source": [
        "размещения\n"
      ]
    },
    {
      "cell_type": "code",
      "metadata": {
        "colab": {
          "base_uri": "https://localhost:8080/"
        },
        "id": "OhXM-moo8Mif",
        "outputId": "e03baa98-5b8a-44ad-ee52-4bcd08a34fc0"
      },
      "source": [
        "# Число размещений из \"0123\" по 2\n",
        "for p in itertools.permutations(\"0123\",2):\n",
        "    print(''.join(str(x) for x in p))"
      ],
      "execution_count": 28,
      "outputs": [
        {
          "output_type": "stream",
          "text": [
            "01\n",
            "02\n",
            "03\n",
            "10\n",
            "12\n",
            "13\n",
            "20\n",
            "21\n",
            "23\n",
            "30\n",
            "31\n",
            "32\n"
          ],
          "name": "stdout"
        }
      ]
    },
    {
      "cell_type": "code",
      "metadata": {
        "colab": {
          "base_uri": "https://localhost:8080/"
        },
        "id": "ZOILGVLt_Hmk",
        "outputId": "951b00cf-fbda-4c92-d4b2-b37fe9b45b56"
      },
      "source": [
        "# Число размещений из \"ab\" по 2\n",
        "for p in itertools.permutations(\"ab\",2):\n",
        "    print(''.join(str(x) for x in p))"
      ],
      "execution_count": 31,
      "outputs": [
        {
          "output_type": "stream",
          "text": [
            "ab\n",
            "ba\n"
          ],
          "name": "stdout"
        }
      ]
    },
    {
      "cell_type": "code",
      "metadata": {
        "colab": {
          "base_uri": "https://localhost:8080/"
        },
        "id": "iuqndtfL8qQ6",
        "outputId": "f31c9acf-3bac-47e6-aaf5-9e8d4b4cd7b6"
      },
      "source": [
        "# Число перестановок из \"0123\" по 4\n",
        "for p in itertools.permutations(\"0123\",4):\n",
        "    print(''.join(str(x) for x in p))"
      ],
      "execution_count": 33,
      "outputs": [
        {
          "output_type": "stream",
          "text": [
            "0123\n",
            "0132\n",
            "0213\n",
            "0231\n",
            "0312\n",
            "0321\n",
            "1023\n",
            "1032\n",
            "1203\n",
            "1230\n",
            "1302\n",
            "1320\n",
            "2013\n",
            "2031\n",
            "2103\n",
            "2130\n",
            "2301\n",
            "2310\n",
            "3012\n",
            "3021\n",
            "3102\n",
            "3120\n",
            "3201\n",
            "3210\n"
          ],
          "name": "stdout"
        }
      ]
    },
    {
      "cell_type": "code",
      "metadata": {
        "colab": {
          "base_uri": "https://localhost:8080/"
        },
        "id": "9HLu9YFZ89Jv",
        "outputId": "070e2f76-05b1-4780-a1c1-3baf05b3241f"
      },
      "source": [
        "# Число сочетаний из \"0123\" по 2\n",
        "for p in itertools.combinations(\"0123\",2):\n",
        "    print(''.join(p))"
      ],
      "execution_count": 25,
      "outputs": [
        {
          "output_type": "stream",
          "text": [
            "01\n",
            "02\n",
            "03\n",
            "12\n",
            "13\n",
            "23\n"
          ],
          "name": "stdout"
        }
      ]
    },
    {
      "cell_type": "code",
      "metadata": {
        "colab": {
          "base_uri": "https://localhost:8080/"
        },
        "id": "hzMtz-QY_ioz",
        "outputId": "a672e869-b1c7-4427-8d62-f1cc08a47460"
      },
      "source": [
        "for p in itertools.combinations(\"abc\",2):\n",
        "    print(''.join(p))"
      ],
      "execution_count": 35,
      "outputs": [
        {
          "output_type": "stream",
          "text": [
            "ab\n",
            "ac\n",
            "bc\n"
          ],
          "name": "stdout"
        }
      ]
    },
    {
      "cell_type": "code",
      "metadata": {
        "colab": {
          "base_uri": "https://localhost:8080/"
        },
        "id": "LkhmsTOV9YWo",
        "outputId": "0e1b501a-b6d9-4500-9588-595283848f32"
      },
      "source": [
        "# Декартово произведение\n",
        "for p in itertools.product(\"ab\",repeat=3):\n",
        "    print(''.join(p))   "
      ],
      "execution_count": 36,
      "outputs": [
        {
          "output_type": "stream",
          "text": [
            "aaa\n",
            "aab\n",
            "aba\n",
            "abb\n",
            "baa\n",
            "bab\n",
            "bba\n",
            "bbb\n"
          ],
          "name": "stdout"
        }
      ]
    },
    {
      "cell_type": "markdown",
      "metadata": {
        "id": "05qIXtUPIqWy"
      },
      "source": [
        "5. Дополните код расчетом коэффициента корреляции x и y по формуле \n",
        "\n"
      ]
    },
    {
      "cell_type": "code",
      "metadata": {
        "colab": {
          "base_uri": "https://localhost:8080/",
          "height": 418
        },
        "id": "0XX2AN7eDdw2",
        "outputId": "fd04cbaf-77fe-4146-f280-6da85be2934a"
      },
      "source": [
        "# Линейная регрессия\n",
        "n = 100\n",
        "r = 0.7\n",
        "x = np.random.rand(n)\n",
        "y = r*x + (1 - r)*np.random.rand(n)\n",
        "plt.plot(x, y, 'o')\n",
        "plt.xlabel('x')\n",
        "plt.ylabel('y')\n",
        "plt.grid(True)\n",
        "# вычисляем коэффициент корреляции\n",
        "c = np.corrcoef(x, y)\n",
        "print(c)\n",
        "xm=np.sum(x)/n\n",
        "ym=np.sum(y)/n\n",
        "R=np.sum((x-xm)*(y-ym))/(np.sum((x-xm)**2)*np.sum((y-ym)**2))**(1/2)\n",
        "print(f\"Xm={xm}, Ym={ym}, R={R}\")\n",
        "a = (np.sum(x)*np.sum(y) - n*np.sum(x*y))/(np.sum(x)*np.sum(x) - n*np.sum(x*x))\n",
        "b = (np.sum(y) - a*np.sum(x))/n\n",
        "\n",
        "A = np.vstack([x, np.ones(len(x))]).T\n",
        "a1, b1 = np.linalg.lstsq(A, y)[0]\n",
        "print(a, b)\n",
        "print(a1, b1)\n",
        "plt.plot([0, 1], [b, a + b])\n",
        "plt.show()\n",
        "\n",
        "\n"
      ],
      "execution_count": 55,
      "outputs": [
        {
          "output_type": "stream",
          "text": [
            "[[1.         0.93159589]\n",
            " [0.93159589 1.        ]]\n",
            "Xm=0.49831496098890293, Ym=0.49502221560682735, R=0.9315958886670368\n",
            "0.7511542699578306 0.12071080487614311\n",
            "0.7511542699578312 0.12071080487614248\n"
          ],
          "name": "stdout"
        },
        {
          "output_type": "stream",
          "text": [
            "/usr/local/lib/python3.7/dist-packages/ipykernel_launcher.py:22: FutureWarning: `rcond` parameter will change to the default of machine precision times ``max(M, N)`` where M and N are the input matrix dimensions.\n",
            "To use the future default and silence this warning we advise to pass `rcond=None`, to keep using the old, explicitly pass `rcond=-1`.\n"
          ],
          "name": "stderr"
        },
        {
          "output_type": "display_data",
          "data": {
            "image/png": "[encoded data removed]",
            "text/plain": [
              "<Figure size 432x288 with 1 Axes>"
            ]
          },
          "metadata": {
            "tags": [],
            "needs_background": "light"
          }
        }
      ]
    }
  ]
}