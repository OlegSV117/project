{
  "nbformat": 4,
  "nbformat_minor": 0,
  "metadata": {
    "colab": {
      "name": "TV8.ipynb\"",
      "provenance": [],
      "collapsed_sections": [],
      "include_colab_link": true
    },
    "kernelspec": {
      "display_name": "Python 3",
      "language": "python",
      "name": "python3"
    }
  },
  "cells": [
    {
      "cell_type": "markdown",
      "metadata": {
        "id": "view-in-github",
        "colab_type": "text"
      },
      "source": [
        "<a href=\"https://colab.research.google.com/github/OlegSV117/project/blob/dev-kraken/TV8_ipynb%22.ipynb\" target=\"_parent\"><img src=\"https://colab.research.google.com/assets/colab-badge.svg\" alt=\"Open In Colab\"/></a>"
      ]
    },
    {
      "cell_type": "markdown",
      "metadata": {
        "id": "-H0TfXEAVV-c"
      },
      "source": [
        "## Урок 8. Дисперсионный анализ. Логистическая регрессия"
      ]
    },
    {
      "cell_type": "markdown",
      "metadata": {
        "id": "knjjLYonav3Q"
      },
      "source": [
        "1. Провести дисперсионный анализ для определения того, есть ли различия среднего роста среди взрослых футболистов, хоккеистов и штангистов. Даны значения роста в трех группах случайно выбранных спортсменов: Футболисты: 173, 175, 180, 178, 177, 185, 183, 182. Хоккеисты: 177, 179, 180, 188, 177, 172, 171, 184, 180. Штангисты: 172, 173, 169, 177, 166, 180, 178, 177, 172, 166, 170.\n"
      ]
    },
    {
      "cell_type": "code",
      "metadata": {
        "id": "8kLkCTNMVWBL",
        "colab": {
          "base_uri": "https://localhost:8080/"
        },
        "outputId": "5747e8ab-a6d9-421f-f8fa-054dc47812b9"
      },
      "source": [
        "import numpy as np\n",
        "from scipy import stats\n",
        "x = np.array([173, 175, 180, 178, 177, 185, 183, 182], dtype=np.float64)\n",
        "y = np.array([177, 179, 180, 188, 177, 172, 171, 184,180], dtype=np.float64)\n",
        "z = np.array([172, 173, 169, 177, 166, 180, 178, 177, 172, 166, 170], dtype=np.float64)\n",
        "stats.f_oneway(x,y,z)"
      ],
      "execution_count": 10,
      "outputs": [
        {
          "output_type": "execute_result",
          "data": {
            "text/plain": [
              "F_onewayResult(statistic=5.06961762671673, pvalue=0.014571002760548974)"
            ]
          },
          "metadata": {
            "tags": []
          },
          "execution_count": 10
        }
      ]
    },
    {
      "cell_type": "markdown",
      "metadata": {
        "id": "0K3H_sCle1pJ"
      },
      "source": [
        "Значение  $F_H$ превышает $F_{крит}$ = **3,38** из таблицы критических точек распределения Фишера-Снедекора ( <a href = \"https://www.matburo.ru/tv/table_fisher.pdf\">Распределение Фишера–Снедекора (F-распределение)</a>) для заданного уровня значимости $\\alpha$ = 0.05 двух степеней свободы $df_{межд} = k - 1$ = **2** (относится к числителю соотношения) и $df_{внутр} = n - k$ = 28-3=**25**(относится к знаменателю), что видно и по pvalue=0.014<$\\alpha$ = 0.05\n",
        "\n",
        "Выборки имеют разные средние значения – различия среднего роста среди взрослых футболистов, хоккеистов и штангистов ЕСТЬ для $\\alpha$ = 0.05!"
      ]
    }
  ]
}