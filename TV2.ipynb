{
  "nbformat": 4,
  "nbformat_minor": 0,
  "metadata": {
    "colab": {
      "name": "TV2.ipynb",
      "provenance": [],
      "collapsed_sections": [],
      "authorship_tag": "ABX9TyOFO7XCNWpksV1n4vVHRWR2",
      "include_colab_link": true
    },
    "kernelspec": {
      "name": "python3",
      "display_name": "Python 3"
    },
    "language_info": {
      "name": "python"
    }
  },
  "cells": [
    {
      "cell_type": "markdown",
      "metadata": {
        "id": "view-in-github",
        "colab_type": "text"
      },
      "source": [
        "<a href=\"https://colab.research.google.com/github/OlegSV117/project/blob/dev-kraken/TV2.ipynb\" target=\"_parent\"><img src=\"https://colab.research.google.com/assets/colab-badge.svg\" alt=\"Open In Colab\"/></a>"
      ]
    },
    {
      "cell_type": "markdown",
      "metadata": {
        "id": "KZBtYEi9jbJL"
      },
      "source": [
        ""
      ]
    },
    {
      "cell_type": "markdown",
      "metadata": {
        "id": "h_Mi-POTksdu"
      },
      "source": [
        "Урок 2. Дискретные случайные величины. Закон распределения вероятностей. Биномиальный закон распределения. Распределение Пуассона"
      ]
    },
    {
      "cell_type": "markdown",
      "metadata": {
        "id": "QdwloOHxji5L"
      },
      "source": [
        "1.Вероятность того, что стрелок попадет в мишень, выстрелив один раз, равна 0.8. Стрелок выстрелил 100 раз. Найдите вероятность того, что стрелок попадет в цель ровно 85 раз."
      ]
    },
    {
      "cell_type": "markdown",
      "metadata": {
        "id": "_1mJ7bpVkszU"
      },
      "source": [
        "Решаем по схеме Бернулли, так как вероятность единичного события велитка (p=0.08)\n",
        "\n"
      ]
    },
    {
      "cell_type": "code",
      "metadata": {
        "id": "huHpcfQBjdov"
      },
      "source": [
        "from math import factorial\n",
        "def combinations(n, k):\n",
        "    return int(factorial(n) / (factorial(k) * factorial(n - k)))"
      ],
      "execution_count": 24,
      "outputs": []
    },
    {
      "cell_type": "code",
      "metadata": {
        "colab": {
          "base_uri": "https://localhost:8080/"
        },
        "id": "lJvAk5i8kBY2",
        "outputId": "0db94195-767d-45c6-de05-16eaa1cfaef6"
      },
      "source": [
        "n = 100\n",
        "k = 85\n",
        "p = 0.8\n",
        "combinations(n, k) * (p ** k) * (1 - p) ** (n - k)"
      ],
      "execution_count": 25,
      "outputs": [
        {
          "output_type": "execute_result",
          "data": {
            "text/plain": [
              "0.048061793700746355"
            ]
          },
          "metadata": {
            "tags": []
          },
          "execution_count": 25
        }
      ]
    },
    {
      "cell_type": "markdown",
      "metadata": {
        "id": "WBNih4jamrVo"
      },
      "source": [
        "2.Вероятность того, что лампочка перегорит в течение первого дня эксплуатации, равна 0.0004. В жилом комплексе после ремонта в один день включили 5000 новых лампочек. Какова вероятность, что ни одна из них не перегорит в первый день?"
      ]
    },
    {
      "cell_type": "markdown",
      "metadata": {
        "id": "_Evux960k7SX"
      },
      "source": [
        "Решаем по схеме Бернулли, так как вероятность обратного единичного события велитка (p=1-0.0004)"
      ]
    },
    {
      "cell_type": "code",
      "metadata": {
        "id": "THAXHK2ImDvL"
      },
      "source": [
        "from math import factorial"
      ],
      "execution_count": 26,
      "outputs": []
    },
    {
      "cell_type": "code",
      "metadata": {
        "colab": {
          "base_uri": "https://localhost:8080/"
        },
        "id": "FEeLNbCIlZD6",
        "outputId": "49e93eff-4303-49b0-9d13-86b119e5c316"
      },
      "source": [
        "n = 5000\n",
        "k = 5000\n",
        "p = 1-0.0004\n",
        "1-combinations(n, k) * (p ** k) * (1 - p) ** (n - k)"
      ],
      "execution_count": 27,
      "outputs": [
        {
          "output_type": "execute_result",
          "data": {
            "text/plain": [
              "0.8647188544855929"
            ]
          },
          "metadata": {
            "tags": []
          },
          "execution_count": 27
        }
      ]
    },
    {
      "cell_type": "markdown",
      "metadata": {
        "id": "oIK7GqKatdTL"
      },
      "source": [
        "Какова вероятность, что перегорят ровно две?\n",
        "\n"
      ]
    },
    {
      "cell_type": "code",
      "metadata": {
        "colab": {
          "base_uri": "https://localhost:8080/"
        },
        "id": "yLdSThimtYN5",
        "outputId": "7794b5e2-5414-40c5-9737-c6d6a677140f"
      },
      "source": [
        "import numpy as np\n",
        "n = 5000\n",
        "m = 2\n",
        "p = 0.0004\n",
        "lambda_ = n * p\n",
        "\n",
        "(lambda_**m / np.math.factorial(m)) * np.exp(-lambda_)"
      ],
      "execution_count": 28,
      "outputs": [
        {
          "output_type": "execute_result",
          "data": {
            "text/plain": [
              "0.2706705664732254"
            ]
          },
          "metadata": {
            "tags": []
          },
          "execution_count": 28
        }
      ]
    },
    {
      "cell_type": "markdown",
      "metadata": {
        "id": "NExauxK0xn8L"
      },
      "source": [
        "3. Монету подбросили 144 раза. Какова вероятность, что орел выпадет ровно 70 раз?"
      ]
    },
    {
      "cell_type": "code",
      "metadata": {
        "colab": {
          "base_uri": "https://localhost:8080/"
        },
        "id": "sqwwVXdoy_ye",
        "outputId": "67a17b4c-6db8-48bf-b6b9-9eb1c4059259"
      },
      "source": [
        "n = 144\n",
        "k = 70\n",
        "p = 1/2\n",
        "combinations(n, k) * (p ** k) * (1 - p) ** (n - k)"
      ],
      "execution_count": 29,
      "outputs": [
        {
          "output_type": "execute_result",
          "data": {
            "text/plain": [
              "0.06281178035144776"
            ]
          },
          "metadata": {
            "tags": []
          },
          "execution_count": 29
        }
      ]
    },
    {
      "cell_type": "markdown",
      "metadata": {
        "id": "aUMO1ruGzo4e"
      },
      "source": [
        "**Странно, почуму получилась такая маленькая вероятность????**\n"
      ]
    },
    {
      "cell_type": "markdown",
      "metadata": {
        "id": "0BjduOHv0g7Y"
      },
      "source": [
        "4.В первом ящике находится 10 мячей, из которых 7 - белые. Во втором ящике - 11 мячей, из которых 9 белых. Из каждого ящика вытаскивают случайным образом по два мяча. Какова вероятность того, что все мячи белые? Какова вероятность того, что ровно два мяча белые? Какова вероятность того, что хотя бы один мяч белый?"
      ]
    },
    {
      "cell_type": "markdown",
      "metadata": {
        "id": "Z-CwKD2aujYh"
      },
      "source": [
        "Решаем через произведение независимых событий:"
      ]
    },
    {
      "cell_type": "code",
      "metadata": {
        "id": "aTGRqFK4un1o"
      },
      "source": [
        ""
      ],
      "execution_count": null,
      "outputs": []
    },
    {
      "cell_type": "code",
      "metadata": {
        "colab": {
          "base_uri": "https://localhost:8080/"
        },
        "id": "UI-F7M2fs_hX",
        "outputId": "6a185c48-ff82-4ad6-cd78-4e9ddb00e62c"
      },
      "source": [
        "(7/10) * (6/9) * (9/11) * (8/10)"
      ],
      "execution_count": 30,
      "outputs": [
        {
          "output_type": "execute_result",
          "data": {
            "text/plain": [
              "0.3054545454545454"
            ]
          },
          "metadata": {
            "tags": []
          },
          "execution_count": 30
        }
      ]
    },
    {
      "cell_type": "markdown",
      "metadata": {
        "id": "xx1kMHZSuXOk"
      },
      "source": [
        "Но можно решить и через сочетания:"
      ]
    },
    {
      "cell_type": "code",
      "metadata": {
        "colab": {
          "base_uri": "https://localhost:8080/"
        },
        "id": "vARFWkqMuBKZ",
        "outputId": "5af5ad72-261d-409c-a2ba-006be69e921e"
      },
      "source": [
        "combinations(7, 2)/ combinations(10, 2) * combinations(9, 2)/ combinations(11, 2)"
      ],
      "execution_count": 31,
      "outputs": [
        {
          "output_type": "execute_result",
          "data": {
            "text/plain": [
              "0.3054545454545455"
            ]
          },
          "metadata": {
            "tags": []
          },
          "execution_count": 31
        }
      ]
    }
  ]
}