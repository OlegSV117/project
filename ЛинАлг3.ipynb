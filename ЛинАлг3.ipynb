{
  "nbformat": 4,
  "nbformat_minor": 0,
  "metadata": {
    "colab": {
      "name": "ЛинАлг3.ipynb",
      "provenance": [],
      "collapsed_sections": [],
      "authorship_tag": "ABX9TyP/OiOlSykwvbVKkARWezyC",
      "include_colab_link": true
    },
    "kernelspec": {
      "name": "python3",
      "display_name": "Python 3"
    },
    "language_info": {
      "name": "python"
    }
  },
  "cells": [
    {
      "cell_type": "markdown",
      "metadata": {
        "id": "view-in-github",
        "colab_type": "text"
      },
      "source": [
        "<a href=\"https://colab.research.google.com/github/OlegSV117/project/blob/dev-kraken/%D0%9B%D0%B8%D0%BD%D0%90%D0%BB%D0%B33.ipynb\" target=\"_parent\"><img src=\"https://colab.research.google.com/assets/colab-badge.svg\" alt=\"Open In Colab\"/></a>"
      ]
    },
    {
      "cell_type": "markdown",
      "metadata": {
        "id": "WOmcGZu_lveb"
      },
      "source": [
        "__1.__ Найти собственные векторы и собственные значения для линейного оператора, заданного матрицей\n",
        "\n",
        "$$A=\\begin{pmatrix}\n",
        "-1 & -6\\\\ \n",
        "2 & 6\n",
        "\\end{pmatrix}.$$\n",
        "Решение: $$(-1-\\lambda)\\cdot (6-\\lambda) + 12 = 0$$\n",
        "$$ \\lambda^2-5\\lambda + 6 = 0$$\n",
        "$$\\lambda _{1,2} = (5 \\pm \\sqrt{25-2*6})/ 2 = 3; 2 $$\n",
        "$$\\lambda _{1} = 3$$\n",
        "$$\\lambda _{2} = 2$$\n",
        "Собственные вектор  при $\\lambda _{1} = 2$:\n",
        "\n",
        "$$\\begin{cases}\n",
        "-x_{1}-6x_{2}=2 x_{1}, \\\\\n",
        "2x_{1}+6x_{2}=2 x_{2}.\n",
        "\\end{cases}$$\n",
        "$$x_2 =  1; x_1 = -2$$\n",
        "(-2; 1)\n",
        "\n",
        "Собственные вектор  при $\\lambda _{2} = 3$:\n",
        "$$\\begin{cases}\n",
        "-x_{1}-6x_{2}=3 x_{1}, \\\\\n",
        "2x_{1}+6x_{2}=3 x_{2}.\n",
        "\\end{cases}$$\n",
        "$$x_2 =  2; x_1 = -3$$\n",
        "\n",
        "(-3; 2)\n",
        "\n",
        "\n"
      ]
    },
    {
      "cell_type": "code",
      "metadata": {
        "colab": {
          "base_uri": "https://localhost:8080/"
        },
        "id": "xwA0X5c_lgZ0",
        "outputId": "d9a36fd7-229b-4b3a-928a-e8195b22d972"
      },
      "source": [
        "import numpy as np\n",
        "np.set_printoptions(precision=2, suppress=True)\n",
        "a = np.array([[-1, -6], [2, 6]])\n",
        "w, v = np.linalg.eig(a)\n",
        "c1 = np.array([-2, 1])\n",
        "c2 = np.array([-3, 2])\n",
        "\n",
        "print(f'Матрица A:\\n{a}')\n",
        "print(f'Собственные значения:\\n{w}')\n",
        "print(f'Собственные векторы:\\n{v}')\n",
        "\n",
        "print(f'v1\\n{v.T[0]}')\n",
        "print(f'v1\\n{v.T[1]}')\n",
        "print(f' проверка найденных вручную собственных векторов')\n",
        "print(f' для первого собственного значения')\n",
        "print(f' AC1 = {a@c1}')\n",
        "print(f'w[0]*c1 = {w[0]*c1}')\n",
        "print(f' для второго собственного значения')\n",
        "print(f' AC2 = {a@c2}')\n",
        "print(f'w[1]*c = {w[1]*c2}')\n",
        "\n",
        "\n"
      ],
      "execution_count": 27,
      "outputs": [
        {
          "output_type": "stream",
          "text": [
            "Матрица A:\n",
            "[[-1 -6]\n",
            " [ 2  6]]\n",
            "Собственные значения:\n",
            "[2. 3.]\n",
            "Собственные векторы:\n",
            "[[-0.89  0.83]\n",
            " [ 0.45 -0.55]]\n",
            "v1\n",
            "[-0.89  0.45]\n",
            "v1\n",
            "[ 0.83 -0.55]\n",
            " проверка найденных вручную собственных векторов\n",
            " для первого собственного значения\n",
            " AC1 = [-4  2]\n",
            "w[0]*c1 = [-4.  2.]\n",
            " для второго собственного значения\n",
            " AC2 = [-9  6]\n",
            "w[1]*c = [-9.  6.]\n"
          ],
          "name": "stdout"
        }
      ]
    },
    {
      "cell_type": "markdown",
      "metadata": {
        "id": "vrN0_NYJt9Ae"
      },
      "source": [
        "__2.__ Дан оператор поворота на 180 градусов, задаваемый матрицей \n",
        "\n",
        "$$A=\\begin{pmatrix}\n",
        "-1 & 0\\\\ \n",
        "0 & -1\n",
        "\\end{pmatrix}.$$\n",
        "\n",
        "Показать, что __любой__ вектор является для него собственным.\n",
        "\n",
        "Доказательство: из характеристического уравнения  $det(A- \\lambda I) = (1+\\lambda)^2 = 0$\n",
        "получаем\n",
        "$\\lambda_{1,2} = -1$\n",
        "\n",
        "Тогда  уравнение на собственные вектора: $$-x_1 = -1\\cdot x_1$$\n",
        "$$-x_2 = -1\\cdot x_2$$\n",
        "Выполнимо для любых $x_1, x_2$\n",
        "\n",
        "что по определению соответствует матричному тождеству: $(-1)* I*X = (-1) * X$\n"
      ]
    },
    {
      "cell_type": "code",
      "metadata": {
        "colab": {
          "base_uri": "https://localhost:8080/"
        },
        "id": "HDc73wxh8JpL",
        "outputId": "b307202e-3123-4def-98e4-c164b9055dbd"
      },
      "source": [
        "import numpy as np\n",
        "np.set_printoptions(precision=2, suppress=True)\n",
        "a = np.array([[-1, 0], [0, -1]])\n",
        "w, v = np.linalg.eig(a)\n",
        "print(f'Матрица A:\\n{a}')\n",
        "print(f'Собственные значения:\\n{w}')\n",
        "print(f'Собственные векторы:\\n{v}')"
      ],
      "execution_count": 29,
      "outputs": [
        {
          "output_type": "stream",
          "text": [
            "Матрица A:\n",
            "[[-1  0]\n",
            " [ 0 -1]]\n",
            "Собственные значения:\n",
            "[-1. -1.]\n",
            "Собственные векторы:\n",
            "[[1. 0.]\n",
            " [0. 1.]]\n"
          ],
          "name": "stdout"
        }
      ]
    },
    {
      "cell_type": "markdown",
      "metadata": {
        "id": "3uNWAxDnv7zv"
      },
      "source": [
        "__3.__ Пусть линейный оператор задан матрицей\n",
        "\n",
        "$$A=\\begin{pmatrix}\n",
        "1 & 1\\\\ \n",
        "-1 & 3\n",
        "\\end{pmatrix}.$$\n",
        "\n",
        "Установить, является ли вектор $x=(1,1)$ собственным вектором этого линейного оператора.\n",
        "Решение: \n",
        "из характеристического уравнения  $det(A- \\lambda I) = (1+\\lambda)(3-\\lambda) +1 = \\lambda^2 -4\\lambda +4 = (\\lambda - 2)^2 = 0$\n",
        "получаем\n",
        "$\\lambda_{1,2} = 2$\n",
        "То есть хотим показать, что  выполнимо тождество:\n",
        "$$\\begin{pmatrix}\n",
        "1 & 1\\\\ \n",
        "-1 & 3\n",
        "\\end{pmatrix}\n",
        "\\begin{pmatrix}\n",
        "1\\\\ \n",
        "1\n",
        "\\end{pmatrix}=\n",
        "2\n",
        "\\begin{pmatrix}\n",
        "1\\\\ \n",
        "1\n",
        "\\end{pmatrix}.\n",
        "$$\n",
        "1+1 = 2\n",
        "-1+3 = 2\n",
        "Тождество истино."
      ]
    },
    {
      "cell_type": "code",
      "metadata": {
        "colab": {
          "base_uri": "https://localhost:8080/"
        },
        "id": "1o5oi080xrd1",
        "outputId": "22ed1cee-385d-43c2-8c54-683c0b84e182"
      },
      "source": [
        "import numpy as np\n",
        "np.set_printoptions(precision=2, suppress=True)\n",
        "a = np.array([[1, 1], [-1, 3]])\n",
        "w, v = np.linalg.eig(a)\n",
        "\n",
        "print(f'Матрица A:\\n{a}')\n",
        "print(f'Собственные значения:\\n{w}')\n",
        "print(f'Собственные векторы:\\n{v}')\n",
        "\n",
        "print(f'v1\\n{v.T[0]}')\n",
        "print(f'v1\\n{v.T[1]}')"
      ],
      "execution_count": 3,
      "outputs": [
        {
          "output_type": "stream",
          "text": [
            "Матрица A:\n",
            "[[ 1  1]\n",
            " [-1  3]]\n",
            "Собственные значения:\n",
            "[2. 2.]\n",
            "Собственные векторы:\n",
            "[[ 0.71 -0.71]\n",
            " [ 0.71 -0.71]]\n",
            "v1\n",
            "[0.71 0.71]\n",
            "v1\n",
            "[-0.71 -0.71]\n"
          ],
          "name": "stdout"
        }
      ]
    },
    {
      "cell_type": "markdown",
      "metadata": {
        "id": "lb-6CZ7-zCw5"
      },
      "source": [
        "__4.__ Пусть линейный оператор задан матрицей\n",
        "\n",
        "$$A=\\begin{pmatrix}\n",
        "0 & 3 & 0\\\\ \n",
        "3 & 0 & 0\\\\\n",
        "0 & 0 & 3\n",
        "\\end{pmatrix}.$$\n",
        "\n",
        "Установить, является ли вектор $x=(3, -3, -4)$ собственным вектором этого линейного оператора.\n",
        "Решение: вектор $x=(3, -3, -4)$ не является обственным вектором оператора А ни при каких его собственных значениях $\\lambda_{1,2,3} = 3; -3; 3$."
      ]
    },
    {
      "cell_type": "code",
      "metadata": {
        "colab": {
          "base_uri": "https://localhost:8080/"
        },
        "id": "N0AT-cogzNdt",
        "outputId": "8d647d1f-36a0-4e10-99fa-e98681ba6bac"
      },
      "source": [
        "import numpy as np\n",
        "np.set_printoptions(precision=2, suppress=True)\n",
        "a = np.array([[0, 3, 0], [3, 0, 0], [0, 0, 3]])\n",
        "c = np.array([3, -3, -4])\n",
        "w, v = np.linalg.eig(a)\n",
        "\n",
        "print(f'Матрица A:\\n{a}')\n",
        "print(f'Собственные значения:\\n{w}')\n",
        "print(f' AX = {a@c}')\n",
        "print(f'w[0]*c = {w[0]*c}')\n",
        "print(f'w[1]*c = {w[1]*c}')\n",
        "print(f'w[2]*c = {w[2]*c}')\n"
      ],
      "execution_count": 15,
      "outputs": [
        {
          "output_type": "stream",
          "text": [
            "Матрица A:\n",
            "[[0 3 0]\n",
            " [3 0 0]\n",
            " [0 0 3]]\n",
            "Собственные значения:\n",
            "[ 3. -3.  3.]\n",
            " AX = [ -9   9 -12]\n",
            "w[0]*c = [  9.  -9. -12.]\n",
            "w[1]*c = [-9.  9. 12.]\n",
            "w[2]*c = [  9.  -9. -12.]\n"
          ],
          "name": "stdout"
        }
      ]
    }
  ]
}