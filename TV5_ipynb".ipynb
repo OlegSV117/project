{
  "nbformat": 4,
  "nbformat_minor": 0,
  "metadata": {
    "colab": {
      "name": "TV5.ipynb\"",
      "provenance": [],
      "collapsed_sections": [],
      "include_colab_link": true
    },
    "kernelspec": {
      "display_name": "Python 3",
      "language": "python",
      "name": "python3"
    }
  },
  "cells": [
    {
      "cell_type": "markdown",
      "metadata": {
        "id": "view-in-github",
        "colab_type": "text"
      },
      "source": [
        "<a href=\"https://colab.research.google.com/github/OlegSV117/project/blob/dev-kraken/TV5_ipynb%22.ipynb\" target=\"_parent\"><img src=\"https://colab.research.google.com/assets/colab-badge.svg\" alt=\"Open In Colab\"/></a>"
      ]
    },
    {
      "cell_type": "markdown",
      "metadata": {
        "id": "snzQ6I-GNKuz"
      },
      "source": [
        "## Урок *5* Проверка статистических гипотез. P-значения. Доверительные интервалы. A/B-тестирование"
      ]
    },
    {
      "cell_type": "markdown",
      "metadata": {
        "id": "eoIjKvLSNKu-"
      },
      "source": [
        "1. 1) Известно, что генеральная совокупность распределена нормально со средним квадратическим отклонением, равным 16.\u000bНайти доверительный интервал для оценки математического ожидания с надежностью 0.95,\u000bесли выборочная средняя M = 80, а объем выборки n = 256."
      ]
    },
    {
      "cell_type": "markdown",
      "metadata": {
        "id": "svQfckaw4aaw"
      },
      "source": [
        "$$T_{1,2} = \\overline{X} \\pm \\frac{\\sigma}{\\sqrt{n}} \\cdot Z_{\\alpha / 2}$$\n",
        "где $T_1$, $T_2$ — нижняя и верхняя границы доверительного интервала,\n",
        "\n",
        "$\\overline{X} = 16$  — выборочное среднее арифметическое,\n",
        "\n",
        "$\\sigma = 16$ — среднее квадратичное отклонение по выборке (несмещенное),\n",
        "\n",
        "$n = 256$ — размер выборки,\n",
        "\n",
        "$\\alpha = 0.95$ — доверительная вероятность, для нее\n",
        "\n",
        "$Z_{\\alpha / 2} = 1.96$\n"
      ]
    },
    {
      "cell_type": "code",
      "metadata": {
        "colab": {
          "base_uri": "https://localhost:8080/"
        },
        "id": "HkMi2thyCVQu",
        "outputId": "5282728c-2364-404d-c1e3-82f3c29536c2"
      },
      "source": [
        "# верхняя граница доверительного интервала\n",
        "16+1.96"
      ],
      "execution_count": 66,
      "outputs": [
        {
          "output_type": "execute_result",
          "data": {
            "text/plain": [
              "17.96"
            ]
          },
          "metadata": {
            "tags": []
          },
          "execution_count": 66
        }
      ]
    },
    {
      "cell_type": "code",
      "metadata": {
        "colab": {
          "base_uri": "https://localhost:8080/"
        },
        "id": "1wxS7BAPDxo6",
        "outputId": "d1b872e8-810a-4f7c-ce40-cdb225e4685b"
      },
      "source": [
        "# вернижняя граница доверительного интервала\n",
        "16-1.96"
      ],
      "execution_count": 67,
      "outputs": [
        {
          "output_type": "execute_result",
          "data": {
            "text/plain": [
              "14.04"
            ]
          },
          "metadata": {
            "tags": []
          },
          "execution_count": 67
        }
      ]
    },
    {
      "cell_type": "markdown",
      "metadata": {
        "id": "IbNBxy5FPQIZ"
      },
      "source": [
        "2) В результате 10 независимых измерений некоторой величины X, выполненных с одинаковой точностью, получены опытные данные: 6.9, 6.1, 6.2, 6.8, 7.5, 6.3, 6.4, 6.9, 6.7, 6.1 Предполагая, что результаты измерений подчинены нормальному закону распределения вероятностей, оценить истинное значение величины X при помощи доверительного интервала, покрывающего это значение с доверительной вероятностью 0,95.\n"
      ]
    },
    {
      "cell_type": "markdown",
      "metadata": {
        "id": "FYtK3t7kFwpt"
      },
      "source": [
        "$$T_{1,2} = \\overline{X} \\pm \\frac{\\sigma}{\\sqrt{n}} \\cdot t_{\\alpha / 2}$$\n",
        "где $T_1$, $T_2$ — нижняя и верхняя границы доверительного интервала,\n",
        "\n",
        "$\\overline{X} $  — выборочное среднее арифметическое,\n",
        "\n",
        "$\\sigma$ — среднее квадратичное отклонение по выборке (несмещенное),\n",
        "\n",
        "$n = 10$ — размер выборки, степеней свободы – 9\n",
        "\n",
        "$\\alpha = 0.95$ — доверительная вероятность, для нее\n",
        "\n",
        "$t_{\\alpha / 2} = 2.262$\n"
      ]
    },
    {
      "cell_type": "code",
      "metadata": {
        "colab": {
          "base_uri": "https://localhost:8080/"
        },
        "id": "j6qBI0JyO0PY",
        "outputId": "16406459-7113-4467-b530-d77c986f50ad"
      },
      "source": [
        "B=[6.9, 6.1, 6.2, 6.8, 7.5, 6.3, 6.4, 6.9, 6.7, 6.1]\n",
        "mean_B = sum(B)/(len(B))\n",
        "mean_B"
      ],
      "execution_count": 68,
      "outputs": [
        {
          "output_type": "execute_result",
          "data": {
            "text/plain": [
              "6.589999999999999"
            ]
          },
          "metadata": {
            "tags": []
          },
          "execution_count": 68
        }
      ]
    },
    {
      "cell_type": "code",
      "metadata": {
        "colab": {
          "base_uri": "https://localhost:8080/"
        },
        "id": "BA2mliehHqjs",
        "outputId": "a7ef3dc4-5c81-4d14-ead4-f57580afa21f"
      },
      "source": [
        "\n",
        "import pandas as pd\n",
        "B_df = pd.DataFrame(B)\n",
        "B_df.std(ddof=1)\n"
      ],
      "execution_count": 71,
      "outputs": [
        {
          "output_type": "execute_result",
          "data": {
            "text/plain": [
              "0    0.450802\n",
              "dtype: float64"
            ]
          },
          "metadata": {
            "tags": []
          },
          "execution_count": 71
        }
      ]
    },
    {
      "cell_type": "code",
      "metadata": {
        "colab": {
          "base_uri": "https://localhost:8080/"
        },
        "id": "JRTCW7fyKQuc",
        "outputId": "d11877bd-f0ad-45c5-aca8-0a6c7f552387"
      },
      "source": [
        "# верхняя граница доверительного интервала\n",
        "mean_B + 2.262*B_df.std(ddof=1) / 10**(1/2)"
      ],
      "execution_count": 72,
      "outputs": [
        {
          "output_type": "execute_result",
          "data": {
            "text/plain": [
              "0    6.912462\n",
              "dtype: float64"
            ]
          },
          "metadata": {
            "tags": []
          },
          "execution_count": 72
        }
      ]
    },
    {
      "cell_type": "code",
      "metadata": {
        "colab": {
          "base_uri": "https://localhost:8080/"
        },
        "id": "FwH5BiDOLBCI",
        "outputId": "44055195-78a6-4013-c569-c87e226b8f93"
      },
      "source": [
        "# нижняя граница доверительного интервала\n",
        "mean_B - 2.262*B_df.std(ddof=1) / 10**(1/2)"
      ],
      "execution_count": 73,
      "outputs": [
        {
          "output_type": "execute_result",
          "data": {
            "text/plain": [
              "0    6.267538\n",
              "dtype: float64"
            ]
          },
          "metadata": {
            "tags": []
          },
          "execution_count": 73
        }
      ]
    },
    {
      "cell_type": "markdown",
      "metadata": {
        "id": "M9PQikw5SbiN"
      },
      "source": [
        "3) Утверждается, что шарики для подшипников, изготовленные автоматическим станком, имеют средний диаметр 17 мм. Используя односторонний критерий с α=0,05, проверить эту гипотезу, если в выборке из n=100 шариков средний диаметр\u000bоказался равным 17.5 мм, а дисперсия известна и равна 4 кв.мм."
      ]
    },
    {
      "cell_type": "markdown",
      "metadata": {
        "id": "Dg-hh6zOWKUf"
      },
      "source": [
        "Решение:\n",
        "\n",
        "$ \\mu_0 = 17 $\n",
        "\n",
        "$ \\alpha = 0.05$\n",
        "\n",
        "$ n=100$\n",
        "\n",
        "$ \\overline{X} = 17.5$\n",
        "\n",
        "$ \\sigma^2 = 4$\n",
        "\n",
        "$ \\overline{Z}_T = 1.65$\n",
        " \n"
      ]
    },
    {
      "cell_type": "code",
      "metadata": {
        "colab": {
          "base_uri": "https://localhost:8080/"
        },
        "id": "R1vyJbW8WGeq",
        "outputId": "05d7dec7-b6df-4d18-e29b-06701d655b2e"
      },
      "source": [
        "# Z наблюдаемое\n",
        "(17.5-17)*10/2"
      ],
      "execution_count": 74,
      "outputs": [
        {
          "output_type": "execute_result",
          "data": {
            "text/plain": [
              "2.5"
            ]
          },
          "metadata": {
            "tags": []
          },
          "execution_count": 74
        }
      ]
    },
    {
      "cell_type": "markdown",
      "metadata": {
        "id": "OkgOo50XX8PU"
      },
      "source": [
        "Ответ: Принимаем гипотезу Н1 – \"шарики для подшипников, изготовленные автоматическим станком, не имеют средний диаметр 17 мм.\""
      ]
    },
    {
      "cell_type": "markdown",
      "metadata": {
        "id": "qzxjGF10VGZY"
      },
      "source": [
        "4) Продавец утверждает, что средний вес пачки печенья составляет 200 г. Из партии извлечена выборка из 10 пачек.\n",
        "Вес каждой пачки составляет:\n",
        "202, 203, 199, 197, 195, 201, 200, 204, 194, 190. Известно,\n",
        "что их веса распределены нормально.\n",
        "Верно ли утверждение продавца, если учитывать, что доверительная вероятность равна 99%?"
      ]
    },
    {
      "cell_type": "markdown",
      "metadata": {
        "id": "V4zZ2Hz9bNq-"
      },
      "source": [
        "Решение:\n",
        "\n",
        "$ \\mu_0 = 200 $\n",
        "\n",
        "$ \\alpha = 0.001$\n",
        "\n",
        "$ n=10$\n",
        "\n",
        "$ t_{\\alpha, 9} = 2.821$\n",
        " \n"
      ]
    },
    {
      "cell_type": "code",
      "metadata": {
        "colab": {
          "base_uri": "https://localhost:8080/"
        },
        "id": "XPNZ5R7qby10",
        "outputId": "9562fc6d-2edf-4da3-84a4-f40fbeb3156b"
      },
      "source": [
        "C=[202, 203, 199, 197, 195, 201, 200, 204, 194, 190]\n",
        "mean_C = sum(C)/(len(C))\n",
        "mean_C"
      ],
      "execution_count": 75,
      "outputs": [
        {
          "output_type": "execute_result",
          "data": {
            "text/plain": [
              "198.5"
            ]
          },
          "metadata": {
            "tags": []
          },
          "execution_count": 75
        }
      ]
    },
    {
      "cell_type": "code",
      "metadata": {
        "colab": {
          "base_uri": "https://localhost:8080/"
        },
        "id": "Lcu0kXYkcFwN",
        "outputId": "a2e77384-04bd-4a50-986e-1d5d568deb87"
      },
      "source": [
        "import pandas as pd\n",
        "C_df = pd.DataFrame(C)\n",
        "s = C_df.std(ddof=1)\n",
        "s"
      ],
      "execution_count": 76,
      "outputs": [
        {
          "output_type": "execute_result",
          "data": {
            "text/plain": [
              "0    4.453463\n",
              "dtype: float64"
            ]
          },
          "metadata": {
            "tags": []
          },
          "execution_count": 76
        }
      ]
    },
    {
      "cell_type": "code",
      "metadata": {
        "colab": {
          "base_uri": "https://localhost:8080/"
        },
        "id": "gYX2fYTPcNyV",
        "outputId": "c019eede-e185-41e9-ead7-3760c6aae7ee"
      },
      "source": [
        "# t наблюдаемое\n",
        "(200-198.5)*(10**(1/2))/s"
      ],
      "execution_count": 77,
      "outputs": [
        {
          "output_type": "execute_result",
          "data": {
            "text/plain": [
              "0    1.065107\n",
              "dtype: float64"
            ]
          },
          "metadata": {
            "tags": []
          },
          "execution_count": 77
        }
      ]
    },
    {
      "cell_type": "markdown",
      "metadata": {
        "id": "gIJWG47dfipq"
      },
      "source": [
        "$ t_{\\alpha, 9} = 2.821 > t_n = 1.065107 $\n",
        "\n",
        "Ответ: Утверждение продавца  верно.\n",
        "\n",
        "\n"
      ]
    }
  ]
}