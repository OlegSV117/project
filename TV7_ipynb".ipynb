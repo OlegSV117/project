{
  "nbformat": 4,
  "nbformat_minor": 0,
  "metadata": {
    "colab": {
      "name": "TV7.ipynb\"",
      "provenance": [],
      "collapsed_sections": [],
      "include_colab_link": true
    },
    "kernelspec": {
      "display_name": "Python 3",
      "language": "python",
      "name": "python3"
    }
  },
  "cells": [
    {
      "cell_type": "markdown",
      "metadata": {
        "id": "view-in-github",
        "colab_type": "text"
      },
      "source": [
        "<a href=\"https://colab.research.google.com/github/OlegSV117/project/blob/dev-kraken/TV7_ipynb%22.ipynb\" target=\"_parent\"><img src=\"https://colab.research.google.com/assets/colab-badge.svg\" alt=\"Open In Colab\"/></a>"
      ]
    },
    {
      "cell_type": "markdown",
      "metadata": {
        "id": "-H0TfXEAVV-c"
      },
      "source": [
        "## Урок 7. Многомерный статистический анализ. Линейная регрессия"
      ]
    },
    {
      "cell_type": "markdown",
      "metadata": {
        "id": "LGdvpWQmVWBA"
      },
      "source": [
        "**Пример 1** Даны значения величины заработной платы заемщиков банка (zp) и значения их поведенческого кредитного скоринга (ks): zp = [35, 45, 190, 200, 40, 70, 54, 150, 120, 110], ks = [401, 574, 874, 919, 459, 739, 653, 902, 746, 832]. Используя математические операции, посчитать коэффициенты линейной регрессии, приняв за X заработную плату (то есть, zp - признак), а за y - значения скорингового балла (то есть, ks - целевая переменная). Произвести расчет как с использованием intercept, так и без."
      ]
    },
    {
      "cell_type": "code",
      "metadata": {
        "id": "8kLkCTNMVWBL"
      },
      "source": [
        "import numpy as np\n",
        "\n",
        "# количество наблюдений\n",
        "n = 10\n",
        "\n",
        "x = np.array([35, 45, 190, 200, 40, 70, 54, 150, 120, 110], dtype=np.float64)\n",
        "y = np.array([401, 574, 874, 919, 459, 739, 653, 902, 746, 832], dtype=np.float64)"
      ],
      "execution_count": 8,
      "outputs": []
    },
    {
      "cell_type": "markdown",
      "metadata": {
        "collapsed": true,
        "id": "eIcZNHliVWBW"
      },
      "source": [
        "Для нахождения коэффициентов регрессии $a$ и $b$ воспользуемся приведенными выше формулами:"
      ]
    },
    {
      "cell_type": "code",
      "metadata": {
        "id": "r1mT4pdSVWBY",
        "colab": {
          "base_uri": "https://localhost:8080/"
        },
        "outputId": "b05d6cf7-c220-4906-b67b-e5be73b2f13b"
      },
      "source": [
        "b = (np.mean(x * y) - np.mean(x) * np.mean(y)) / (np.mean(x**2) - np.mean(x) ** 2)\n",
        "b"
      ],
      "execution_count": 9,
      "outputs": [
        {
          "output_type": "execute_result",
          "data": {
            "text/plain": [
              "2.620538882402765"
            ]
          },
          "metadata": {
            "tags": []
          },
          "execution_count": 9
        }
      ]
    },
    {
      "cell_type": "code",
      "metadata": {
        "id": "3eenHRuhVWBl",
        "colab": {
          "base_uri": "https://localhost:8080/"
        },
        "outputId": "576908e1-8033-4521-b590-fc3aaea59e58"
      },
      "source": [
        "a = np.mean(y) - b * np.mean(x)\n",
        "a"
      ],
      "execution_count": 10,
      "outputs": [
        {
          "output_type": "execute_result",
          "data": {
            "text/plain": [
              "444.1773573243596"
            ]
          },
          "metadata": {
            "tags": []
          },
          "execution_count": 10
        }
      ]
    },
    {
      "cell_type": "markdown",
      "metadata": {
        "collapsed": true,
        "id": "F4wExIGGVWBv"
      },
      "source": [
        "Итак, уравнение регрессии имеет вид (коэффициенты округлены до сотых):"
      ]
    },
    {
      "cell_type": "markdown",
      "metadata": {
        "collapsed": true,
        "id": "EAnsjUv4VWB0"
      },
      "source": [
        "$$y = 444.2 +  2.6\\cdot x$$"
      ]
    },
    {
      "cell_type": "markdown",
      "metadata": {
        "id": "Jj60_kNBVWB4"
      },
      "source": [
        "Найдем коэффициент корреляции $r$ с помощью коэффициента $b$ и средних квадратического отклонения, посчитанного для массивов $x$ и $y$:"
      ]
    },
    {
      "cell_type": "code",
      "metadata": {
        "id": "-rzWVsRKVWB5",
        "colab": {
          "base_uri": "https://localhost:8080/"
        },
        "outputId": "ed000988-c210-4f4c-ab04-fb6c8bca4fed"
      },
      "source": [
        "r = b * np.std(x) / np.std(y)\n",
        "r"
      ],
      "execution_count": 11,
      "outputs": [
        {
          "output_type": "execute_result",
          "data": {
            "text/plain": [
              "0.8874900920739162"
            ]
          },
          "metadata": {
            "tags": []
          },
          "execution_count": 11
        }
      ]
    },
    {
      "cell_type": "markdown",
      "metadata": {
        "id": "yCebK69XVWCC"
      },
      "source": [
        "Найдем коэффициент детерминации $R^2$:"
      ]
    },
    {
      "cell_type": "code",
      "metadata": {
        "id": "0ooklfCzVWCD",
        "colab": {
          "base_uri": "https://localhost:8080/"
        },
        "outputId": "87585b33-b996-43ce-eead-ae74d7096d5b"
      },
      "source": [
        "R2 = r**2\n",
        "R2"
      ],
      "execution_count": 12,
      "outputs": [
        {
          "output_type": "execute_result",
          "data": {
            "text/plain": [
              "0.7876386635293682"
            ]
          },
          "metadata": {
            "tags": []
          },
          "execution_count": 12
        }
      ]
    },
    {
      "cell_type": "markdown",
      "metadata": {
        "id": "UNooD5xJVWCP"
      },
      "source": [
        "Это означает, что 78.8% вариации значения поведенческого кредитного скоринга ($y$) объясняется вариацией фактора $x$ — заработной платы заемщиков."
      ]
    },
    {
      "cell_type": "markdown",
      "metadata": {
        "id": "RgW1rXkEVWCR"
      },
      "source": [
        "С помощью этого уравнения регрессии посчитаем значения, предсказанные моделью значения  поведенческого кредитного скоринга :"
      ]
    },
    {
      "cell_type": "code",
      "metadata": {
        "id": "1pStjYk9VWCS",
        "colab": {
          "base_uri": "https://localhost:8080/"
        },
        "outputId": "f9bdd22d-7431-4f76-8cdf-ceb1926f9285"
      },
      "source": [
        "y_pred = a + b * x\n",
        "y_pred"
      ],
      "execution_count": 13,
      "outputs": [
        {
          "output_type": "execute_result",
          "data": {
            "text/plain": [
              "array([535.89621821, 562.10160703, 942.07974498, 968.2851338 ,\n",
              "       548.99891262, 627.61507909, 585.68645697, 837.25818968,\n",
              "       758.64202321, 732.43663439])"
            ]
          },
          "metadata": {
            "tags": []
          },
          "execution_count": 13
        }
      ]
    },
    {
      "cell_type": "markdown",
      "metadata": {
        "id": "ymhf8BfBVWCc"
      },
      "source": [
        "Качество модели найдем с помощью средней ошибки аппроксимации $\\overline {A}$:"
      ]
    },
    {
      "cell_type": "code",
      "metadata": {
        "id": "bv3vJejlVWCg",
        "colab": {
          "base_uri": "https://localhost:8080/"
        },
        "outputId": "99dafd0e-8302-479c-ffd1-a4731ea704b5"
      },
      "source": [
        "A_mean = 100 * np.mean(np.abs((y - y_pred) / y))\n",
        "A_mean"
      ],
      "execution_count": 14,
      "outputs": [
        {
          "output_type": "execute_result",
          "data": {
            "text/plain": [
              "11.46925184356171"
            ]
          },
          "metadata": {
            "tags": []
          },
          "execution_count": 14
        }
      ]
    },
    {
      "cell_type": "markdown",
      "metadata": {
        "id": "2lpGd6eKVWCw"
      },
      "source": [
        "Так как $\\overline {A}$ равна 11.5%, что  превышает 8-10 %, модель плохо описывает эмпирические данные. Для оценки значимости \n",
        "\n",
        "уравнения регрессии воспользуемся F-критерием Фишера. Найдем фактическое значение $F$-критерия ($F_{факт}$):"
      ]
    },
    {
      "cell_type": "code",
      "metadata": {
        "id": "2s_12smQVWC0",
        "colab": {
          "base_uri": "https://localhost:8080/"
        },
        "outputId": "b01c55b4-8e03-42b9-9617-14834b7dc0af"
      },
      "source": [
        "F_fact = (r**2 * (n - 2)) / (1 - r**2)\n",
        "F_fact"
      ],
      "execution_count": 15,
      "outputs": [
        {
          "output_type": "execute_result",
          "data": {
            "text/plain": [
              "29.671640859664432"
            ]
          },
          "metadata": {
            "tags": []
          },
          "execution_count": 15
        }
      ]
    },
    {
      "cell_type": "markdown",
      "metadata": {
        "id": "xHqEBF5gNHZZ"
      },
      "source": [
        "Таблицу значений F-критерия Фишера ($F_{кр}$) можно посмотреть по ссылке: <a href='https://www.chem-astu.ru/science/reference/F-statistic.html'>Таблица критерия Фишера</a>"
      ]
    },
    {
      "cell_type": "markdown",
      "metadata": {
        "id": "tRrc_mzoVWC9"
      },
      "source": [
        "При 5 % уровне значимости и степенях свободы $k_1 = 1$ и $k_2 = 10 - 2 = 8$ табличное значение критерия: $F_{кр} = 5.32$.\n",
        "\n",
        "Так как $F_{факт} = 29.67 > F_{кр} = 5.32$, уравнение регрессии статистически значимо."
      ]
    },
    {
      "cell_type": "markdown",
      "metadata": {
        "id": "7AW4TKZLVWDC"
      },
      "source": [
        "Для оценки статистической значимости параметров регрессии воспользуемся $t$-статистикой Стьюдента и также рассчитаем \n",
        "\n",
        "доверительные интервалы каждого из показателей. При $df = n - 2 = 10 - 2 = 8$ и $\\alpha = 0.05$ получим\n",
        "\n",
        "(см. <a href='https://statpsy.ru/t-student/t-test-tablica/'>Таблицу критических значений t-критерия Стьюдента</a>):"
      ]
    },
    {
      "cell_type": "markdown",
      "metadata": {
        "id": "0R9OLU3rVWDE"
      },
      "source": [
        "$$t_{кр} = 2.306$$"
      ]
    },
    {
      "cell_type": "markdown",
      "metadata": {
        "id": "KolP5udaVWDH"
      },
      "source": [
        "Определим стандартную ошибку $S_{ост}$ (переменная **s_residual**) и случайные ошибки $m_a, \\; m_b$:"
      ]
    },
    {
      "cell_type": "code",
      "metadata": {
        "id": "y7ZtBGJXVWDI",
        "colab": {
          "base_uri": "https://localhost:8080/"
        },
        "outputId": "debdc416-b4f6-473d-b84b-4c5e2b99e7f5"
      },
      "source": [
        "s_residual = np.sqrt(np.sum((y - y_pred)**2) / (n - 2))\n",
        "m_a = s_residual * np.sqrt(np.sum(x ** 2)) / (n * np.std(x))\n",
        "m_b = s_residual / (np.std(x) * np.sqrt(n))\n",
        "\n",
        "print('s_residual = {}\\nm_a = {}\\nm_b = {}'.format(s_residual, m_a, m_b))"
      ],
      "execution_count": 20,
      "outputs": [
        {
          "output_type": "stream",
          "text": [
            "s_residual = 89.93340731602925\n",
            "m_a = 56.466497550681524\n",
            "m_b = 0.48108279568516\n"
          ],
          "name": "stdout"
        }
      ]
    },
    {
      "cell_type": "markdown",
      "metadata": {
        "id": "mrYy3Z2JVWDQ"
      },
      "source": [
        "Вычислим наблюдаемые значения критерия $t_a$ и $t_b$:"
      ]
    },
    {
      "cell_type": "code",
      "metadata": {
        "id": "7F0Yci-HVWDS",
        "colab": {
          "base_uri": "https://localhost:8080/"
        },
        "outputId": "47991b4e-c241-4d6b-a506-496c8fdca391"
      },
      "source": [
        "t_a = a / m_a\n",
        "t_a"
      ],
      "execution_count": 21,
      "outputs": [
        {
          "output_type": "execute_result",
          "data": {
            "text/plain": [
              "7.866210524668864"
            ]
          },
          "metadata": {
            "tags": []
          },
          "execution_count": 21
        }
      ]
    },
    {
      "cell_type": "code",
      "metadata": {
        "id": "UfXZXkmpVWDd",
        "colab": {
          "base_uri": "https://localhost:8080/"
        },
        "outputId": "b0073158-9b68-4abf-9197-b780a7cc74f4"
      },
      "source": [
        "t_b = b / m_b\n",
        "t_b"
      ],
      "execution_count": 22,
      "outputs": [
        {
          "output_type": "execute_result",
          "data": {
            "text/plain": [
              "5.447168150485579"
            ]
          },
          "metadata": {
            "tags": []
          },
          "execution_count": 22
        }
      ]
    },
    {
      "cell_type": "markdown",
      "metadata": {
        "id": "qNAXIaijVWDk"
      },
      "source": [
        "Фактические значения t-статистики больше табличного значения:"
      ]
    },
    {
      "cell_type": "markdown",
      "metadata": {
        "id": "wGlkWCg2VWDl"
      },
      "source": [
        "$$t_a = 7.87 > t_{кр} = 2.306, \\; t_b = 5.55 > t_{кр} = 2.306,$$"
      ]
    },
    {
      "cell_type": "markdown",
      "metadata": {
        "id": "8kwL6vR_VWDp"
      },
      "source": [
        "поэтому параметры $a$ и $b$ не случайно отличаются от нуля, то есть они статистически значимы."
      ]
    },
    {
      "cell_type": "markdown",
      "metadata": {
        "id": "uc7Zz2h1VWDr"
      },
      "source": [
        "Рассчитаем доверительные интервалы для параметров регрессии $a$ и $b$. Для этого определим предельную ошибку для каждого показателя ($\\Delta_a$ и $\\Delta_b$),\n",
        "\n",
        "используя значение $t_{кр}$, равное 2.306 (переменная **t_cr**):"
      ]
    },
    {
      "cell_type": "code",
      "metadata": {
        "id": "pW5Qj3ryVWDt"
      },
      "source": [
        "t_cr = 2.306"
      ],
      "execution_count": 23,
      "outputs": []
    },
    {
      "cell_type": "code",
      "metadata": {
        "id": "wfIm3E5xVWDy",
        "colab": {
          "base_uri": "https://localhost:8080/"
        },
        "outputId": "a5d75b50-dff9-44c6-8fea-06965898c15b"
      },
      "source": [
        "delta_a = t_cr * m_a\n",
        "delta_a"
      ],
      "execution_count": 24,
      "outputs": [
        {
          "output_type": "execute_result",
          "data": {
            "text/plain": [
              "125.80735654291844"
            ]
          },
          "metadata": {
            "tags": []
          },
          "execution_count": 24
        }
      ]
    },
    {
      "cell_type": "code",
      "metadata": {
        "id": "gF3fKd8OVWD5",
        "colab": {
          "base_uri": "https://localhost:8080/"
        },
        "outputId": "527823a0-421a-4833-e3cf-3b1b1203929d"
      },
      "source": [
        "delta_b = t_cr * m_b\n",
        "delta_b"
      ],
      "execution_count": 25,
      "outputs": [
        {
          "output_type": "execute_result",
          "data": {
            "text/plain": [
              "1.0718524687865365"
            ]
          },
          "metadata": {
            "tags": []
          },
          "execution_count": 25
        }
      ]
    },
    {
      "cell_type": "markdown",
      "metadata": {
        "id": "sHUTKIhTVWD-"
      },
      "source": [
        "Найдем границы доверительных интервалов $\\gamma_{a_{min}}, \\gamma_{a_{max}}, \\gamma_{b_{min}}, \\gamma_{b_{max}}$:"
      ]
    },
    {
      "cell_type": "code",
      "metadata": {
        "id": "mv8YJBn6VWEB",
        "colab": {
          "base_uri": "https://localhost:8080/"
        },
        "outputId": "9bfcf26d-62d6-410e-e320-3aa42bde74f4"
      },
      "source": [
        "gamma_a_min = a - delta_a\n",
        "gamma_a_min"
      ],
      "execution_count": 26,
      "outputs": [
        {
          "output_type": "execute_result",
          "data": {
            "text/plain": [
              "318.37000078144115"
            ]
          },
          "metadata": {
            "tags": []
          },
          "execution_count": 26
        }
      ]
    },
    {
      "cell_type": "code",
      "metadata": {
        "id": "K7kHFohfVWER",
        "colab": {
          "base_uri": "https://localhost:8080/"
        },
        "outputId": "3b790e91-1fcd-4920-a2e9-61e5c62882d1"
      },
      "source": [
        "gamma_a_max = a + delta_a\n",
        "gamma_a_max"
      ],
      "execution_count": 27,
      "outputs": [
        {
          "output_type": "execute_result",
          "data": {
            "text/plain": [
              "569.9847138672781"
            ]
          },
          "metadata": {
            "tags": []
          },
          "execution_count": 27
        }
      ]
    },
    {
      "cell_type": "code",
      "metadata": {
        "id": "adNd5XPZVWEZ",
        "colab": {
          "base_uri": "https://localhost:8080/"
        },
        "outputId": "283b2407-d60a-4c4f-cb24-f3f66bb7f09b"
      },
      "source": [
        "gamma_b_min = b - delta_b\n",
        "gamma_b_min"
      ],
      "execution_count": 28,
      "outputs": [
        {
          "output_type": "execute_result",
          "data": {
            "text/plain": [
              "1.5486864136162284"
            ]
          },
          "metadata": {
            "tags": []
          },
          "execution_count": 28
        }
      ]
    },
    {
      "cell_type": "code",
      "metadata": {
        "id": "QYwAhhdHVWEf",
        "colab": {
          "base_uri": "https://localhost:8080/"
        },
        "outputId": "6513f894-0e79-49a6-e225-f7b765b53782"
      },
      "source": [
        "gamma_b_max = b + delta_b\n",
        "gamma_b_max"
      ],
      "execution_count": 29,
      "outputs": [
        {
          "output_type": "execute_result",
          "data": {
            "text/plain": [
              "3.6923913511893014"
            ]
          },
          "metadata": {
            "tags": []
          },
          "execution_count": 29
        }
      ]
    },
    {
      "cell_type": "markdown",
      "metadata": {
        "id": "KzUe1mDhVWEk"
      },
      "source": [
        "Приходим к выводу о том, что с вероятностью $p = 1 - \\alpha = 0.95$ параметры $a$ и $b$, находясь в указанных границах, \n",
        "\n",
        "являются статистически значимыми и отличны от нуля. Поместим исходные и предсказанные данные в датафрейм **df**:"
      ]
    },
    {
      "cell_type": "code",
      "metadata": {
        "id": "Addxji38VWEm",
        "colab": {
          "base_uri": "https://localhost:8080/",
          "height": 359
        },
        "outputId": "cfe017d8-24e1-4c76-8d4c-d47dda4b9348"
      },
      "source": [
        "import pandas as pd\n",
        "\n",
        "df = pd.DataFrame({'x': x, 'y': y, 'y_pred': y_pred}, columns=['x', 'y', 'y_pred'])\n",
        "df"
      ],
      "execution_count": 30,
      "outputs": [
        {
          "output_type": "execute_result",
          "data": {
            "text/html": [
              "<div>\n",
              "<style scoped>\n",
              "    .dataframe tbody tr th:only-of-type {\n",
              "        vertical-align: middle;\n",
              "    }\n",
              "\n",
              "    .dataframe tbody tr th {\n",
              "        vertical-align: top;\n",
              "    }\n",
              "\n",
              "    .dataframe thead th {\n",
              "        text-align: right;\n",
              "    }\n",
              "</style>\n",
              "<table border=\"1\" class=\"dataframe\">\n",
              "  <thead>\n",
              "    <tr style=\"text-align: right;\">\n",
              "      <th></th>\n",
              "      <th>x</th>\n",
              "      <th>y</th>\n",
              "      <th>y_pred</th>\n",
              "    </tr>\n",
              "  </thead>\n",
              "  <tbody>\n",
              "    <tr>\n",
              "      <th>0</th>\n",
              "      <td>35.0</td>\n",
              "      <td>401.0</td>\n",
              "      <td>535.896218</td>\n",
              "    </tr>\n",
              "    <tr>\n",
              "      <th>1</th>\n",
              "      <td>45.0</td>\n",
              "      <td>574.0</td>\n",
              "      <td>562.101607</td>\n",
              "    </tr>\n",
              "    <tr>\n",
              "      <th>2</th>\n",
              "      <td>190.0</td>\n",
              "      <td>874.0</td>\n",
              "      <td>942.079745</td>\n",
              "    </tr>\n",
              "    <tr>\n",
              "      <th>3</th>\n",
              "      <td>200.0</td>\n",
              "      <td>919.0</td>\n",
              "      <td>968.285134</td>\n",
              "    </tr>\n",
              "    <tr>\n",
              "      <th>4</th>\n",
              "      <td>40.0</td>\n",
              "      <td>459.0</td>\n",
              "      <td>548.998913</td>\n",
              "    </tr>\n",
              "    <tr>\n",
              "      <th>5</th>\n",
              "      <td>70.0</td>\n",
              "      <td>739.0</td>\n",
              "      <td>627.615079</td>\n",
              "    </tr>\n",
              "    <tr>\n",
              "      <th>6</th>\n",
              "      <td>54.0</td>\n",
              "      <td>653.0</td>\n",
              "      <td>585.686457</td>\n",
              "    </tr>\n",
              "    <tr>\n",
              "      <th>7</th>\n",
              "      <td>150.0</td>\n",
              "      <td>902.0</td>\n",
              "      <td>837.258190</td>\n",
              "    </tr>\n",
              "    <tr>\n",
              "      <th>8</th>\n",
              "      <td>120.0</td>\n",
              "      <td>746.0</td>\n",
              "      <td>758.642023</td>\n",
              "    </tr>\n",
              "    <tr>\n",
              "      <th>9</th>\n",
              "      <td>110.0</td>\n",
              "      <td>832.0</td>\n",
              "      <td>732.436634</td>\n",
              "    </tr>\n",
              "  </tbody>\n",
              "</table>\n",
              "</div>"
            ],
            "text/plain": [
              "       x      y      y_pred\n",
              "0   35.0  401.0  535.896218\n",
              "1   45.0  574.0  562.101607\n",
              "2  190.0  874.0  942.079745\n",
              "3  200.0  919.0  968.285134\n",
              "4   40.0  459.0  548.998913\n",
              "5   70.0  739.0  627.615079\n",
              "6   54.0  653.0  585.686457\n",
              "7  150.0  902.0  837.258190\n",
              "8  120.0  746.0  758.642023\n",
              "9  110.0  832.0  732.436634"
            ]
          },
          "metadata": {
            "tags": []
          },
          "execution_count": 30
        }
      ]
    },
    {
      "cell_type": "markdown",
      "metadata": {
        "id": "pF4NpdpYVWEt"
      },
      "source": [
        "Отсортируем значения по полю **x**:"
      ]
    },
    {
      "cell_type": "code",
      "metadata": {
        "id": "lX0_69KpVWEv",
        "colab": {
          "base_uri": "https://localhost:8080/",
          "height": 359
        },
        "outputId": "03ad3921-2f6d-47b8-ad98-b94063a3ea80"
      },
      "source": [
        "df = df.sort_values('x')\n",
        "df"
      ],
      "execution_count": 31,
      "outputs": [
        {
          "output_type": "execute_result",
          "data": {
            "text/html": [
              "<div>\n",
              "<style scoped>\n",
              "    .dataframe tbody tr th:only-of-type {\n",
              "        vertical-align: middle;\n",
              "    }\n",
              "\n",
              "    .dataframe tbody tr th {\n",
              "        vertical-align: top;\n",
              "    }\n",
              "\n",
              "    .dataframe thead th {\n",
              "        text-align: right;\n",
              "    }\n",
              "</style>\n",
              "<table border=\"1\" class=\"dataframe\">\n",
              "  <thead>\n",
              "    <tr style=\"text-align: right;\">\n",
              "      <th></th>\n",
              "      <th>x</th>\n",
              "      <th>y</th>\n",
              "      <th>y_pred</th>\n",
              "    </tr>\n",
              "  </thead>\n",
              "  <tbody>\n",
              "    <tr>\n",
              "      <th>0</th>\n",
              "      <td>35.0</td>\n",
              "      <td>401.0</td>\n",
              "      <td>535.896218</td>\n",
              "    </tr>\n",
              "    <tr>\n",
              "      <th>4</th>\n",
              "      <td>40.0</td>\n",
              "      <td>459.0</td>\n",
              "      <td>548.998913</td>\n",
              "    </tr>\n",
              "    <tr>\n",
              "      <th>1</th>\n",
              "      <td>45.0</td>\n",
              "      <td>574.0</td>\n",
              "      <td>562.101607</td>\n",
              "    </tr>\n",
              "    <tr>\n",
              "      <th>6</th>\n",
              "      <td>54.0</td>\n",
              "      <td>653.0</td>\n",
              "      <td>585.686457</td>\n",
              "    </tr>\n",
              "    <tr>\n",
              "      <th>5</th>\n",
              "      <td>70.0</td>\n",
              "      <td>739.0</td>\n",
              "      <td>627.615079</td>\n",
              "    </tr>\n",
              "    <tr>\n",
              "      <th>9</th>\n",
              "      <td>110.0</td>\n",
              "      <td>832.0</td>\n",
              "      <td>732.436634</td>\n",
              "    </tr>\n",
              "    <tr>\n",
              "      <th>8</th>\n",
              "      <td>120.0</td>\n",
              "      <td>746.0</td>\n",
              "      <td>758.642023</td>\n",
              "    </tr>\n",
              "    <tr>\n",
              "      <th>7</th>\n",
              "      <td>150.0</td>\n",
              "      <td>902.0</td>\n",
              "      <td>837.258190</td>\n",
              "    </tr>\n",
              "    <tr>\n",
              "      <th>2</th>\n",
              "      <td>190.0</td>\n",
              "      <td>874.0</td>\n",
              "      <td>942.079745</td>\n",
              "    </tr>\n",
              "    <tr>\n",
              "      <th>3</th>\n",
              "      <td>200.0</td>\n",
              "      <td>919.0</td>\n",
              "      <td>968.285134</td>\n",
              "    </tr>\n",
              "  </tbody>\n",
              "</table>\n",
              "</div>"
            ],
            "text/plain": [
              "       x      y      y_pred\n",
              "0   35.0  401.0  535.896218\n",
              "4   40.0  459.0  548.998913\n",
              "1   45.0  574.0  562.101607\n",
              "6   54.0  653.0  585.686457\n",
              "5   70.0  739.0  627.615079\n",
              "9  110.0  832.0  732.436634\n",
              "8  120.0  746.0  758.642023\n",
              "7  150.0  902.0  837.258190\n",
              "2  190.0  874.0  942.079745\n",
              "3  200.0  919.0  968.285134"
            ]
          },
          "metadata": {
            "tags": []
          },
          "execution_count": 31
        }
      ]
    },
    {
      "cell_type": "markdown",
      "metadata": {
        "id": "FZfKDj9OVWE0"
      },
      "source": [
        "Построим на одном графике исходные данные и теоретическую прямую, построенную по уравнению регрессии:"
      ]
    },
    {
      "cell_type": "code",
      "metadata": {
        "id": "V82ew1-jVWE3",
        "colab": {
          "base_uri": "https://localhost:8080/",
          "height": 279
        },
        "outputId": "6ae080c4-9632-41b8-cd31-7f8d4a93e4d5"
      },
      "source": [
        "import matplotlib.pyplot as plt\n",
        "\n",
        "plt.scatter(df['x'], df['y'])\n",
        "plt.plot(df['x'], df['y_pred'])\n",
        "plt.xlabel('Площадь квартиры (кв. м.)')\n",
        "plt.ylabel('Цена квартиры (тыс. долларов.)')\n",
        "plt.show()"
      ],
      "execution_count": 32,
      "outputs": [
        {
          "output_type": "display_data",
          "data": {
            "image/png": "[encoded data removed]",
            "text/plain": [
              "<Figure size 432x288 with 1 Axes>"
            ]
          },
          "metadata": {
            "tags": [],
            "needs_background": "light"
          }
        }
      ]
    },
    {
      "cell_type": "markdown",
      "metadata": {
        "id": "IaGqUkRfPmFq"
      },
      "source": [
        "МАТРИЧНЫЙ МЕТОД  ПОИСКА КОЭФФИЦИЕНТОВ"
      ]
    },
    {
      "cell_type": "code",
      "metadata": {
        "colab": {
          "base_uri": "https://localhost:8080/"
        },
        "id": "4CBul8xNPpvP",
        "outputId": "1bcbeda6-cc54-428c-d1bf-e8cc1171f394"
      },
      "source": [
        "import seaborn as sns\n",
        "X=x.reshape((10,1))\n",
        "X"
      ],
      "execution_count": 34,
      "outputs": [
        {
          "output_type": "execute_result",
          "data": {
            "text/plain": [
              "array([[ 35.],\n",
              "       [ 45.],\n",
              "       [190.],\n",
              "       [200.],\n",
              "       [ 40.],\n",
              "       [ 70.],\n",
              "       [ 54.],\n",
              "       [150.],\n",
              "       [120.],\n",
              "       [110.]])"
            ]
          },
          "metadata": {
            "tags": []
          },
          "execution_count": 34
        }
      ]
    },
    {
      "cell_type": "code",
      "metadata": {
        "colab": {
          "base_uri": "https://localhost:8080/"
        },
        "id": "62C4xgYdQY70",
        "outputId": "8fb82312-1fb4-42f9-bcf1-1aaabaa79f03"
      },
      "source": [
        "Y=y.reshape((10,1))\n",
        "Y"
      ],
      "execution_count": 35,
      "outputs": [
        {
          "output_type": "execute_result",
          "data": {
            "text/plain": [
              "array([[401.],\n",
              "       [574.],\n",
              "       [874.],\n",
              "       [919.],\n",
              "       [459.],\n",
              "       [739.],\n",
              "       [653.],\n",
              "       [902.],\n",
              "       [746.],\n",
              "       [832.]])"
            ]
          },
          "metadata": {
            "tags": []
          },
          "execution_count": 35
        }
      ]
    },
    {
      "cell_type": "code",
      "metadata": {
        "colab": {
          "base_uri": "https://localhost:8080/"
        },
        "id": "kwd15D1yQ6f-",
        "outputId": "535fb8e0-bcc6-4799-a6af-9c7401615517"
      },
      "source": [
        "X=np.hstack([np.ones((10,1)),X])\n",
        "X"
      ],
      "execution_count": 36,
      "outputs": [
        {
          "output_type": "execute_result",
          "data": {
            "text/plain": [
              "array([[  1.,  35.],\n",
              "       [  1.,  45.],\n",
              "       [  1., 190.],\n",
              "       [  1., 200.],\n",
              "       [  1.,  40.],\n",
              "       [  1.,  70.],\n",
              "       [  1.,  54.],\n",
              "       [  1., 150.],\n",
              "       [  1., 120.],\n",
              "       [  1., 110.]])"
            ]
          },
          "metadata": {
            "tags": []
          },
          "execution_count": 36
        }
      ]
    },
    {
      "cell_type": "code",
      "metadata": {
        "colab": {
          "base_uri": "https://localhost:8080/"
        },
        "id": "22OKinSwQ6AV",
        "outputId": "6efd37c8-74b3-4dc9-ff70-ab88a021ab7d"
      },
      "source": [
        "B=np.dot(np.linalg.inv(np.dot(X.T, X)),X.T@y)\n",
        "B"
      ],
      "execution_count": 37,
      "outputs": [
        {
          "output_type": "execute_result",
          "data": {
            "text/plain": [
              "array([444.17735732,   2.62053888])"
            ]
          },
          "metadata": {
            "tags": []
          },
          "execution_count": 37
        }
      ]
    },
    {
      "cell_type": "markdown",
      "metadata": {
        "id": "814QDx3wSK9W"
      },
      "source": [
        "Ответы с пердыдущим способом совпали!!!"
      ]
    },
    {
      "cell_type": "markdown",
      "metadata": {
        "id": "HSt2oMguSV5j"
      },
      "source": [
        "Градиентный спуск"
      ]
    },
    {
      "cell_type": "code",
      "metadata": {
        "colab": {
          "base_uri": "https://localhost:8080/"
        },
        "id": "GEgWZ5n1SYek",
        "outputId": "5e14876d-7f76-475d-9399-d3f5e7b4edf9"
      },
      "source": [
        " x"
      ],
      "execution_count": 38,
      "outputs": [
        {
          "output_type": "execute_result",
          "data": {
            "text/plain": [
              "array([ 35.,  45., 190., 200.,  40.,  70.,  54., 150., 120., 110.])"
            ]
          },
          "metadata": {
            "tags": []
          },
          "execution_count": 38
        }
      ]
    },
    {
      "cell_type": "code",
      "metadata": {
        "colab": {
          "base_uri": "https://localhost:8080/"
        },
        "id": "dTq3JJcOSofT",
        "outputId": "f3d6cad3-8286-4cbb-aedf-8195238399f7"
      },
      "source": [
        "y"
      ],
      "execution_count": 39,
      "outputs": [
        {
          "output_type": "execute_result",
          "data": {
            "text/plain": [
              "array([401., 574., 874., 919., 459., 739., 653., 902., 746., 832.])"
            ]
          },
          "metadata": {
            "tags": []
          },
          "execution_count": 39
        }
      ]
    },
    {
      "cell_type": "code",
      "metadata": {
        "id": "1Qc5psmbSrlT"
      },
      "source": [
        "def mse_(B1,y=y,x=x, n=10):\n",
        "  return np.sum((B1*x-y)**2)/n"
      ],
      "execution_count": 40,
      "outputs": []
    },
    {
      "cell_type": "code",
      "metadata": {
        "colab": {
          "base_uri": "https://localhost:8080/"
        },
        "id": "1XjwNSQYTYAw",
        "outputId": "5c7ecb34-1f57-40b7-f15d-9675589ca253"
      },
      "source": [
        "alpha=1e-6\n",
        "alpha"
      ],
      "execution_count": 41,
      "outputs": [
        {
          "output_type": "execute_result",
          "data": {
            "text/plain": [
              "1e-06"
            ]
          },
          "metadata": {
            "tags": []
          },
          "execution_count": 41
        }
      ]
    },
    {
      "cell_type": "code",
      "metadata": {
        "colab": {
          "base_uri": "https://localhost:8080/"
        },
        "id": "DNxQTgFATwup",
        "outputId": "c4ba1144-4d67-419c-b1b2-00e71be6b318"
      },
      "source": [
        "B1=50\n",
        "\n",
        "n=10\n",
        "for i in range (10):\n",
        "  B1 -=alpha*(2/n)*np.sum((B1*x-y)*x)\n",
        "  print ('B1={}'.format(B1))"
      ],
      "execution_count": 66,
      "outputs": [
        {
          "output_type": "stream",
          "text": [
            "B1=48.7846234\n",
            "B1=47.60273431453512\n",
            "B1=46.45341005541987\n",
            "B1=45.335753357480876\n",
            "B1=44.24889167807154\n",
            "B1=43.1919765158873\n",
            "B1=42.16418274854975\n",
            "B1=41.16470798844241\n",
            "B1=40.19277195629526\n",
            "B1=39.247615872029066\n"
          ],
          "name": "stdout"
        }
      ]
    },
    {
      "cell_type": "code",
      "metadata": {
        "colab": {
          "base_uri": "https://localhost:8080/"
        },
        "id": "H3-Xk9dsUeSj",
        "outputId": "188ca73d-3d15-47e1-d16b-bf3139b49c6e"
      },
      "source": [
        "for i in range (100):\n",
        "  B1 -= alpha*(2/n)*np.sum((B1*x-y)*x)\n",
        "  if i%10==0:\n",
        "    print ('Iteration:{i}, B1={B1}, mse={mse}'.format(i=i,B1=B1,mse=mse_(B1)))"
      ],
      "execution_count": 67,
      "outputs": [
        {
          "output_type": "stream",
          "text": [
            "Iteration:0, B1=38.328501862383874, mse=14553192.927182412\n",
            "Iteration:10, B1=30.42118507532725, mse=8347107.3781591\n",
            "Iteration:20, B1=24.44137137997855, mse=4797872.10702661\n",
            "Iteration:30, B1=19.919208831791284, mse=2768078.7839498087\n",
            "Iteration:40, B1=16.49937752030173, mse=1607248.1768842682\n",
            "Iteration:50, B1=13.913171015245329, mse=943373.8390489544\n",
            "Iteration:60, B1=11.95738329427648, mse=563706.7853429933\n",
            "Iteration:70, B1=10.478342234711478, mse=346576.7300680993\n",
            "Iteration:80, B1=9.359835132726252, mse=222400.92802394586\n",
            "Iteration:90, B1=8.513977521741912, mse=151385.28814034205\n"
          ],
          "name": "stdout"
        }
      ]
    },
    {
      "cell_type": "code",
      "metadata": {
        "id": "S1p7ZB1OZxP9"
      },
      "source": [
        "mse_()"
      ],
      "execution_count": null,
      "outputs": []
    },
    {
      "cell_type": "code",
      "metadata": {
        "colab": {
          "base_uri": "https://localhost:8080/",
          "height": 265
        },
        "id": "ZEWhr53YcRBU",
        "outputId": "a8e43ad7-da60-4a53-c09e-874b17329e8b"
      },
      "source": [
        "plt.scatter(x,y)\n",
        "plt.show()"
      ],
      "execution_count": 62,
      "outputs": [
        {
          "output_type": "display_data",
          "data": {
            "image/png": "[encoded data removed]",
            "text/plain": [
              "<Figure size 432x288 with 1 Axes>"
            ]
          },
          "metadata": {
            "tags": [],
            "needs_background": "light"
          }
        }
      ]
    },
    {
      "cell_type": "code",
      "metadata": {
        "colab": {
          "base_uri": "https://localhost:8080/"
        },
        "id": "uIQCWoyacccQ",
        "outputId": "2227220f-2b4a-46ac-fa31-8396ccf6390c"
      },
      "source": [
        "np.corrcoef(x,y)"
      ],
      "execution_count": 65,
      "outputs": [
        {
          "output_type": "execute_result",
          "data": {
            "text/plain": [
              "array([[1.        , 0.88749009],\n",
              "       [0.88749009, 1.        ]])"
            ]
          },
          "metadata": {
            "tags": []
          },
          "execution_count": 65
        }
      ]
    }
  ]
}