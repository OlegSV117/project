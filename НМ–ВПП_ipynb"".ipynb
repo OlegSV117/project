{
  "nbformat": 4,
  "nbformat_minor": 0,
  "metadata": {
    "colab": {
      "name": "НМ–ВПП.ipynb\"\"",
      "provenance": [],
      "collapsed_sections": [],
      "include_colab_link": true
    },
    "kernelspec": {
      "display_name": "Python 3",
      "language": "python",
      "name": "python3"
    }
  },
  "cells": [
    {
      "cell_type": "markdown",
      "metadata": {
        "id": "view-in-github",
        "colab_type": "text"
      },
      "source": [
        "<a href=\"https://colab.research.google.com/github/OlegSV117/project/blob/dev-kraken/%D0%9D%D0%9C%E2%80%93%D0%92%D0%9F%D0%9F_ipynb%22%22.ipynb\" target=\"_parent\"><img src=\"https://colab.research.google.com/assets/colab-badge.svg\" alt=\"Open In Colab\"/></a>"
      ]
    },
    {
      "cell_type": "markdown",
      "metadata": {
        "id": "-H0TfXEAVV-c"
      },
      "source": [
        "##   КУРСОВАЯ - Проект пилотного исследования факторов риска недержания мочи (НМ) среди 34 спортсменок, обратившихся по поводу повреждения в области тазобедренного сустава. из них 9 имели симптомы НМ, 25 - не имели симптомы НМ.\n",
        "Среди факторов риска исследовались: мышечный гипертонус, гипермобильность суставов, поясничный гиперлордоз по 10-бальной системе.\n",
        "Проведение пилотного исследования показало, что мышечный гипертонус, гипермобильность суставов, поясничный гиперлордоз могут быть факторами риска и их это можно доказать, проведя более обширное исследование."
      ]
    },
    {
      "cell_type": "code",
      "metadata": {
        "id": "8kLkCTNMVWBL",
        "colab": {
          "base_uri": "https://localhost:8080/"
        },
        "outputId": "24439667-5c7b-48a9-d7e8-3a39fe14658f"
      },
      "source": [
        "import numpy as np\n",
        "from scipy import stats\n",
        "# x – массив данных по гипертонусу у пациентов с НМ, \n",
        "# y – массив данных по гипертонусу у пациентов без НМ\n",
        "x = np.array([5,7,9,6,8,7,9,7,8])\n",
        "y = np.array([7,4,6,8,5,7,5,6,5,6,5,8,6,8,5,7,4,8,5,6,6,5,5,6,5])\n",
        "kf=stats.f_oneway(x,y)\n",
        "print('F-statistic=%.3f, p-value=%.3f'%kf)"
      ],
      "execution_count": 88,
      "outputs": [
        {
          "output_type": "stream",
          "text": [
            "F-statistic=8.487, p-value=0.006\n"
          ],
          "name": "stdout"
        }
      ]
    },
    {
      "cell_type": "code",
      "metadata": {
        "colab": {
          "base_uri": "https://localhost:8080/"
        },
        "id": "ghocVRtYJl7Q",
        "outputId": "b27e0134-ff3d-4fe9-b7a4-65090bc76e88"
      },
      "source": [
        "len(x)"
      ],
      "execution_count": 2,
      "outputs": [
        {
          "output_type": "execute_result",
          "data": {
            "text/plain": [
              "9"
            ]
          },
          "metadata": {
            "tags": []
          },
          "execution_count": 2
        }
      ]
    },
    {
      "cell_type": "code",
      "metadata": {
        "colab": {
          "base_uri": "https://localhost:8080/"
        },
        "id": "GNYWP2wbJqq4",
        "outputId": "948233f9-0305-490d-b646-f453d40324af"
      },
      "source": [
        "len(y)"
      ],
      "execution_count": 3,
      "outputs": [
        {
          "output_type": "execute_result",
          "data": {
            "text/plain": [
              "25"
            ]
          },
          "metadata": {
            "tags": []
          },
          "execution_count": 3
        }
      ]
    },
    {
      "cell_type": "code",
      "metadata": {
        "colab": {
          "base_uri": "https://localhost:8080/",
          "height": 319
        },
        "id": "fqpoTgo6bRw0",
        "outputId": "ed7d19f5-808b-498c-c942-34cc49a83e74"
      },
      "source": [
        "import matplotlib.pyplot as plt\n",
        "fig, ax = plt.subplots()\n",
        "ax.boxplot((x, y), vert=False, showmeans=True, meanline=True,\n",
        "           labels=('гипертонус, НМ+','гипертонус, НМ-'), patch_artist=True,\n",
        "           medianprops={'linewidth': 2, 'color': 'purple'},\n",
        "           meanprops={'linewidth': 2, 'color': 'red'})\n",
        "plt.show()"
      ],
      "execution_count": 94,
      "outputs": [
        {
          "output_type": "stream",
          "text": [
            "/usr/local/lib/python3.7/dist-packages/numpy/core/_asarray.py:83: VisibleDeprecationWarning: Creating an ndarray from ragged nested sequences (which is a list-or-tuple of lists-or-tuples-or ndarrays with different lengths or shapes) is deprecated. If you meant to do this, you must specify 'dtype=object' when creating the ndarray\n",
            "  return array(a, dtype, copy=False, order=order)\n"
          ],
          "name": "stderr"
        },
        {
          "output_type": "display_data",
          "data": {
            "image/png": "[encoded data removed]",
            "text/plain": [
              "<Figure size 432x288 with 1 Axes>"
            ]
          },
          "metadata": {
            "tags": [],
            "needs_background": "light"
          }
        }
      ]
    },
    {
      "cell_type": "markdown",
      "metadata": {
        "id": "jSrEy9YWdujw"
      },
      "source": [
        "Среднее значение — это красная пунктирная линия.\n",
        "Медиана — это фиолетовая линия.\n",
        "Первый квартиль — левый край синего прямоугольника.\n",
        "Третий квартиль — это правый край синего прямоугольника.\n",
        "Межквартильный диапазон — это длина синего прямоугольника.\n",
        "Диапазон — всё слева направо.\n",
        "Выбросы — точки слева и справа."
      ]
    },
    {
      "cell_type": "code",
      "metadata": {
        "colab": {
          "base_uri": "https://localhost:8080/"
        },
        "id": "b_KUFl79m8MD",
        "outputId": "2ea5c80f-d188-4c75-8691-fe34031a3636"
      },
      "source": [
        "# x1 – массив баллов по гипермобильности у пациентов с НМ, \n",
        "# y2 – массив баллов по гипермобильности  у пациентов без НМ\n",
        "x1 = np.array([3,5,4,4,5,4,5,4,3])\n",
        "y1 = np.array([3,4,3,5,3,3,4,1,3,5,4,3,3,4,3,5,4,4,4,3,4,4,3,3,4])\n",
        "kf=stats.f_oneway(x1,y1)\n",
        "print('F-statistic=%.3f, p-value=%.3f'%kf)"
      ],
      "execution_count": 95,
      "outputs": [
        {
          "output_type": "stream",
          "text": [
            "F-statistic=2.790, p-value=0.105\n"
          ],
          "name": "stdout"
        }
      ]
    },
    {
      "cell_type": "code",
      "metadata": {
        "colab": {
          "base_uri": "https://localhost:8080/"
        },
        "id": "Z1bVdGBXnLFJ",
        "outputId": "3c4e0d06-a24f-402c-916c-eb7dce4e5ba0"
      },
      "source": [
        "len(x1)"
      ],
      "execution_count": 91,
      "outputs": [
        {
          "output_type": "execute_result",
          "data": {
            "text/plain": [
              "9"
            ]
          },
          "metadata": {
            "tags": []
          },
          "execution_count": 91
        }
      ]
    },
    {
      "cell_type": "code",
      "metadata": {
        "colab": {
          "base_uri": "https://localhost:8080/"
        },
        "id": "WZY6cVPanLz6",
        "outputId": "6e1bc7c5-7db9-40dc-bd0d-6d0219351ed2"
      },
      "source": [
        "len(y1)"
      ],
      "execution_count": 92,
      "outputs": [
        {
          "output_type": "execute_result",
          "data": {
            "text/plain": [
              "25"
            ]
          },
          "metadata": {
            "tags": []
          },
          "execution_count": 92
        }
      ]
    },
    {
      "cell_type": "code",
      "metadata": {
        "colab": {
          "base_uri": "https://localhost:8080/",
          "height": 319
        },
        "id": "-g8--wB9buk_",
        "outputId": "798592f0-e1c9-403f-99da-41c7d604e427"
      },
      "source": [
        "fig, ax = plt.subplots()\n",
        "ax.boxplot((x1, y1), vert=False, showmeans=True, meanline=True,\n",
        "           labels=('гипермобильность, НМ+','гипермобильность, НМ-'), patch_artist=True,\n",
        "           medianprops={'linewidth': 2, 'color': 'purple'},\n",
        "           meanprops={'linewidth': 2, 'color': 'red'})\n",
        "plt.show()"
      ],
      "execution_count": 97,
      "outputs": [
        {
          "output_type": "stream",
          "text": [
            "/usr/local/lib/python3.7/dist-packages/numpy/core/_asarray.py:83: VisibleDeprecationWarning: Creating an ndarray from ragged nested sequences (which is a list-or-tuple of lists-or-tuples-or ndarrays with different lengths or shapes) is deprecated. If you meant to do this, you must specify 'dtype=object' when creating the ndarray\n",
            "  return array(a, dtype, copy=False, order=order)\n"
          ],
          "name": "stderr"
        },
        {
          "output_type": "display_data",
          "data": {
            "image/png": "[encoded data removed]",
            "text/plain": [
              "<Figure size 432x288 with 1 Axes>"
            ]
          },
          "metadata": {
            "tags": [],
            "needs_background": "light"
          }
        }
      ]
    },
    {
      "cell_type": "code",
      "metadata": {
        "colab": {
          "base_uri": "https://localhost:8080/"
        },
        "id": "Xy6sp2NvKE3H",
        "outputId": "678c6e82-d18d-4db3-ac28-45aff124948c"
      },
      "source": [
        "# x2 – массив баллов по поясничному гиперлордозу у пациентов с НМ, \n",
        "# y2 – массив баллов по поясничному гиперлордозу у пациентов без НМ\n",
        "x2 = np.array([4,5,4,4,5,4,4,5,3])\n",
        "y2 = np.array([5,3,3,5,4,3,4,4,5,3,4,4,4,5,3,3,5,3,4,3,4,3,3,4,4])\n",
        "kf=stats.f_oneway(x2,y2)\n",
        "print('F-statistic=%.3f, p-value=%.3f'%kf)"
      ],
      "execution_count": 98,
      "outputs": [
        {
          "output_type": "stream",
          "text": [
            "F-statistic=2.150, p-value=0.152\n"
          ],
          "name": "stdout"
        }
      ]
    },
    {
      "cell_type": "code",
      "metadata": {
        "colab": {
          "base_uri": "https://localhost:8080/",
          "height": 319
        },
        "id": "bMmTaomTb8jy",
        "outputId": "6a8622a3-b34f-46b8-d1df-28f9d1195845"
      },
      "source": [
        "fig, ax = plt.subplots()\n",
        "ax.boxplot((x2, y2), vert=False, showmeans=True, meanline=True,\n",
        "           labels=('гиперлордоз, НМ+','гиперлордоз, НМ-'), patch_artist=True,\n",
        "           medianprops={'linewidth': 2, 'color': 'purple'},\n",
        "           meanprops={'linewidth': 2, 'color': 'red'})\n",
        "plt.show()"
      ],
      "execution_count": 99,
      "outputs": [
        {
          "output_type": "stream",
          "text": [
            "/usr/local/lib/python3.7/dist-packages/numpy/core/_asarray.py:83: VisibleDeprecationWarning: Creating an ndarray from ragged nested sequences (which is a list-or-tuple of lists-or-tuples-or ndarrays with different lengths or shapes) is deprecated. If you meant to do this, you must specify 'dtype=object' when creating the ndarray\n",
            "  return array(a, dtype, copy=False, order=order)\n"
          ],
          "name": "stderr"
        },
        {
          "output_type": "display_data",
          "data": {
            "image/png": "[encoded data removed]",
            "text/plain": [
              "<Figure size 432x288 with 1 Axes>"
            ]
          },
          "metadata": {
            "tags": [],
            "needs_background": "light"
          }
        }
      ]
    },
    {
      "cell_type": "code",
      "metadata": {
        "colab": {
          "base_uri": "https://localhost:8080/"
        },
        "id": "MEQLous6KiVb",
        "outputId": "ed44cad3-5abb-4d23-a39b-996c0df56802"
      },
      "source": [
        "len(x2)"
      ],
      "execution_count": 15,
      "outputs": [
        {
          "output_type": "execute_result",
          "data": {
            "text/plain": [
              "9"
            ]
          },
          "metadata": {
            "tags": []
          },
          "execution_count": 15
        }
      ]
    },
    {
      "cell_type": "code",
      "metadata": {
        "colab": {
          "base_uri": "https://localhost:8080/"
        },
        "id": "sLCCuhPhKoID",
        "outputId": "4bedddf6-0881-40ec-ee02-75178e4b8652"
      },
      "source": [
        "len(y2)"
      ],
      "execution_count": 16,
      "outputs": [
        {
          "output_type": "execute_result",
          "data": {
            "text/plain": [
              "25"
            ]
          },
          "metadata": {
            "tags": []
          },
          "execution_count": 16
        }
      ]
    },
    {
      "cell_type": "code",
      "metadata": {
        "colab": {
          "base_uri": "https://localhost:8080/"
        },
        "id": "Mojl4khXv6Gd",
        "outputId": "c540f3cc-7bf6-4466-9de2-9b1b59f9ed05"
      },
      "source": [
        "# x3 – массив количества эпизодов НМ в течение 10 дней (до реабилитации), \n",
        "# y3 – массив количества эпизодов НМ в течение 10 дней (после реабилитации), \n",
        "x3 = np.array([6,4,8,5,7,9,8,10,7])\n",
        "y3 = np.array([4,4,6,4,5,6,6,6,5])\n",
        "kf=stats.f_oneway(x3,y3)\n",
        "print('F-statistic=%.3f, p-value=%.3f'%kf)"
      ],
      "execution_count": 100,
      "outputs": [
        {
          "output_type": "stream",
          "text": [
            "F-statistic=8.050, p-value=0.012\n"
          ],
          "name": "stdout"
        }
      ]
    },
    {
      "cell_type": "code",
      "metadata": {
        "colab": {
          "base_uri": "https://localhost:8080/"
        },
        "id": "cZfmvwaTwqi3",
        "outputId": "1a430e38-bc7b-416d-98d5-148c4e790f5c"
      },
      "source": [
        "len(x3)"
      ],
      "execution_count": 20,
      "outputs": [
        {
          "output_type": "execute_result",
          "data": {
            "text/plain": [
              "9"
            ]
          },
          "metadata": {
            "tags": []
          },
          "execution_count": 20
        }
      ]
    },
    {
      "cell_type": "code",
      "metadata": {
        "colab": {
          "base_uri": "https://localhost:8080/"
        },
        "id": "CBAsXw9ZwrEV",
        "outputId": "2ee011c0-8b99-474d-a6ad-bfee334192bd"
      },
      "source": [
        "len(y3)"
      ],
      "execution_count": 21,
      "outputs": [
        {
          "output_type": "execute_result",
          "data": {
            "text/plain": [
              "9"
            ]
          },
          "metadata": {
            "tags": []
          },
          "execution_count": 21
        }
      ]
    },
    {
      "cell_type": "code",
      "metadata": {
        "colab": {
          "base_uri": "https://localhost:8080/",
          "height": 265
        },
        "id": "IC9qwqLbcEUM",
        "outputId": "23685058-af11-4490-8777-a8d427fe1a75"
      },
      "source": [
        "fig, ax = plt.subplots()\n",
        "ax.boxplot((x3, y3), vert=False, showmeans=True, meanline=True,\n",
        "           labels=('НМ до реабилитации','НМ после реабилитации'), patch_artist=True,\n",
        "           medianprops={'linewidth': 2, 'color': 'purple'},\n",
        "           meanprops={'linewidth': 2, 'color': 'red'})\n",
        "plt.show()"
      ],
      "execution_count": 101,
      "outputs": [
        {
          "output_type": "display_data",
          "data": {
            "image/png": "[encoded data removed]",
            "text/plain": [
              "<Figure size 432x288 with 1 Axes>"
            ]
          },
          "metadata": {
            "tags": [],
            "needs_background": "light"
          }
        }
      ]
    },
    {
      "cell_type": "code",
      "metadata": {
        "colab": {
          "base_uri": "https://localhost:8080/",
          "height": 400
        },
        "id": "WgW95QW0UGxC",
        "outputId": "631fa5c0-9dc6-43ee-c597-057e092cb421"
      },
      "source": [
        "corrmat_x =np.corrcoef([x,x1,x2,x3,y3])\n",
        "import matplotlib.pyplot as plt\n",
        "import seaborn as sns \n",
        "import pandas as pd\n",
        "columns1 = ['гипертонус НМ+','гипермобильность НМ+', 'гиперлордоз НМ+', 'НМ до реабилитации', 'НМ после реабилитации']\n",
        "dfcorr_x =pd.DataFrame(corrmat_x,columns1,columns1)\n",
        "sns.heatmap(dfcorr_x, vmax=1, square=True, annot=True, cmap='coolwarm')\n",
        "plt.title('Корреляционная матрица пациентов с НМ')\n",
        "plt.show()\n"
      ],
      "execution_count": 102,
      "outputs": [
        {
          "output_type": "display_data",
          "data": {
            "image/png": "[encoded data removed]",
            "text/plain": [
              "<Figure size 432x288 with 2 Axes>"
            ]
          },
          "metadata": {
            "tags": [],
            "needs_background": "light"
          }
        }
      ]
    },
    {
      "cell_type": "code",
      "metadata": {
        "colab": {
          "base_uri": "https://localhost:8080/",
          "height": 401
        },
        "id": "VDXcB6QLYK8N",
        "outputId": "a33d27e7-b571-44e7-aab0-d199334e7210"
      },
      "source": [
        "corrmat_y=np.corrcoef([y,y1,y2])\n",
        "import matplotlib.pyplot as plt\n",
        "import seaborn as sns \n",
        "import pandas as pd\n",
        "import numpy as np\n",
        "\n",
        "columns = ['гипертонус НМ(-)','гипермобильность НМ(-)','гиперлордоз НМ(-)']\n",
        "dfcorr=pd.DataFrame(corrmat_y,columns,columns)\n",
        "sns.heatmap(dfcorr, vmax=1, square=True, annot=True, cmap='coolwarm')\n",
        "plt.title('Корреляционная матрица пациентов без НМ')\n",
        "plt.show()\n"
      ],
      "execution_count": 103,
      "outputs": [
        {
          "output_type": "display_data",
          "data": {
            "image/png": "[encoded data removed]",
            "text/plain": [
              "<Figure size 432x288 with 2 Axes>"
            ]
          },
          "metadata": {
            "tags": [],
            "needs_background": "light"
          }
        }
      ]
    },
    {
      "cell_type": "code",
      "metadata": {
        "colab": {
          "base_uri": "https://localhost:8080/",
          "height": 319
        },
        "id": "SKjBfMCwaW96",
        "outputId": "ae7e2f43-266e-4f5d-d216-d71ed9ee94fd"
      },
      "source": [
        "fig, ax = plt.subplots()\n",
        "ax.boxplot((x,y, x1, y1, x2, y2, x3, y3), vert=False, showmeans=True, meanline=True,\n",
        "           labels=('гипертонус НМ+','гипертонус НМ - ', 'гипермобильность НМ+', 'гипермобильность НМ - ','гиперлордоз НМ+', 'гиперлордоз НМ - ','НМ до реабилитации', 'НМ после реабилитации'), patch_artist=True,\n",
        "           medianprops={'linewidth': 2, 'color': 'purple'},\n",
        "           meanprops={'linewidth': 2, 'color': 'red'})\n",
        "plt.show()"
      ],
      "execution_count": 104,
      "outputs": [
        {
          "output_type": "stream",
          "text": [
            "/usr/local/lib/python3.7/dist-packages/numpy/core/_asarray.py:83: VisibleDeprecationWarning: Creating an ndarray from ragged nested sequences (which is a list-or-tuple of lists-or-tuples-or ndarrays with different lengths or shapes) is deprecated. If you meant to do this, you must specify 'dtype=object' when creating the ndarray\n",
            "  return array(a, dtype, copy=False, order=order)\n"
          ],
          "name": "stderr"
        },
        {
          "output_type": "display_data",
          "data": {
            "image/png": "[encoded data removed]",
            "text/plain": [
              "<Figure size 432x288 with 1 Axes>"
            ]
          },
          "metadata": {
            "tags": [],
            "needs_background": "light"
          }
        }
      ]
    }
  ]
}