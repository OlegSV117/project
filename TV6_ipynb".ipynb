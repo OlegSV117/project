{
  "nbformat": 4,
  "nbformat_minor": 0,
  "metadata": {
    "colab": {
      "name": "TV6.ipynb\"",
      "provenance": [],
      "collapsed_sections": [],
      "include_colab_link": true
    },
    "kernelspec": {
      "display_name": "Python 3",
      "language": "python",
      "name": "python3"
    }
  },
  "cells": [
    {
      "cell_type": "markdown",
      "metadata": {
        "id": "view-in-github",
        "colab_type": "text"
      },
      "source": [
        "<a href=\"https://colab.research.google.com/github/OlegSV117/project/blob/dev-kraken/TV6_ipynb%22.ipynb\" target=\"_parent\"><img src=\"https://colab.research.google.com/assets/colab-badge.svg\" alt=\"Open In Colab\"/></a>"
      ]
    },
    {
      "cell_type": "markdown",
      "metadata": {
        "id": "snzQ6I-GNKuz"
      },
      "source": [
        "## Урок 6. Взаимосвязь величин. Параметрические и непараметрические показатели корреляции. Корреляционный анализ.\n",
        "\n",
        "---\n",
        "\n"
      ]
    },
    {
      "cell_type": "markdown",
      "metadata": {
        "id": "eoIjKvLSNKu-"
      },
      "source": [
        "1. Даны значения величины заработной платы заемщиков банка (zp) и значения их поведенческого кредитного скоринга (ks):\n",
        "zp = [35, 45, 190, 200, 40, 70, 54, 150, 120, 110],\n",
        "ks = [401, 574, 874, 919, 459, 739, 653, 902, 746, 832].\n",
        "Найдите ковариацию этих двух величин с помощью элементарных действий, а затем с помощью функции cov из numpy\n",
        "Полученные значения должны быть равны.\n",
        "Найдите коэффициент корреляции Пирсона с помощью ковариации и среднеквадратичных отклонений двух признаков,\n",
        "а затем с использованием функций из библиотек numpy и pandas."
      ]
    },
    {
      "cell_type": "markdown",
      "metadata": {
        "id": "svQfckaw4aaw"
      },
      "source": [
        "$$cov_{XY} = M[(X - M(X))(Y - M(Y))] = M(XY) - M(X)M(Y)=\\overline{X \\cdot Y} - \\overline{X} \\cdot \\overline{Y}$$\n"
      ]
    },
    {
      "cell_type": "code",
      "metadata": {
        "id": "wp5kxW1ihvuN"
      },
      "source": [
        "import numpy as np\n",
        "\n",
        "zp = [35, 45, 190, 200, 40, 70, 54, 150, 120, 110]\n",
        "ks = [401, 574, 874, 919, 459, 739, 653, 902, 746, 832]\n",
        "zpn = np.array(zp)\n",
        "ksn = np.array(ks)"
      ],
      "execution_count": 6,
      "outputs": []
    },
    {
      "cell_type": "code",
      "metadata": {
        "colab": {
          "base_uri": "https://localhost:8080/"
        },
        "id": "8YpMFdztjlgU",
        "outputId": "6a58b68a-da99-4356-db47-ed4200ef56f6"
      },
      "source": [
        "# ковариация по формуле 𝑀(𝑋𝑌)−𝑀(𝑋)𝑀(𝑌)\n",
        "np.mean(zpks)-np.mean(zpn)*np.mean(ksn)"
      ],
      "execution_count": 8,
      "outputs": [
        {
          "output_type": "execute_result",
          "data": {
            "text/plain": [
              "9157.839999999997"
            ]
          },
          "metadata": {
            "tags": []
          },
          "execution_count": 8
        }
      ]
    },
    {
      "cell_type": "code",
      "metadata": {
        "colab": {
          "base_uri": "https://localhost:8080/"
        },
        "id": "c6qUNDykkSHm",
        "outputId": "dc290d19-ce5c-433f-c488-08688a2e7a08"
      },
      "source": [
        "np.cov(zpn, ksn, ddof = 0)"
      ],
      "execution_count": 22,
      "outputs": [
        {
          "output_type": "execute_result",
          "data": {
            "text/plain": [
              "array([[ 3494.64,  9157.84],\n",
              "       [ 9157.84, 30468.89]])"
            ]
          },
          "metadata": {
            "tags": []
          },
          "execution_count": 22
        }
      ]
    },
    {
      "cell_type": "code",
      "metadata": {
        "colab": {
          "base_uri": "https://localhost:8080/"
        },
        "id": "2E0FbKpOmkEU",
        "outputId": "14623d1c-6c04-4ecb-a66a-ff390dad8049"
      },
      "source": [
        "# Не могу понять почему подсчет ковариации по формуле 𝑀[(𝑋−𝑀(𝑋))(𝑌−𝑀(𝑌))] дает другой результат\n",
        "np.mean(abs(zp-np.mean(zp)))* np.mean(abs(ks-np.mean(ks)))"
      ],
      "execution_count": 19,
      "outputs": [
        {
          "output_type": "execute_result",
          "data": {
            "text/plain": [
              "7917.351999999999"
            ]
          },
          "metadata": {
            "tags": []
          },
          "execution_count": 19
        }
      ]
    },
    {
      "cell_type": "markdown",
      "metadata": {
        "id": "FIf463xOooO_"
      },
      "source": [
        "$$r_{XY} = \\frac{cov_{XY}}{\\sigma_{X}\\sigma_{Y}}$$"
      ]
    },
    {
      "cell_type": "code",
      "metadata": {
        "colab": {
          "base_uri": "https://localhost:8080/"
        },
        "id": "d_nvBLTporuC",
        "outputId": "417e8bd7-8a31-4d77-e40b-b4ee972ab739"
      },
      "source": [
        "# коэффициент корреляции Пирсона с помощью ковариации и среднеквадратичных отклонений двух признаков\n",
        "(np.mean(zpks)-np.mean(zpn)*np.mean(ksn))/(np.std(zpn)* np.std(ksn))"
      ],
      "execution_count": 27,
      "outputs": [
        {
          "output_type": "execute_result",
          "data": {
            "text/plain": [
              "0.8874900920739158"
            ]
          },
          "metadata": {
            "tags": []
          },
          "execution_count": 27
        }
      ]
    },
    {
      "cell_type": "code",
      "metadata": {
        "colab": {
          "base_uri": "https://localhost:8080/"
        },
        "id": "T2_U4ePCpJKa",
        "outputId": "a8fd3c71-dd18-4db2-d4cb-c9eb99aea034"
      },
      "source": [
        "# корреляции Пирсона с использованием функций из библиотек numpy \n",
        "np.corrcoef(zpn, ksn)"
      ],
      "execution_count": 37,
      "outputs": [
        {
          "output_type": "execute_result",
          "data": {
            "text/plain": [
              "array([[1.        , 0.88749009],\n",
              "       [0.88749009, 1.        ]])"
            ]
          },
          "metadata": {
            "tags": []
          },
          "execution_count": 37
        }
      ]
    },
    {
      "cell_type": "markdown",
      "metadata": {
        "id": "QISOz4ivmjyF"
      },
      "source": [
        "2. Измерены значения IQ выборки студентов,\n",
        "обучающихся в местных технических вузах:\n",
        "131, 125, 115, 122, 131, 115, 107, 99, 125, 111.\n",
        "Известно, что в генеральной совокупности IQ распределен нормально.\n",
        "Найдите доверительный интервал для математического ожидания с надежностью 0.95."
      ]
    },
    {
      "cell_type": "markdown",
      "metadata": {
        "id": "m6LYxyuiqw5s"
      },
      "source": [
        "$$T_{1,2} = \\overline{X} \\pm \\frac{\\sigma}{\\sqrt{n}} \\cdot t_{\\alpha / 2}$$\n",
        "где $T_1$, $T_2$ — нижняя и верхняя границы доверительного интервала,\n",
        "\n",
        "$\\overline{X} $  — выборочное среднее арифметическое,\n",
        "\n",
        "$\\sigma$ — среднее квадратичное отклонение по выборке (несмещенное),\n",
        "\n",
        "$n = 10$ — размер выборки, степеней свободы – 9\n",
        "\n",
        "$\\alpha = 0.95$ — доверительная вероятность, для нее\n",
        "\n",
        "$t_{\\alpha / 2} = 2.262$\n"
      ]
    },
    {
      "cell_type": "code",
      "metadata": {
        "colab": {
          "base_uri": "https://localhost:8080/"
        },
        "id": "I52wS7f7rXLj",
        "outputId": "7a100a44-5994-406b-e637-2d072542d9da"
      },
      "source": [
        "IQ=[131, 125, 115, 122, 131, 115, 107, 99, 125, 111]\n",
        "# правая граница интервала\n",
        "np.mean(IQ)+np.std(IQ)*2.262/np.sqrt(10)\n"
      ],
      "execution_count": 30,
      "outputs": [
        {
          "output_type": "execute_result",
          "data": {
            "text/plain": [
              "125.25629022580833"
            ]
          },
          "metadata": {
            "tags": []
          },
          "execution_count": 30
        }
      ]
    },
    {
      "cell_type": "code",
      "metadata": {
        "colab": {
          "base_uri": "https://localhost:8080/"
        },
        "id": "6XqPiefstCXg",
        "outputId": "4ee085e9-ed7c-4f0e-c422-6f49ec2878ac"
      },
      "source": [
        "# левая граница интервала\n",
        "np.mean(IQ)-np.std(IQ)*2.262/np.sqrt(10)"
      ],
      "execution_count": 38,
      "outputs": [
        {
          "output_type": "execute_result",
          "data": {
            "text/plain": [
              "110.94370977419166"
            ]
          },
          "metadata": {
            "tags": []
          },
          "execution_count": 38
        }
      ]
    },
    {
      "cell_type": "markdown",
      "metadata": {
        "id": "IbNBxy5FPQIZ"
      },
      "source": [
        "3. Известно, что рост футболистов в сборной распределен нормально\n",
        "с дисперсией генеральной совокупности, равной 25 кв.см. Объем выборки равен 27,\n",
        "среднее выборочное составляет 174.2. Найдите доверительный интервал для математического\n",
        "ожидания с надежностью 0.95.\n"
      ]
    },
    {
      "cell_type": "markdown",
      "metadata": {
        "id": "Dg-hh6zOWKUf"
      },
      "source": [
        "Решение:\n",
        "\n",
        "$ \\alpha = 0.05$\n",
        "\n",
        "$ n=27$\n",
        "\n",
        "$ \\overline{X} = 174.2$\n",
        "\n",
        "$ \\sigma^2 = 25$\n",
        "\n",
        "$ \\overline{Z}_T = 1.65$\n",
        " \n"
      ]
    },
    {
      "cell_type": "code",
      "metadata": {
        "colab": {
          "base_uri": "https://localhost:8080/"
        },
        "id": "d__u5Rvt51pL",
        "outputId": "8586f5c8-67d8-424b-8131-9326ec687ced"
      },
      "source": [
        "# Значение 𝑍-критерия\n",
        "import scipy.stats as st\n",
        "st.norm.ppf(.95)"
      ],
      "execution_count": 41,
      "outputs": [
        {
          "output_type": "execute_result",
          "data": {
            "text/plain": [
              "1.6448536269514722"
            ]
          },
          "metadata": {
            "tags": []
          },
          "execution_count": 41
        }
      ]
    },
    {
      "cell_type": "code",
      "metadata": {
        "colab": {
          "base_uri": "https://localhost:8080/"
        },
        "id": "iQJjfN2Jz-gx",
        "outputId": "228bfd9e-0c91-4f23-dd4b-a04ecd1802e3"
      },
      "source": [
        "# правая граница интервала\n",
        "174.2+ 5*1.65/np.sqrt(27)"
      ],
      "execution_count": 39,
      "outputs": [
        {
          "output_type": "execute_result",
          "data": {
            "text/plain": [
              "175.78771324027147"
            ]
          },
          "metadata": {
            "tags": []
          },
          "execution_count": 39
        }
      ]
    },
    {
      "cell_type": "code",
      "metadata": {
        "colab": {
          "base_uri": "https://localhost:8080/"
        },
        "id": "n47WblaH0k8M",
        "outputId": "7d8dda5a-50a8-4a7a-a12c-48aed6df23a5"
      },
      "source": [
        "# левая граница интервала\n",
        "174.2- 5*1.65/np.sqrt(27)"
      ],
      "execution_count": 40,
      "outputs": [
        {
          "output_type": "execute_result",
          "data": {
            "text/plain": [
              "172.6122867597285"
            ]
          },
          "metadata": {
            "tags": []
          },
          "execution_count": 40
        }
      ]
    }
  ]
}