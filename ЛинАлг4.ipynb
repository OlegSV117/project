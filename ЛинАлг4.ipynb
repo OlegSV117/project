{
  "nbformat": 4,
  "nbformat_minor": 0,
  "metadata": {
    "colab": {
      "name": "ЛинАлг4.ipynb",
      "provenance": [],
      "collapsed_sections": [],
      "authorship_tag": "ABX9TyPBLkhBBEwwWWs8GhIQUTCt",
      "include_colab_link": true
    },
    "kernelspec": {
      "name": "python3",
      "display_name": "Python 3"
    },
    "language_info": {
      "name": "python"
    }
  },
  "cells": [
    {
      "cell_type": "markdown",
      "metadata": {
        "id": "view-in-github",
        "colab_type": "text"
      },
      "source": [
        "<a href=\"https://colab.research.google.com/github/OlegSV117/project/blob/dev-kraken/%D0%9B%D0%B8%D0%BD%D0%90%D0%BB%D0%B34.ipynb\" target=\"_parent\"><img src=\"https://colab.research.google.com/assets/colab-badge.svg\" alt=\"Open In Colab\"/></a>"
      ]
    },
    {
      "cell_type": "markdown",
      "metadata": {
        "id": "2DiYjxub9l4m"
      },
      "source": [
        "__1.__ Решить систему уравнений методом Гаусса:\n",
        "\n",
        "$$\\begin{cases}\n",
        "x_{1}+x_{2}-x_{3}-2x_{4}=0, \\\\\n",
        "2x_{1}+x_{2}-x_{3}+x_{4}=-2, \\\\\n",
        "x_{1}+x_{2}-3x_{3}+x_{4}=4.\n",
        "\\end{cases}$$\n"
      ]
    },
    {
      "cell_type": "markdown",
      "metadata": {
        "id": "_FOf_p4z_xKl"
      },
      "source": [
        "**Ответ**: если $x_4 = C$, то  $$x_3 = 1,5 C-2$$,\n",
        "\n",
        "$$ x_2 = 6,5 C$$, $$x_1 = 2-3C$$"
      ]
    },
    {
      "cell_type": "markdown",
      "metadata": {
        "id": "iINhfU2wBFZY"
      },
      "source": [
        "__2.__ Проверить на совместность и выяснить, сколько решений будет иметь система линейных уравнений:\n",
        "\n",
        "   а) $\\begin{cases}\n",
        "3x_{1}-x_{2}+x_{3}=4, \\\\\n",
        "2x_{1}-5x_{2}-3x_{3}=-17, \\\\\n",
        "x_{1}+x_{2}-x_{3}=0;\n",
        "\\end{cases}$\n",
        "    \n",
        "   б) $\\begin{cases}\n",
        "2x_{1}-4x_{2}+6x_{3}=1, \\\\\n",
        "x_{1}-2x_{2}+3x_{3}=-2, \\\\\n",
        "3x_{1}-6x_{2}+9x_{3}=5;\n",
        "\\end{cases}$\n",
        "    \n",
        "   в) $\\begin{cases}\n",
        "x_{1}+2x_{2}+5x_{3}=4, \\\\\n",
        "3x_{1}+x_{2}-8x_{3}=-2. \n",
        "\\end{cases}$\n",
        "\n"
      ]
    },
    {
      "cell_type": "code",
      "metadata": {
        "colab": {
          "base_uri": "https://localhost:8080/"
        },
        "id": "IGzTThqYBogu",
        "outputId": "7e1ae3cf-4c70-4771-e66b-0d07cd0deeea"
      },
      "source": [
        "# Задание а) \n",
        "import numpy as np\n",
        "import scipy.linalg\n",
        "a = np.array([[3,-1,1],[2,-5,-3],[1,1,-1]])\n",
        "aa = np.array([[3,-1,1, 4],[2,-5,-3,-17],[1,1,-1,0]])\n",
        "r = np.linalg.matrix_rank(a)\n",
        "rr = np.linalg.matrix_rank(aa)\n",
        "print(a)\n",
        "print(aa)\n",
        "print(f'Ранг матрицы: {r}')\n",
        "print(f'Ранг расширенной матрицы: {rr}')\n"
      ],
      "execution_count": 19,
      "outputs": [
        {
          "output_type": "stream",
          "text": [
            "[[ 3 -1  1]\n",
            " [ 2 -5 -3]\n",
            " [ 1  1 -1]]\n",
            "[[  3  -1   1   4]\n",
            " [  2  -5  -3 -17]\n",
            " [  1   1  -1   0]]\n",
            "Ранг матрицы: 3\n",
            "Ранг расширенной матрицы: 3\n"
          ],
          "name": "stdout"
        }
      ]
    },
    {
      "cell_type": "markdown",
      "metadata": {
        "id": "DvlXCDpiCqZi"
      },
      "source": [
        "a)   Так как $rankA=rank \\tilde A=3$ — число неизвестных, то система определена, т. е. имеет единственное решение;"
      ]
    },
    {
      "cell_type": "code",
      "metadata": {
        "colab": {
          "base_uri": "https://localhost:8080/"
        },
        "id": "eLEBg8xUC86P",
        "outputId": "0de0ac6d-805f-4620-a4e3-2848f07a715c"
      },
      "source": [
        "# Задание б) \n",
        "import numpy as np\n",
        "import scipy.linalg\n",
        "a1 = np.array([[2,-4,6],[1,-2,3],[3,-6,9]])\n",
        "aa1 = np.array([[2,-4,6, 1],[1,-2,3, -2],[3,-6,9, 5]])\n",
        "r = np.linalg.matrix_rank(a1)\n",
        "rr = np.linalg.matrix_rank(aa1)\n",
        "print(a1)\n",
        "print(aa1)\n",
        "print(f'Ранг матрицы: {r}')\n",
        "print(f'Ранг расширенной матрицы: {rr}')"
      ],
      "execution_count": 20,
      "outputs": [
        {
          "output_type": "stream",
          "text": [
            "[[ 2 -4  6]\n",
            " [ 1 -2  3]\n",
            " [ 3 -6  9]]\n",
            "[[ 2 -4  6  1]\n",
            " [ 1 -2  3 -2]\n",
            " [ 3 -6  9  5]]\n",
            "Ранг матрицы: 1\n",
            "Ранг расширенной матрицы: 2\n"
          ],
          "name": "stdout"
        }
      ]
    },
    {
      "cell_type": "markdown",
      "metadata": {
        "id": "2OXhTnQyEHEI"
      },
      "source": [
        "б) $rankA<rank \\tilde A$ –  система несовместна."
      ]
    },
    {
      "cell_type": "code",
      "metadata": {
        "colab": {
          "base_uri": "https://localhost:8080/"
        },
        "id": "Eb75ip_-EZ_m",
        "outputId": "b50d78a4-0c9e-4b89-9a65-05d464701bdc"
      },
      "source": [
        "# Задание в) \n",
        "import numpy as np\n",
        "import scipy.linalg\n",
        "a2 = np.array([[1,2,5],[3,1,-8]])\n",
        "aa2 = np.array([[1,2,5,4],[3,1,-8,-2]])\n",
        "r = np.linalg.matrix_rank(a2)\n",
        "rr = np.linalg.matrix_rank(aa2)\n",
        "print(a2)\n",
        "print(aa2)\n",
        "print(f'Ранг матрицы: {r}')\n",
        "print(f'Ранг расширенной матрицы: {rr}')"
      ],
      "execution_count": 21,
      "outputs": [
        {
          "output_type": "stream",
          "text": [
            "[[ 1  2  5]\n",
            " [ 3  1 -8]]\n",
            "[[ 1  2  5  4]\n",
            " [ 3  1 -8 -2]]\n",
            "Ранг матрицы: 2\n",
            "Ранг расширенной матрицы: 2\n"
          ],
          "name": "stdout"
        }
      ]
    },
    {
      "cell_type": "markdown",
      "metadata": {
        "id": "rsiOf0Q8FIa3"
      },
      "source": [
        "в) $rankA=rank \\tilde A<3 $ - число  неизвестных –   система имеет бесконечное количество решений"
      ]
    },
    {
      "cell_type": "markdown",
      "metadata": {
        "id": "C2oSGoBzF2x8"
      },
      "source": [
        "_3.__ Проверить на совместность и выяснить, сколько решений будет иметь система линейных уравнений, заданная расширенной матрицей\n",
        "\n",
        "$$\\tilde{A}=\\begin{pmatrix}\n",
        "\\left.\\begin{matrix}\n",
        "1 & 3 & -2 & 4\\\\ \n",
        "0 & 5 & 0 & 1\\\\ \n",
        "0 & 0 & 3 & 0\\\\ \n",
        "0 & 0 & 0 & 2\n",
        "\\end{matrix}\\right|\n",
        "\\begin{matrix}\n",
        "3\\\\ \n",
        "2\\\\\n",
        "4\\\\\n",
        "1\n",
        "\\end{matrix}\n",
        "\\end{pmatrix}.$$"
      ]
    },
    {
      "cell_type": "code",
      "metadata": {
        "colab": {
          "base_uri": "https://localhost:8080/"
        },
        "id": "d4SGabu8F89A",
        "outputId": "0faf05cd-80a0-4986-a503-6c8dcff96114"
      },
      "source": [
        "import numpy as np\n",
        "import scipy.linalg\n",
        "a3 = np.array([[1,3,-2, 4],[0,5,0, 1], [0,0,3,0],[0,0,0,2]])\n",
        "aa3 = np.array([[1,3,-2, 4,3],[0,5,0, 1,2], [0,0,3,0,4],[0,0,0,2,1]])\n",
        "r = np.linalg.matrix_rank(a3)\n",
        "rr = np.linalg.matrix_rank(aa3)\n",
        "print(a3)\n",
        "print(aa3)\n",
        "print(f'Ранг матрицы: {r}')\n",
        "print(f'Ранг расширенной матрицы: {rr}')"
      ],
      "execution_count": 22,
      "outputs": [
        {
          "output_type": "stream",
          "text": [
            "[[ 1  3 -2  4]\n",
            " [ 0  5  0  1]\n",
            " [ 0  0  3  0]\n",
            " [ 0  0  0  2]]\n",
            "[[ 1  3 -2  4  3]\n",
            " [ 0  5  0  1  2]\n",
            " [ 0  0  3  0  4]\n",
            " [ 0  0  0  2  1]]\n",
            "Ранг матрицы: 4\n",
            "Ранг расширенной матрицы: 4\n"
          ],
          "name": "stdout"
        }
      ]
    },
    {
      "cell_type": "markdown",
      "metadata": {
        "id": "7CS3SguQF8ml"
      },
      "source": [
        " Так как $rankA=rank \\tilde A=4$ — число неизвестных, то система определена, т. е. имеет единственное решение;\n",
        "\n"
      ]
    },
    {
      "cell_type": "markdown",
      "metadata": {
        "id": "SReag54EG44_"
      },
      "source": [
        "__4.__ Дана система линейных уравнений, заданная расширенной матрицей\n",
        "\n",
        "$$\\tilde{A}=\\begin{pmatrix}\n",
        "\\left.\\begin{matrix}\n",
        "1 & 2 & 3\\\\ \n",
        "4 & 5 & 6\\\\ \n",
        "7 & 8 & 9\n",
        "\\end{matrix}\\right|\n",
        "\\begin{matrix}\n",
        "a\\\\ \n",
        "b\\\\\n",
        "c\n",
        "\\end{matrix}\n",
        "\\end{pmatrix}.$$\n",
        "\n",
        "Найти соотношение между параметрами $a$, $b$ и $c$, при которых система является несовместной."
      ]
    },
    {
      "cell_type": "markdown",
      "metadata": {
        "id": "ANHceyGxMCzm"
      },
      "source": [
        " Решение: \n",
        "$$\\begin{pmatrix}\n",
        "1 & 2 & 3 & a \\\\ \n",
        "0 & 3 & 6& 4a-b \\\\ \n",
        "0 & 0 & 0& a+c-2 \n",
        "\\end{pmatrix}.$$\n",
        "Нужно, чтобы $a+c-2 \\neq 0$ при любых  a  и b. то есть $c \\neq  2-a$\n",
        "\n"
      ]
    },
    {
      "cell_type": "markdown",
      "metadata": {
        "id": "ETv4i-EBcweS"
      },
      "source": [
        "__1.__ Решить систему уравнений методом Крамера:\n",
        "\n",
        "   а) $\\begin{cases}\n",
        "x_{1}-2x_{2}=1 \\\\\n",
        "3x_{1}-4x_{2}=7\n",
        "\\end{cases}$\n",
        "Решение: $$x_{1}=\\frac{detA_{1}}{detA}= 10/2=5,$$\n",
        "$$x_{1}=\\frac{detA_{1}}{detA}= 4/2=2,$$"
      ]
    },
    {
      "cell_type": "markdown",
      "metadata": {
        "id": "6uTG0qVKd9Uj"
      },
      "source": [
        "   б) $\\begin{cases}\n",
        "2x_{1}-x_{2}+5x_{3}=10 \\\\\n",
        "x_{1}+x_{2}-3x_{3}=-2 \\\\\n",
        "2x_{1}+4x_{2}+x_{3}=1\n",
        "\\end{cases}$"
      ]
    },
    {
      "cell_type": "code",
      "metadata": {
        "colab": {
          "base_uri": "https://localhost:8080/"
        },
        "id": "N04P1CUaeSUC",
        "outputId": "5307bc41-c2d9-4ea0-bc1b-566ae9c0849f"
      },
      "source": [
        "a = np.array([[2,-1,5], [1,1,-3], [2,4,1]])\n",
        "print(f'Матрица:\\n{a}')\n",
        "print(f'Определитель:\\n{np.linalg.det(a):.0f}')"
      ],
      "execution_count": 23,
      "outputs": [
        {
          "output_type": "stream",
          "text": [
            "Матрица:\n",
            "[[ 2 -1  5]\n",
            " [ 1  1 -3]\n",
            " [ 2  4  1]]\n",
            "Определитель:\n",
            "43\n"
          ],
          "name": "stdout"
        }
      ]
    },
    {
      "cell_type": "code",
      "metadata": {
        "colab": {
          "base_uri": "https://localhost:8080/"
        },
        "id": "AD9x5Cx4eoN_",
        "outputId": "96b93244-da16-4a75-cb53-6a6a91b1495c"
      },
      "source": [
        "a1 = np.array([[10,-1,5], [-2,1,-3], [1,4,1]])\n",
        "print(f'Матрица:\\n{a1}')\n",
        "print(f'Определитель 1:\\n{np.linalg.det(a1):.0f}')\n",
        "print(f'Х1={np.linalg.det(a1)/np.linalg.det(a):.0f}')"
      ],
      "execution_count": 24,
      "outputs": [
        {
          "output_type": "stream",
          "text": [
            "Матрица:\n",
            "[[10 -1  5]\n",
            " [-2  1 -3]\n",
            " [ 1  4  1]]\n",
            "Определитель 1:\n",
            "86\n",
            "Х1=2\n"
          ],
          "name": "stdout"
        }
      ]
    },
    {
      "cell_type": "code",
      "metadata": {
        "colab": {
          "base_uri": "https://localhost:8080/"
        },
        "id": "_k26EaJ8fPNF",
        "outputId": "d200b944-2b78-4f97-b465-7510f8d0e138"
      },
      "source": [
        "a2 =  np.array([[2,10,5], [1,-2,-3], [2,1,1]])\n",
        "print(f'Матрица:\\n{a2}')\n",
        "print(f'Определитель 2:\\n{np.linalg.det(a2):.0f}')\n",
        "print(f'Х2={np.linalg.det(a2)/np.linalg.det(a):.0f}')"
      ],
      "execution_count": 25,
      "outputs": [
        {
          "output_type": "stream",
          "text": [
            "Матрица:\n",
            "[[ 2 10  5]\n",
            " [ 1 -2 -3]\n",
            " [ 2  1  1]]\n",
            "Определитель 2:\n",
            "-43\n",
            "Х2=-1\n"
          ],
          "name": "stdout"
        }
      ]
    },
    {
      "cell_type": "code",
      "metadata": {
        "colab": {
          "base_uri": "https://localhost:8080/"
        },
        "id": "2DBgK8b9fntQ",
        "outputId": "87f7fa5d-ce2d-4634-d28c-24f9f9fc666a"
      },
      "source": [
        "a3 =  np.array([[2,-1,10], [1,1,-2], [2,4,1]])\n",
        "print(f'Матрица:\\n{a3}')\n",
        "print(f'Определитель 3:\\n{np.linalg.det(a3):.0f}')\n",
        "print(f'Х3={np.linalg.det(a3)/np.linalg.det(a):.0f}')"
      ],
      "execution_count": 26,
      "outputs": [
        {
          "output_type": "stream",
          "text": [
            "Матрица:\n",
            "[[ 2 -1 10]\n",
            " [ 1  1 -2]\n",
            " [ 2  4  1]]\n",
            "Определитель 3:\n",
            "43\n",
            "Х3=1\n"
          ],
          "name": "stdout"
        }
      ]
    },
    {
      "cell_type": "markdown",
      "metadata": {
        "id": "Dqkh6QZ5hYso"
      },
      "source": [
        "__2*.__ Найти $L$-матрицу $LU$-разложения для матрицы коэффициентов:\n",
        "\n",
        "   а)$$\\begin{pmatrix}\n",
        "1 & 2 & 4 \\\\ \n",
        "2 & 9 & 12 \\\\ \n",
        "3 & 26 & 30\n",
        "\\end{pmatrix}$$"
      ]
    },
    {
      "cell_type": "code",
      "metadata": {
        "colab": {
          "base_uri": "https://localhost:8080/"
        },
        "id": "qqUQcbr7lofE",
        "outputId": "5288ec03-1c77-4eef-9eb0-852fecdca5e4"
      },
      "source": [
        "U = np.array([[1, 2,4], [0, 5, 4], [0, 0, 2]])\n",
        "L = np.array([[1, 0,0], [2, 1, 0], [3, 4, 1]])\n",
        "\n",
        "print(f'Матрица U\\n{U}')\n",
        "print(f'Матрица L\\n{L}')\n",
        "print(f'Матрица LU\\n{np.dot(L, U)}')"
      ],
      "execution_count": 27,
      "outputs": [
        {
          "output_type": "stream",
          "text": [
            "Матрица U\n",
            "[[1 2 4]\n",
            " [0 5 4]\n",
            " [0 0 2]]\n",
            "Матрица L\n",
            "[[1 0 0]\n",
            " [2 1 0]\n",
            " [3 4 1]]\n",
            "Матрица LU\n",
            "[[ 1  2  4]\n",
            " [ 2  9 12]\n",
            " [ 3 26 30]]\n"
          ],
          "name": "stdout"
        }
      ]
    },
    {
      "cell_type": "markdown",
      "metadata": {
        "id": "WAWDxOoondMt"
      },
      "source": [
        "б)$$\\begin{pmatrix}\n",
        "1 & 1 & 2 & 4\\\\ \n",
        "2 & 5 & 8 & 9\\\\ \n",
        "3 & 18 & 29 & 18\\\\\n",
        "4 & 22 & 53 & 33\n",
        "\\end{pmatrix}$$"
      ]
    },
    {
      "cell_type": "code",
      "metadata": {
        "colab": {
          "base_uri": "https://localhost:8080/"
        },
        "id": "8Gg7b38rni4R",
        "outputId": "650c5e45-7ce0-4dd9-c40d-ff492fadddf4"
      },
      "source": [
        "U = np.array([[1, 1,2,4], [0, 3, 4,1], [0, 0, 3,1],[0,0,21,11]])\n",
        "L = np.array([[1, 0,0,0], [2, 1, 0,0], [3, 5,1,0], [4, 6,0,1]])\n",
        "\n",
        "print(f'Матрица U\\n{U}')\n",
        "print(f'Матрица L\\n{L}')\n",
        "print(f'Матрица LU\\n{np.dot(L, U)}')"
      ],
      "execution_count": 28,
      "outputs": [
        {
          "output_type": "stream",
          "text": [
            "Матрица U\n",
            "[[ 1  1  2  4]\n",
            " [ 0  3  4  1]\n",
            " [ 0  0  3  1]\n",
            " [ 0  0 21 11]]\n",
            "Матрица L\n",
            "[[1 0 0 0]\n",
            " [2 1 0 0]\n",
            " [3 5 1 0]\n",
            " [4 6 0 1]]\n",
            "Матрица LU\n",
            "[[ 1  1  2  4]\n",
            " [ 2  5  8  9]\n",
            " [ 3 18 29 18]\n",
            " [ 4 22 53 33]]\n"
          ],
          "name": "stdout"
        }
      ]
    },
    {
      "cell_type": "markdown",
      "metadata": {
        "id": "6lP484T-pWGg"
      },
      "source": [
        "__3*.__ Решить систему линейных уравнений методом $LU$-разложения\n",
        "\n",
        "$$\\begin{cases}\n",
        "2x_{1}+x_{2}+3x_{3}=1 \\\\\n",
        "11x_{1}+7x_{2}+5x_{3}=-6 \\\\\n",
        "9x_{1}+8x_{2}+4x_{3}=-5\n",
        "\\end{cases}$$"
      ]
    },
    {
      "cell_type": "markdown",
      "metadata": {
        "id": "QrbHcK0rpqJS"
      },
      "source": [
        "Решение:  Матрица коэффициентов имеет вид: $$\\begin{pmatrix}\n",
        "2 & 1 & 3 \\\\ \n",
        "11 & 7 & 5 \\\\ \n",
        "9 & 8 & 4\n",
        "\\end{pmatrix}$$"
      ]
    },
    {
      "cell_type": "code",
      "metadata": {
        "colab": {
          "base_uri": "https://localhost:8080/"
        },
        "id": "1o8NJchLqCJq",
        "outputId": "921db696-4c01-44e7-ee64-f7e039661e18"
      },
      "source": [
        "U = np.array([[2, 1,3], [0, 3/2, -23/2], [0, 0, (-57+23*7)/6]])\n",
        "L = np.array([[1, 0,0], [11/2, 1, 0], [9/2, 7/3, 1]])\n",
        "\n",
        "print(f'Матрица U\\n{U}')\n",
        "print(f'Матрица L\\n{L}')\n",
        "print(f'Матрица LU\\n{np.dot(L, U)}')"
      ],
      "execution_count": 29,
      "outputs": [
        {
          "output_type": "stream",
          "text": [
            "Матрица U\n",
            "[[  2.           1.           3.        ]\n",
            " [  0.           1.5        -11.5       ]\n",
            " [  0.           0.          17.33333333]]\n",
            "Матрица L\n",
            "[[1.         0.         0.        ]\n",
            " [5.5        1.         0.        ]\n",
            " [4.5        2.33333333 1.        ]]\n",
            "Матрица LU\n",
            "[[ 2.  1.  3.]\n",
            " [11.  7.  5.]\n",
            " [ 9.  8.  4.]]\n"
          ],
          "name": "stdout"
        }
      ]
    },
    {
      "cell_type": "markdown",
      "metadata": {
        "id": "zU4pqRjqt_5Y"
      },
      "source": [
        "$y1=1$\n",
        "\n",
        "$y2= -11,5$\n",
        "\n",
        "$y3= -9,5-7/3*23/2$\n",
        "\n",
        "$x3= (-9.5-7/3*23/2)/  (-57+23*7)/6= -1$\n",
        "\n",
        "$x2 = -46/3$\n",
        "\n",
        "$x1 = 29/3$"
      ]
    },
    {
      "cell_type": "markdown",
      "metadata": {
        "id": "Yj-l-Qs7xoYO"
      },
      "source": [
        "\n",
        "__4*.__ Решить систему линейных уравнений методом Холецкого\n",
        "\n",
        "$$\\begin{cases}\n",
        "81x_{1}-45x_{2}+45x_{3}=531 \\\\\n",
        "-45x_{1}+50x_{2}-15x_{3}=-460 \\\\\n",
        "45x_{1}-15x_{2}+38x_{3}=193\n",
        "\\end{cases}$$"
      ]
    },
    {
      "cell_type": "code",
      "metadata": {
        "colab": {
          "base_uri": "https://localhost:8080/"
        },
        "id": "nf4LyD9m32_s",
        "outputId": "ec16c128-f133-4295-d190-913195360222"
      },
      "source": [
        "import numpy as np\n",
        "a = np.array([[81, -45,44], [-45, 50, -15], [45, -15, 38]])\n",
        "w, v = np.linalg.eig(a)\n",
        "print(f'Матрица A:\\n{a}')\n",
        "print(f'Матрица A:\\n{a.T}')\n",
        "print(f'Определитель:\\n{np.linalg.det(a):.0f}')\n",
        "print(f'Собственные значения:\\n{w}')\n",
        "L = np.array([[9, 0,0], [-5, 5, 0], [5, 2, 3]])\n",
        "print(f'Матрица L\\n{L}')\n",
        "print(f'Матрица LLt\\n{L@L.T}')\n",
        "y1=531/9\n",
        "y2=(-460+5*y1)/5\n",
        "y3=(193-5*y1-2*y2)/3\n",
        "print(f'y1={y1}')\n",
        "print(f'y2={y2}')\n",
        "print(f'y3={y3}')\n",
        "print(f'Матрица Lt\\n{L.T}')\n",
        "x3=y3/3\n",
        "x2=(y2-2*x3)/5\n",
        "x1=(y1-5*x3+5*x2)/9\n",
        "print(f'x3={x3}')\n",
        "print(f'x2={x2}')\n",
        "print(f'x1={x1}')\n",
        "print(f'проверка {a@[x1,x2,x3]}')"
      ],
      "execution_count": 30,
      "outputs": [
        {
          "output_type": "stream",
          "text": [
            "Матрица A:\n",
            "[[ 81 -45  44]\n",
            " [-45  50 -15]\n",
            " [ 45 -15  38]]\n",
            "Матрица A:\n",
            "[[ 81 -45  45]\n",
            " [-45  50 -15]\n",
            " [ 44 -15  38]]\n",
            "Определитель:\n",
            "19800\n",
            "Собственные значения:\n",
            "[134.39565305   4.97176337  29.63258358]\n",
            "Матрица L\n",
            "[[ 9  0  0]\n",
            " [-5  5  0]\n",
            " [ 5  2  3]]\n",
            "Матрица LLt\n",
            "[[ 81 -45  45]\n",
            " [-45  50 -15]\n",
            " [ 45 -15  38]]\n",
            "y1=59.0\n",
            "y2=-33.0\n",
            "y3=-12.0\n",
            "Матрица Lt\n",
            "[[ 9 -5  5]\n",
            " [ 0  5  2]\n",
            " [ 0  0  3]]\n",
            "x3=-4.0\n",
            "x2=-5.0\n",
            "x1=6.0\n",
            "проверка [ 535. -460.  193.]\n"
          ],
          "name": "stdout"
        }
      ]
    }
  ]
}