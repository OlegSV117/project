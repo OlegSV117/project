{
  "nbformat": 4,
  "nbformat_minor": 0,
  "metadata": {
    "colab": {
      "name": "TV4.ipynb\"",
      "provenance": [],
      "collapsed_sections": [],
      "include_colab_link": true
    },
    "kernelspec": {
      "display_name": "Python 3",
      "language": "python",
      "name": "python3"
    }
  },
  "cells": [
    {
      "cell_type": "markdown",
      "metadata": {
        "id": "view-in-github",
        "colab_type": "text"
      },
      "source": [
        "<a href=\"https://colab.research.google.com/github/OlegSV117/project/blob/dev-kraken/TV4_ipynb%22.ipynb\" target=\"_parent\"><img src=\"https://colab.research.google.com/assets/colab-badge.svg\" alt=\"Open In Colab\"/></a>"
      ]
    },
    {
      "cell_type": "markdown",
      "metadata": {
        "id": "snzQ6I-GNKuz"
      },
      "source": [
        "## Урок *4* Непрерывные случайные величины. Функция распределения и плотность распределения вероятностей. Равномерное и нормальное распределение. Центральная предельная теорема"
      ]
    },
    {
      "cell_type": "markdown",
      "metadata": {
        "id": "eoIjKvLSNKu-"
      },
      "source": [
        "1. Случайная непрерывная величина A имеет равномерное распределение на промежутке (200, 800].\n",
        "Найдите ее среднее значение и дисперсию."
      ]
    },
    {
      "cell_type": "markdown",
      "metadata": {
        "id": "ZjTL40gJOGIo"
      },
      "source": [
        "$$f(x) = \\begin{cases} 0, если \\; x \\le a; \\\\ \\frac{1}{b - a}, если \\; a < x \\le b; \\\\ 0, \\; если \\; x > b. \\end{cases}$$\n",
        "$$M(X) = \\frac{a + b}{2}$$\n",
        "$$D(X) = \\frac{(b - a)^2}{12}$$"
      ]
    },
    {
      "cell_type": "code",
      "metadata": {
        "colab": {
          "base_uri": "https://localhost:8080/"
        },
        "id": "bCiNB4qn47Gs",
        "outputId": "f7a8c43c-7efe-4de4-d738-a0dcebc7d8d6"
      },
      "source": [
        "a_A =200\n",
        "b_A =800\n",
        "mean_A=(a_A +b_A)/2\n",
        "mean_A"
      ],
      "execution_count": 22,
      "outputs": [
        {
          "output_type": "execute_result",
          "data": {
            "text/plain": [
              "500.0"
            ]
          },
          "metadata": {
            "tags": []
          },
          "execution_count": 22
        }
      ]
    },
    {
      "cell_type": "code",
      "metadata": {
        "colab": {
          "base_uri": "https://localhost:8080/"
        },
        "id": "gaz6c4GnO1iJ",
        "outputId": "adb5c9e3-b35f-4dd5-a247-548973b65010"
      },
      "source": [
        "var_A=((b_A-a_A)**2)/12\n",
        "var_A"
      ],
      "execution_count": 23,
      "outputs": [
        {
          "output_type": "execute_result",
          "data": {
            "text/plain": [
              "30000.0"
            ]
          },
          "metadata": {
            "tags": []
          },
          "execution_count": 23
        }
      ]
    },
    {
      "cell_type": "markdown",
      "metadata": {
        "id": "IbNBxy5FPQIZ"
      },
      "source": [
        "2. О случайной непрерывной равномерно распределенной величине B известно, что ее дисперсия равна 0.2.\n",
        "Можно ли найти правую границу величины B и ее среднее значение зная, что левая граница равна 0.5?\n",
        "Если да, найдите ее."
      ]
    },
    {
      "cell_type": "code",
      "metadata": {
        "colab": {
          "base_uri": "https://localhost:8080/"
        },
        "id": "WFAmB4A0O1I4",
        "outputId": "4f2d6cc2-2b76-4bb1-82a4-f7aeb92e83f8"
      },
      "source": [
        "a_B = 0.5\n",
        "var_B = 0.2\n",
        "b_B = a_B + (12*var_B)**(1/2)\n",
        "b_B"
      ],
      "execution_count": 24,
      "outputs": [
        {
          "output_type": "execute_result",
          "data": {
            "text/plain": [
              "2.049193338482967"
            ]
          },
          "metadata": {
            "tags": []
          },
          "execution_count": 24
        }
      ]
    },
    {
      "cell_type": "code",
      "metadata": {
        "colab": {
          "base_uri": "https://localhost:8080/"
        },
        "id": "j6qBI0JyO0PY",
        "outputId": "74b77ce3-4683-4dd4-87b3-09bb984ee10a"
      },
      "source": [
        "mean_B = (a_B + b_B)/2\n",
        "mean_B"
      ],
      "execution_count": 25,
      "outputs": [
        {
          "output_type": "execute_result",
          "data": {
            "text/plain": [
              "1.2745966692414834"
            ]
          },
          "metadata": {
            "tags": []
          },
          "execution_count": 25
        }
      ]
    },
    {
      "cell_type": "markdown",
      "metadata": {
        "id": "M9PQikw5SbiN"
      },
      "source": [
        "3. Непрерывная случайная величина X распределена нормально и задана плотностью распределения\n",
        "f(x) = (1 / (4 * sqrt(2*pi))) * (exp(-((x+2)^2) / 32))\n",
        "Найдите:\n",
        "а). M(X)\n",
        "б). D(X)\n",
        "в). std(X) (среднее квадратичное отклонение)"
      ]
    },
    {
      "cell_type": "markdown",
      "metadata": {
        "id": "qPF3tQROSbMe"
      },
      "source": [
        "$$f(x) = \\frac{1}{\\sigma \\sqrt{2 \\pi}} e ^ {- \\frac{(x - a)^2}{2 \\sigma^2}},$$\n",
        "где $a = M(X), \\; \\sigma^2 = D(X).$"
      ]
    },
    {
      "cell_type": "markdown",
      "metadata": {
        "id": "fD2Wje0RU1Rb"
      },
      "source": [
        "Ответ:\n",
        "\n",
        "а) M(X) = a = -2\n",
        "\n",
        "б) D(X) = $\\sigma^2$ = 16\n",
        "\n",
        "в) $\\sigma = 4$ "
      ]
    },
    {
      "cell_type": "markdown",
      "metadata": {
        "id": "qzxjGF10VGZY"
      },
      "source": [
        "4. Рост взрослого населения города X имеет нормальное распределение.\n",
        "Причем, средний рост равен 174 см, а среднее квадратичное отклонение равно 8 см.\n",
        "Какова вероятность того, что случайным образом выбранный взрослый человек имеет рост:\n",
        "а). больше 182 см\n",
        "б). больше 190 см\n",
        "в). от 166 см до 190 см\n",
        "г). от 166 см до 182 см\n",
        "д). от 158 см до 190 см\n",
        "е). не выше 150 см или не ниже 190 см\n",
        "ё). не выше 150 см или не ниже 198 см\n",
        "ж). ниже 166 см."
      ]
    },
    {
      "cell_type": "code",
      "metadata": {
        "colab": {
          "base_uri": "https://localhost:8080/"
        },
        "id": "ASBIU5_fUPkL",
        "outputId": "4f2e4551-d27d-4e61-808b-1447f3a9fcee"
      },
      "source": [
        "a_X = 174-8* 3**(1/2)\n",
        "a_X"
      ],
      "execution_count": 26,
      "outputs": [
        {
          "output_type": "execute_result",
          "data": {
            "text/plain": [
              "160.14359353944897"
            ]
          },
          "metadata": {
            "tags": []
          },
          "execution_count": 26
        }
      ]
    },
    {
      "cell_type": "code",
      "metadata": {
        "colab": {
          "base_uri": "https://localhost:8080/"
        },
        "id": "qFBdC2y8T2uy",
        "outputId": "5aae55e9-78ff-47b1-c87f-a88dd797f09d"
      },
      "source": [
        "b_X = 174+8* 3**(1/2)\n",
        "b_X\n"
      ],
      "execution_count": 27,
      "outputs": [
        {
          "output_type": "execute_result",
          "data": {
            "text/plain": [
              "187.85640646055103"
            ]
          },
          "metadata": {
            "tags": []
          },
          "execution_count": 27
        }
      ]
    },
    {
      "cell_type": "code",
      "metadata": {
        "colab": {
          "base_uri": "https://localhost:8080/"
        },
        "id": "l4_JF4iLSVLY",
        "outputId": "3599a82d-4935-4ee8-a146-a1642079e77f"
      },
      "source": [
        "# Какова вероятность того, что случайным образом выбранный взрослый человек имеет рост: а). больше 182 см\n",
        "(b_X-182)* (1/(b_X -a_X))"
      ],
      "execution_count": 29,
      "outputs": [
        {
          "output_type": "execute_result",
          "data": {
            "text/plain": [
              "0.21132486540518733"
            ]
          },
          "metadata": {
            "tags": []
          },
          "execution_count": 29
        }
      ]
    },
    {
      "cell_type": "markdown",
      "metadata": {
        "id": "N7r6DyHCXhAJ"
      },
      "source": [
        "Какова вероятность того, что случайным образом выбранный взрослый человек имеет рост: б). больше 190 см \n",
        "\n",
        "0"
      ]
    },
    {
      "cell_type": "code",
      "metadata": {
        "colab": {
          "base_uri": "https://localhost:8080/"
        },
        "id": "ammmP0xnXQ2T",
        "outputId": "7af0cbe4-75d7-43f5-ea91-28ccbb2b6b9f"
      },
      "source": [
        "# Какова вероятность того, что случайным образом выбранный взрослый человек имеет рост: в). от 166 см до 190 см \n",
        "(b_X-166)* (1/(b_X -a_X))\n",
        "\n"
      ],
      "execution_count": 30,
      "outputs": [
        {
          "output_type": "execute_result",
          "data": {
            "text/plain": [
              "0.7886751345948128"
            ]
          },
          "metadata": {
            "tags": []
          },
          "execution_count": 30
        }
      ]
    },
    {
      "cell_type": "code",
      "metadata": {
        "colab": {
          "base_uri": "https://localhost:8080/"
        },
        "id": "rciJl-syYNGc",
        "outputId": "390c35e9-a93b-4c57-95b4-460192bdad31"
      },
      "source": [
        "# Какова вероятность того, что случайным образом выбранный взрослый человек имеет рост: г). от 166 см до 182 см \n",
        "(182-166)* (1/(b_X -a_X))"
      ],
      "execution_count": 31,
      "outputs": [
        {
          "output_type": "execute_result",
          "data": {
            "text/plain": [
              "0.5773502691896254"
            ]
          },
          "metadata": {
            "tags": []
          },
          "execution_count": 31
        }
      ]
    },
    {
      "cell_type": "code",
      "metadata": {
        "colab": {
          "base_uri": "https://localhost:8080/"
        },
        "id": "6SoWzQXSYegM",
        "outputId": "810d586c-7268-4b33-817e-551b00b7c3ee"
      },
      "source": [
        "# Какова вероятность того, что случайным образом выбранный взрослый человек имеет рост: д). от 158 см до 190 см \n",
        "\n",
        "(b_X-a_X)* (1/(b_X -a_X))"
      ],
      "execution_count": 32,
      "outputs": [
        {
          "output_type": "execute_result",
          "data": {
            "text/plain": [
              "1.0"
            ]
          },
          "metadata": {
            "tags": []
          },
          "execution_count": 32
        }
      ]
    },
    {
      "cell_type": "markdown",
      "metadata": {
        "id": "E3iTMWl1ZBei"
      },
      "source": [
        "Какова вероятность того, что случайным образом выбранный взрослый человек имеет рост: е). не выше 150 см или не ниже 190 см\n",
        "\n",
        "0\n",
        "\n",
        "Какова вероятность того, что случайным образом выбранный взрослый человек имеет рост: ё). не выше 150 см или не ниже 198 см\n",
        "\n",
        "\n",
        "0"
      ]
    },
    {
      "cell_type": "code",
      "metadata": {
        "colab": {
          "base_uri": "https://localhost:8080/"
        },
        "id": "NvCawkECZy3Y",
        "outputId": "f5e4a0dc-88e0-4bad-f3b0-c4fa3e2cefa5"
      },
      "source": [
        "# Какова вероятность того, что случайным образом выбранный взрослый человек имеет рост: ж). ниже 166 см.\n",
        "\n",
        "(166-a_X)* (1/(b_X -a_X))"
      ],
      "execution_count": 34,
      "outputs": [
        {
          "output_type": "execute_result",
          "data": {
            "text/plain": [
              "0.21132486540518733"
            ]
          },
          "metadata": {
            "tags": []
          },
          "execution_count": 34
        }
      ]
    },
    {
      "cell_type": "markdown",
      "metadata": {
        "id": "Nh4EJ_x8amrh"
      },
      "source": [
        "5. На сколько сигм (средних квадратичных отклонений) отклоняется рост человека, равный 190 см, от\n",
        "математического ожидания роста в популяции, в которой M(X) = 178 см и D(X) = 25 кв.см?"
      ]
    },
    {
      "cell_type": "code",
      "metadata": {
        "colab": {
          "base_uri": "https://localhost:8080/"
        },
        "id": "L5a5lPkaa7Rj",
        "outputId": "f8813a11-7380-4fce-ae2d-b534dead6edc"
      },
      "source": [
        "(190-178)/5"
      ],
      "execution_count": 33,
      "outputs": [
        {
          "output_type": "execute_result",
          "data": {
            "text/plain": [
              "2.4"
            ]
          },
          "metadata": {
            "tags": []
          },
          "execution_count": 33
        }
      ]
    }
  ]
}