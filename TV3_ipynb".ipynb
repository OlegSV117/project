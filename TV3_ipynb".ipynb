{
  "nbformat": 4,
  "nbformat_minor": 0,
  "metadata": {
    "colab": {
      "name": "TV3.ipynb\"",
      "provenance": [],
      "collapsed_sections": [],
      "include_colab_link": true
    },
    "kernelspec": {
      "display_name": "Python 3",
      "language": "python",
      "name": "python3"
    }
  },
  "cells": [
    {
      "cell_type": "markdown",
      "metadata": {
        "id": "view-in-github",
        "colab_type": "text"
      },
      "source": [
        "<a href=\"https://colab.research.google.com/github/OlegSV117/project/blob/dev-kraken/TV3_ipynb%22.ipynb\" target=\"_parent\"><img src=\"https://colab.research.google.com/assets/colab-badge.svg\" alt=\"Open In Colab\"/></a>"
      ]
    },
    {
      "cell_type": "markdown",
      "metadata": {
        "id": "snzQ6I-GNKuz"
      },
      "source": [
        "## Урок 3"
      ]
    },
    {
      "cell_type": "markdown",
      "metadata": {
        "id": "eoIjKvLSNKu-"
      },
      "source": [
        "1. Даны значения зарплат из выборки выпускников: 100, 80, 75, 77, 89, 33, 45, 25, 65, 17, 30, 24, 57, 55, 70, 75, 65, 84, 90, 150. Посчитать (желательно без использования статистических методов наподобие std, var, mean) среднее арифметическое, среднее квадратичное отклонение, смещенную и несмещенную оценки дисперсий для данной выборки."
      ]
    },
    {
      "cell_type": "code",
      "metadata": {
        "id": "-4cuZUZG4g-B"
      },
      "source": [
        "my_list=[100, 80, 75, 77, 89, 33, 45, 25, 65, 17, 30, 24, 57, 55, 70, 75, 65, 84, 90, 150]\n",
        "\n"
      ],
      "execution_count": 18,
      "outputs": []
    },
    {
      "cell_type": "markdown",
      "metadata": {
        "id": "TkKGhkng44c0"
      },
      "source": [
        "Математическое ожидание (смещенное)\n",
        "$$M(X) = \\frac{1}{n} \\sum\\limits_{i=1}^{n} x_i$$"
      ]
    },
    {
      "cell_type": "markdown",
      "metadata": {
        "id": "YMWtsiIBFe-S"
      },
      "source": [
        "Смещенная дисперсия\n",
        "$$\\sigma^2 = \\frac{\\sum\\limits_{i=1}^{n} (x_i - \\overline{x})^2}{n}$$\n"
      ]
    },
    {
      "cell_type": "markdown",
      "metadata": {
        "id": "SQeh1MQw7VuL"
      },
      "source": [
        "Среднеквадратичное отклонение (смещенное и несмещенное)\n",
        "$$\\sigma = \\sqrt{\\frac{\\sum\\limits_{i=1}^{n} (x_i - \\overline{x})^2}{n}}$$\n",
        "$$\\sigma^2_{несмещ.} = \\frac{\\sum\\limits_{i=1}^{n} (x_i - \\overline{x})^2}{n - 1}$$"
      ]
    },
    {
      "cell_type": "code",
      "metadata": {
        "colab": {
          "base_uri": "https://localhost:8080/"
        },
        "id": "bCiNB4qn47Gs",
        "outputId": "d7f95d52-477f-47b9-b645-d17c0bf55c84"
      },
      "source": [
        "#  несмещенное математическое ожидание\n",
        "mean_my_list=sum(my_list)/(len(my_list)-1)\n",
        "mean_my_list"
      ],
      "execution_count": 12,
      "outputs": [
        {
          "output_type": "execute_result",
          "data": {
            "text/plain": [
              "68.73684210526316"
            ]
          },
          "metadata": {
            "tags": []
          },
          "execution_count": 12
        }
      ]
    },
    {
      "cell_type": "code",
      "metadata": {
        "colab": {
          "base_uri": "https://localhost:8080/"
        },
        "id": "wQ26y6PQBcbh",
        "outputId": "4096547a-32a6-4b12-8d9a-96e9d2375866"
      },
      "source": [
        "#  смещенное математическое ожидание\n",
        "import numpy as np\n",
        "np.mean(my_list)"
      ],
      "execution_count": 13,
      "outputs": [
        {
          "output_type": "execute_result",
          "data": {
            "text/plain": [
              "65.3"
            ]
          },
          "metadata": {
            "tags": []
          },
          "execution_count": 13
        }
      ]
    },
    {
      "cell_type": "code",
      "metadata": {
        "colab": {
          "base_uri": "https://localhost:8080/"
        },
        "id": "351q4IQ77bfF",
        "outputId": "9d98227f-d5a4-40b0-bbe9-00ae065e9e61"
      },
      "source": [
        "#  несмещенная дисперсия\n",
        "s=0\n",
        "for elem in my_list:\n",
        "  s+=(elem - mean_my_list)**2\n",
        "var_my_list= (s/(len(my_list)-1))\n",
        "var_my_list"
      ],
      "execution_count": 14,
      "outputs": [
        {
          "output_type": "execute_result",
          "data": {
            "text/plain": [
              "1012.5493512173788"
            ]
          },
          "metadata": {
            "tags": []
          },
          "execution_count": 14
        }
      ]
    },
    {
      "cell_type": "code",
      "metadata": {
        "colab": {
          "base_uri": "https://localhost:8080/"
        },
        "id": "mGE1uRAy--Me",
        "outputId": "45c200cf-0ad6-4b42-f0c3-15d2c221fe23"
      },
      "source": [
        "#  смещенная дисперсия\n",
        "np.var(my_list)"
      ],
      "execution_count": 25,
      "outputs": [
        {
          "output_type": "execute_result",
          "data": {
            "text/plain": [
              "950.11"
            ]
          },
          "metadata": {
            "tags": []
          },
          "execution_count": 25
        }
      ]
    },
    {
      "cell_type": "code",
      "metadata": {
        "colab": {
          "base_uri": "https://localhost:8080/"
        },
        "id": "11buWv5Q46iP",
        "outputId": "c2dfd58b-deea-4117-a4f5-45dbd302f514"
      },
      "source": [
        "#  несмещенная дисперсия\n",
        "import pandas as pd\n",
        "my_list_df = pd.DataFrame(my_list)\n",
        "my_list_df.var(ddof=1)"
      ],
      "execution_count": 26,
      "outputs": [
        {
          "output_type": "execute_result",
          "data": {
            "text/plain": [
              "0    1000.115789\n",
              "dtype: float64"
            ]
          },
          "metadata": {
            "tags": []
          },
          "execution_count": 26
        }
      ]
    },
    {
      "cell_type": "code",
      "metadata": {
        "colab": {
          "base_uri": "https://localhost:8080/"
        },
        "id": "1iECrnFIDnTq",
        "outputId": "d34c5ff9-5405-497b-aa86-35e9c037b9f2"
      },
      "source": [
        "#  несмещенная дисперсия\n",
        "std_my_list=(var_my_list)**(1/2)\n",
        "std_my_list\n"
      ],
      "execution_count": 27,
      "outputs": [
        {
          "output_type": "execute_result",
          "data": {
            "text/plain": [
              "31.820580623511237"
            ]
          },
          "metadata": {
            "tags": []
          },
          "execution_count": 27
        }
      ]
    },
    {
      "cell_type": "code",
      "metadata": {
        "colab": {
          "base_uri": "https://localhost:8080/"
        },
        "id": "QpbRjeCAFCVM",
        "outputId": "ea5e28ea-922f-4abc-89e0-640f59f8cfe2"
      },
      "source": [
        "#  несмещенная дисперсия\n",
        "my_list_df.std(ddof=1)"
      ],
      "execution_count": 28,
      "outputs": [
        {
          "output_type": "execute_result",
          "data": {
            "text/plain": [
              "0    31.624607\n",
              "dtype: float64"
            ]
          },
          "metadata": {
            "tags": []
          },
          "execution_count": 28
        }
      ]
    },
    {
      "cell_type": "markdown",
      "metadata": {
        "id": "FvHgawDEGZ_g"
      },
      "source": [
        "**Задача 2.** В первом ящике находится 8 мячей, из которых 5 - белые. Во втором ящике - 12 мячей, из которых 5 белых. Из первого ящика вытаскивают случайным образом два мяча, из второго - 4. Какова вероятность того, что 3 мяча белые?"
      ]
    },
    {
      "cell_type": "markdown",
      "metadata": {
        "id": "RzbyJdwjTZPh"
      },
      "source": [
        "Решение\n",
        " $$ C^3_6 p^3_Б \\cdot (1-p_Б)^3 $$"
      ]
    },
    {
      "cell_type": "code",
      "metadata": {
        "colab": {
          "base_uri": "https://localhost:8080/"
        },
        "id": "LhqbU52wUmIZ",
        "outputId": "19827ecf-b414-41b3-d83d-8f2b15cc6d0c"
      },
      "source": [
        "p=1/2*5/8 + 1/2*5/12\n",
        "4*5*(25/48 * 23/48)**3\n",
        "pp= 4*5*(p *(1-p))**3\n",
        "pp"
      ],
      "execution_count": 29,
      "outputs": [
        {
          "output_type": "execute_result",
          "data": {
            "text/plain": [
              "0.3108752198997675"
            ]
          },
          "metadata": {
            "tags": []
          },
          "execution_count": 29
        }
      ]
    },
    {
      "cell_type": "markdown",
      "metadata": {
        "id": "IZWORIt1Gpxl"
      },
      "source": [
        "**Задача 3.** На соревновании по биатлону один из трех спортсменов стреляет и попадает в мишень. Вероятность попадания для первого спортсмена равна 0.9, для второго — 0.8, для третьего — 0.6. Найти вероятность того, что выстрел произведен: a). первым спортсменом б). вторым спортсменом в). третьим спортсменом."
      ]
    },
    {
      "cell_type": "markdown",
      "metadata": {
        "id": "th5Mf9w8GpdD"
      },
      "source": [
        "$$P(B\\:|\\:A) = \\frac{P(B) \\cdot P(A\\:|\\:B)}{P(A)}$$"
      ]
    },
    {
      "cell_type": "code",
      "metadata": {
        "colab": {
          "base_uri": "https://localhost:8080/"
        },
        "id": "HoZZDw7GWp_3",
        "outputId": "af596ebb-8259-4e24-ecdc-40644e756c5b"
      },
      "source": [
        "p1=(1/3 *0.9)/(1/3 *0.9+1/3 *0.8+1/3 *0.6) \n",
        "p1"
      ],
      "execution_count": 30,
      "outputs": [
        {
          "output_type": "execute_result",
          "data": {
            "text/plain": [
              "0.391304347826087"
            ]
          },
          "metadata": {
            "tags": []
          },
          "execution_count": 30
        }
      ]
    },
    {
      "cell_type": "code",
      "metadata": {
        "colab": {
          "base_uri": "https://localhost:8080/"
        },
        "id": "gUM45YmjX8FR",
        "outputId": "f36fb048-2d06-49f5-bbbf-f6bf76ef77c0"
      },
      "source": [
        "p2=(1/3 *0.8)/(1/3 *0.9+1/3 *0.8+1/3 *0.6) \n",
        "p2"
      ],
      "execution_count": 31,
      "outputs": [
        {
          "output_type": "execute_result",
          "data": {
            "text/plain": [
              "0.3478260869565218"
            ]
          },
          "metadata": {
            "tags": []
          },
          "execution_count": 31
        }
      ]
    },
    {
      "cell_type": "code",
      "metadata": {
        "colab": {
          "base_uri": "https://localhost:8080/"
        },
        "id": "n-QdTlIPYCfa",
        "outputId": "8d55c9d1-74bf-4cfb-adb1-12ee0ff3eb3c"
      },
      "source": [
        "p3=(1/3 *0.6)/(1/3 *0.9+1/3 *0.8+1/3 *0.6) \n",
        "p3"
      ],
      "execution_count": 32,
      "outputs": [
        {
          "output_type": "execute_result",
          "data": {
            "text/plain": [
              "0.2608695652173913"
            ]
          },
          "metadata": {
            "tags": []
          },
          "execution_count": 32
        }
      ]
    },
    {
      "cell_type": "markdown",
      "metadata": {
        "id": "D7mxq1LEYhJV"
      },
      "source": [
        "**Задача 4.** В университет на факультеты A и B поступило равное количество студентов, а на факультет C студентов поступило столько же, сколько на A и B вместе. Вероятность того, что студент факультета A сдаст первую сессию, равна 0.8. Для студента факультета B эта вероятность равна 0.7, а для студента факультета C - 0.9. Студент сдал первую сессию. Какова вероятность, что он учится: a). на факультете A б). на факультете B в). на факультете C?"
      ]
    },
    {
      "cell_type": "code",
      "metadata": {
        "colab": {
          "base_uri": "https://localhost:8080/"
        },
        "id": "nivwCEZWQzhS",
        "outputId": "f99e4a86-52cd-41da-f0ba-9ed86f7b4e07"
      },
      "source": [
        "#Вероятность, что сдавший сессию студент учится на факультете А\n",
        "pA=(1/4 *0.8)/(1/4 *0.8+1/4 *0.7+1/2 *0.9) \n",
        "pA"
      ],
      "execution_count": 34,
      "outputs": [
        {
          "output_type": "execute_result",
          "data": {
            "text/plain": [
              "0.24242424242424246"
            ]
          },
          "metadata": {
            "tags": []
          },
          "execution_count": 34
        }
      ]
    },
    {
      "cell_type": "code",
      "metadata": {
        "colab": {
          "base_uri": "https://localhost:8080/"
        },
        "id": "0c5FnddURaVm",
        "outputId": "db52caec-a093-44fb-f0ab-ac73324a06d6"
      },
      "source": [
        "#Вероятность, что сдавший сессию студент учится на факультете B\n",
        "pB=(1/4 *0.7)/(1/4 *0.8+1/4 *0.7+1/2 *0.9) \n",
        "pB"
      ],
      "execution_count": 35,
      "outputs": [
        {
          "output_type": "execute_result",
          "data": {
            "text/plain": [
              "0.21212121212121213"
            ]
          },
          "metadata": {
            "tags": []
          },
          "execution_count": 35
        }
      ]
    },
    {
      "cell_type": "code",
      "metadata": {
        "colab": {
          "base_uri": "https://localhost:8080/"
        },
        "id": "vvZY4GaWRi6g",
        "outputId": "04298f7b-a51d-429f-fdfa-e6fa39712e7c"
      },
      "source": [
        "#Вероятность, что сдавший сессию студент учится на факультете C\n",
        "pC=(1/2 *0.9)/(1/4 *0.8+1/4 *0.7+1/2 *0.9) \n",
        "pC"
      ],
      "execution_count": 36,
      "outputs": [
        {
          "output_type": "execute_result",
          "data": {
            "text/plain": [
              "0.5454545454545455"
            ]
          },
          "metadata": {
            "tags": []
          },
          "execution_count": 36
        }
      ]
    },
    {
      "cell_type": "markdown",
      "metadata": {
        "id": "dbkSLmkiRpmK"
      },
      "source": [
        "**Задача 5.** Устройство состоит из трех деталей. Для первой детали вероятность выйти из строя в первый месяц равна 0.1, для второй - 0.2, для третьей - 0.25. Какова вероятность того, что в первый месяц выйдут из строя: а). все детали б). только две детали в). хотя бы одна деталь г). от одной до двух деталей?"
      ]
    },
    {
      "cell_type": "code",
      "metadata": {
        "colab": {
          "base_uri": "https://localhost:8080/"
        },
        "id": "yOkF1XvBTgFU",
        "outputId": "cd2c657f-f385-45d5-c14f-6f6eca65ecb9"
      },
      "source": [
        "# Вероятность того, что в первый месяц выйдут из строя: а). все детали\n",
        "0.1*0.2*0.25"
      ],
      "execution_count": 37,
      "outputs": [
        {
          "output_type": "execute_result",
          "data": {
            "text/plain": [
              "0.005000000000000001"
            ]
          },
          "metadata": {
            "tags": []
          },
          "execution_count": 37
        }
      ]
    },
    {
      "cell_type": "code",
      "metadata": {
        "colab": {
          "base_uri": "https://localhost:8080/"
        },
        "id": "Y21X70hhTxdN",
        "outputId": "b9b49b57-e301-4667-894c-12a38de5c14d"
      },
      "source": [
        "# Вероятность того, что в первый месяц выйдут из строя: б). только две детали\n",
        "0.1*0.2+0.2*0.25+0.2*0.25\n"
      ],
      "execution_count": 38,
      "outputs": [
        {
          "output_type": "execute_result",
          "data": {
            "text/plain": [
              "0.12000000000000001"
            ]
          },
          "metadata": {
            "tags": []
          },
          "execution_count": 38
        }
      ]
    },
    {
      "cell_type": "code",
      "metadata": {
        "colab": {
          "base_uri": "https://localhost:8080/"
        },
        "id": "2cTXqpY9UDM2",
        "outputId": "7b8d15a0-0f7f-43f9-a069-3a2e17b8af7c"
      },
      "source": [
        "# Вероятность того, что в первый месяц выйдут из строя: в). хотя бы одна деталь\n",
        "0.1+0.2+0.25"
      ],
      "execution_count": 39,
      "outputs": [
        {
          "output_type": "execute_result",
          "data": {
            "text/plain": [
              "0.55"
            ]
          },
          "metadata": {
            "tags": []
          },
          "execution_count": 39
        }
      ]
    },
    {
      "cell_type": "code",
      "metadata": {
        "colab": {
          "base_uri": "https://localhost:8080/"
        },
        "id": "rbdIY0MBUPbX",
        "outputId": "5ae81b0d-65e8-4ff4-9793-21f9c8c4663b"
      },
      "source": [
        "# Вероятность того, что в первый месяц выйдут из строя: г). от одной до двух деталей\n",
        "1-(0.1+0.2+0.25)"
      ],
      "execution_count": 40,
      "outputs": [
        {
          "output_type": "execute_result",
          "data": {
            "text/plain": [
              "0.44999999999999996"
            ]
          },
          "metadata": {
            "tags": []
          },
          "execution_count": 40
        }
      ]
    }
  ]
}